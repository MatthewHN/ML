{
 "cells": [
  {
   "cell_type": "markdown",
   "metadata": {},
   "source": [
    "## Salary Estimator for Tech Positions in the USA\n",
    "### Made by:\n",
    "- Matthew S. Horne"
   ]
  },
  {
   "cell_type": "markdown",
   "metadata": {},
   "source": [
    "---"
   ]
  },
  {
   "cell_type": "markdown",
   "metadata": {},
   "source": [
    "## Data Description"
   ]
  },
  {
   "cell_type": "markdown",
   "metadata": {},
   "source": [
    "**I have chosen a Kaggle Database on the salaries earned by employees in job positions in the USA. I believe that analyzing this data can be interesting, even for personal benefit, as some friends and even myself are considering the possibility of going overseas to work. The data is specifically selected from companies in the Tech sector, although, as we will see, there are positions in Marketing and Human Resources, all of these are from technological companies.**\n",
    "\n",
    "**The Database collects data from a sample of over 6500 employees, for whom the following information is provided:**\n",
    "\n",
    "Age\n",
    "Gender\n",
    "Level of education\n",
    "Job position\n",
    "Years of experience in the position\n",
    "Salary\n",
    "\n",
    "**In this model, we will attempt to estimate an employee's salary based on the rest of the variables.**"
   ]
  },
  {
   "cell_type": "markdown",
   "metadata": {},
   "source": [
    "# First econometrics models"
   ]
  },
  {
   "cell_type": "markdown",
   "metadata": {},
   "source": [
    "### 1"
   ]
  },
  {
   "cell_type": "code",
   "metadata": {
    "ExecuteTime": {
     "end_time": "2025-05-12T18:56:51.416177Z",
     "start_time": "2025-05-12T18:56:51.403986Z"
    }
   },
   "source": [
    "import pandas as pd\n",
    "import statsmodels.api as sm\n",
    "import matplotlib.pylab as plt\n",
    "import numpy as np\n",
    "import statsmodels.stats.outliers_influence as oi\n",
    "import statsmodels.graphics.api as smg\n",
    "import statsmodels.stats.api as sms\n",
    "import statsmodels.stats.diagnostic as diag"
   ],
   "outputs": [],
   "execution_count": 72
  },
  {
   "cell_type": "markdown",
   "metadata": {},
   "source": [
    "For convenience, I like to have all the imports together and not have to repeat them or execute specific cells to avoid compiling the entire notebook"
   ]
  },
  {
   "cell_type": "code",
   "metadata": {
    "ExecuteTime": {
     "end_time": "2025-05-12T18:56:52.376143Z",
     "start_time": "2025-05-12T18:56:52.344145Z"
    }
   },
   "source": [
    "data = pd.read_csv('Salary_Data.csv')\n",
    "\n",
    "X = data.values[:, [0, 4]].astype(int)  # Age, Years of Experience\n",
    "Y = data.values[:, 5].astype(int)  # Salary\n",
    "\n",
    "results = sm.OLS(Y, sm.add_constant(X)).fit()\n",
    "\n",
    "print(results.summary())"
   ],
   "outputs": [
    {
     "name": "stdout",
     "output_type": "stream",
     "text": [
      "                            OLS Regression Results                            \n",
      "==============================================================================\n",
      "Dep. Variable:                      y   R-squared:                       0.665\n",
      "Model:                            OLS   Adj. R-squared:                  0.665\n",
      "Method:                 Least Squares   F-statistic:                     6539.\n",
      "Date:                Mon, 12 May 2025   Prob (F-statistic):               0.00\n",
      "Time:                        20:56:52   Log-Likelihood:                -77296.\n",
      "No. Observations:                6582   AIC:                         1.546e+05\n",
      "Df Residuals:                    6579   BIC:                         1.546e+05\n",
      "Df Model:                           2                                         \n",
      "Covariance Type:            nonrobust                                         \n",
      "==============================================================================\n",
      "                 coef    std err          t      P>|t|      [0.025      0.975]\n",
      "------------------------------------------------------------------------------\n",
      "const        9.89e+04   3462.794     28.559      0.000    9.21e+04    1.06e+05\n",
      "x1         -1672.0902    141.607    -11.808      0.000   -1949.687   -1394.494\n",
      "x2          9044.7257    178.238     50.745      0.000    8695.322    9394.129\n",
      "==============================================================================\n",
      "Omnibus:                      131.677   Durbin-Watson:                   0.206\n",
      "Prob(Omnibus):                  0.000   Jarque-Bera (JB):              164.363\n",
      "Skew:                           0.273   Prob(JB):                     2.04e-36\n",
      "Kurtosis:                       3.549   Cond. No.                         329.\n",
      "==============================================================================\n",
      "\n",
      "Notes:\n",
      "[1] Standard Errors assume that the covariance matrix of the errors is correctly specified.\n"
     ]
    }
   ],
   "execution_count": 73
  },
  {
   "cell_type": "markdown",
   "metadata": {},
   "source": [
    "**R-squared:**\n",
    "\n",
    "R-squared is a measure of how well the regression model fits the data. In this case, the value is 0.665, meaning that approximately 66.5% of the variability in the dependent variable (y) can be explained by the independent variables (x1 and x2) in the model. A higher R-squared value indicates a better fit of the model to the data. This value is expected to increase as the model becomes more complex and incorporates more key variables like Job Title or Education.\n",
    "\n",
    "**Adjusted R-squared:**\n",
    "\n",
    "Adjusted R-squared is similar to R-squared but takes into account the number of independent variables in the model. Here, the value is also 0.665, suggesting that the model's fit is consistent with the number of independent variables included.\n",
    "\n",
    "**F-statistic:**\n",
    "\n",
    "The F-statistic is used to evaluate the overall significance of all the independent variables in the model. A large F-statistic value (in this case, 6539) with a small p-value (0.00) suggests that at least one of the independent variables significantly explains variability in the dependent variable.\n",
    "\n",
    "**Coefficients:**\n",
    "\n",
    "Under the \"coef\" section, the estimated coefficients for the variables in the model are observed. In this model, there are three coefficients: one for the constant (intercept), one for x1, and another for x2. These coefficients indicate how much the dependent variable (y) changes per unit change in the independent variables (x1 and x2). For instance, the coefficient for x2 is 9044.7257, implying that, all other variables being constant (ceteris paribus), an increase of one unit in x2 is associated with an approximate increase of 9044.7257 units in the dependent variable (y), meaning that for every additional year of experience (Years of Experience = x2), the salary (Salary = y) increases by 9044.7257$.\n",
    "\n",
    "**Additional Statistics:**\n",
    "\n",
    "Several additional statistics are provided, such as the Omnibus, Durbin-Watson, Jarque-Bera, Skew, and Kurtosis. These statistics help evaluate assumptions about the model and the normality of the residual errors."
   ]
  },
  {
   "cell_type": "markdown",
   "metadata": {},
   "source": [
    "<div class=\"alert alert-info\">\n",
    "    <strong>Note: </strong> Since we are using a database with variables that are of string type, for this first model we will only use numeric variables and which have had to be necessarily converted to int because otherwise, it will generate a type error.\n",
    "    <br><br>\n",
    "    Later on, it will be necessary to convert the categorical variables into dummies for the correct functioning.\n",
    "\n",
    "</div>"
   ]
  },
  {
   "cell_type": "markdown",
   "metadata": {},
   "source": [
    "### 2 Test model (not related to the data)"
   ]
  },
  {
   "cell_type": "code",
   "metadata": {
    "ExecuteTime": {
     "end_time": "2025-05-12T18:56:52.391945Z",
     "start_time": "2025-05-12T18:56:52.377871Z"
    }
   },
   "source": [
    "n = 100\n",
    "\n",
    "X = np.random.normal(0, 10, n)\n",
    "Y = X + np.random.normal(0, 1, n)"
   ],
   "outputs": [],
   "execution_count": 74
  },
  {
   "cell_type": "code",
   "metadata": {
    "ExecuteTime": {
     "end_time": "2025-05-12T18:56:52.578029Z",
     "start_time": "2025-05-12T18:56:52.486801Z"
    }
   },
   "source": [
    "plt.scatter(X, Y, s=1)\n",
    "\n",
    "plt.show()"
   ],
   "outputs": [
    {
     "data": {
      "text/plain": [
       "<Figure size 640x480 with 1 Axes>"
      ],
      "image/png": "[encoded data removed]"
     },
     "metadata": {},
     "output_type": "display_data"
    }
   ],
   "execution_count": 75
  },
  {
   "cell_type": "code",
   "metadata": {
    "ExecuteTime": {
     "end_time": "2025-05-12T18:56:52.593477Z",
     "start_time": "2025-05-12T18:56:52.579014Z"
    }
   },
   "source": [
    "results = sm.OLS(Y, sm.add_constant(X)).fit()\n",
    "\n",
    "print(results.summary())"
   ],
   "outputs": [
    {
     "name": "stdout",
     "output_type": "stream",
     "text": [
      "                            OLS Regression Results                            \n",
      "==============================================================================\n",
      "Dep. Variable:                      y   R-squared:                       0.993\n",
      "Model:                            OLS   Adj. R-squared:                  0.993\n",
      "Method:                 Least Squares   F-statistic:                 1.323e+04\n",
      "Date:                Mon, 12 May 2025   Prob (F-statistic):          2.31e-106\n",
      "Time:                        20:56:52   Log-Likelihood:                -138.25\n",
      "No. Observations:                 100   AIC:                             280.5\n",
      "Df Residuals:                      98   BIC:                             285.7\n",
      "Df Model:                           1                                         \n",
      "Covariance Type:            nonrobust                                         \n",
      "==============================================================================\n",
      "                 coef    std err          t      P>|t|      [0.025      0.975]\n",
      "------------------------------------------------------------------------------\n",
      "const          0.0958      0.098      0.980      0.330      -0.098       0.290\n",
      "x1             0.9964      0.009    115.023      0.000       0.979       1.014\n",
      "==============================================================================\n",
      "Omnibus:                        0.876   Durbin-Watson:                   2.377\n",
      "Prob(Omnibus):                  0.645   Jarque-Bera (JB):                0.793\n",
      "Skew:                          -0.215   Prob(JB):                        0.673\n",
      "Kurtosis:                       2.924   Cond. No.                         11.3\n",
      "==============================================================================\n",
      "\n",
      "Notes:\n",
      "[1] Standard Errors assume that the covariance matrix of the errors is correctly specified.\n"
     ]
    }
   ],
   "execution_count": 76
  },
  {
   "cell_type": "code",
   "metadata": {
    "ExecuteTime": {
     "end_time": "2025-05-12T18:56:52.751533Z",
     "start_time": "2025-05-12T18:56:52.632087Z"
    }
   },
   "source": [
    "cte = results.params[0]\n",
    "beta1 = results.params[1]\n",
    "\n",
    "plt.plot([-20, 20], [cte + beta1 * (-20), cte + beta1 * 20], color='r')\n",
    "plt.scatter(X, Y, s=1)\n",
    "\n",
    "plt.show()"
   ],
   "outputs": [
    {
     "data": {
      "text/plain": [
       "<Figure size 640x480 with 1 Axes>"
      ],
      "image/png": "[encoded data removed]"
     },
     "metadata": {},
     "output_type": "display_data"
    }
   ],
   "execution_count": 77
  },
  {
   "cell_type": "markdown",
   "metadata": {},
   "source": [
    "The code blocks perform a simulation of data and fit a linear regression model to such data.\n",
    "\n",
    "1. **Data Generation:** Two datasets, X and Y, are created, where X are values taken from a normal distribution with a mean of 0 and standard deviation of 10, and Y is a linear function of X plus a normally distributed random error term. This simulates a linear relationship between X and Y with some noise.\n",
    "\n",
    "2. **Data Visualization:** A scatter plot is generated using matplotlib to visualize the relationship between X and Y. Each point represents an observation from the simulated dataset.\n",
    "\n",
    "3. **Fitting of Regression Model:** An ordinary least squares linear regression model is fitted using statsmodels with Y as the dependent variable and X as the independent. A constant is added to the model to include an intercept term. A summary of the model is printed, providing statistical details of the fit.\n",
    "\n",
    "4. **Visualization of Regression Model:** The intercept and slope (coefficients) from the fitted model are extracted and used to draw the regression line over the existing scatter plot. The red line represents the estimated relationship between X and Y according to the regression model."
   ]
  },
  {
   "cell_type": "markdown",
   "metadata": {},
   "source": [
    "---"
   ]
  },
  {
   "cell_type": "markdown",
   "metadata": {},
   "source": [
    "# Estimation and Inference in Linear Regression Models"
   ]
  },
  {
   "cell_type": "markdown",
   "metadata": {},
   "source": [
    "## First Model"
   ]
  },
  {
   "cell_type": "code",
   "metadata": {
    "ExecuteTime": {
     "end_time": "2025-05-12T18:56:52.798575Z",
     "start_time": "2025-05-12T18:56:52.753541Z"
    }
   },
   "source": [
    "df = pd.read_csv('Salary_Data.csv')\n",
    "\n",
    "# Displays descriptive statistics of the numerical variables\n",
    "print(df.describe())"
   ],
   "outputs": [
    {
     "name": "stdout",
     "output_type": "stream",
     "text": [
      "               Age  Years of Experience         Salary\n",
      "count  6582.000000          6582.000000    6582.000000\n",
      "mean     33.570799             8.071711  115768.665755\n",
      "std       7.606075             6.042927   52677.912125\n",
      "min      21.000000             0.000000   25000.000000\n",
      "25%      28.000000             3.000000   70000.000000\n",
      "50%      32.000000             7.000000  115000.000000\n",
      "75%      38.000000            12.000000  160000.000000\n",
      "max      62.000000            34.000000  250000.000000\n"
     ]
    }
   ],
   "execution_count": 78
  },
  {
   "cell_type": "markdown",
   "metadata": {},
   "source": [
    "1. **Count:** Displays the total number of non-null entries for each variable.\n",
    "   - In this case, there are 6582 entries for each of the variables: Age, Years of Experience, and Salary.\n",
    "\n",
    "2. **Mean:** It is the average of the values for each variable.\n",
    "   - The average age is approximately 33.57 years.\n",
    "   - The average years of experience are approximately 8.07 years.\n",
    "   - The average salary is approximately 115,768.67 monetary units ($).\n",
    "\n",
    "3. **Std (Standard Deviation):** Measures the amount of variation or dispersion of a set of values.\n",
    "   - The standard deviation of age is approximately 7.6 years, indicating the variability of age in the dataset.\n",
    "   - The standard deviation of years of experience is approximately 6.04 years.\n",
    "   - The standard deviation of the salary is approximately 52,677.91, indicating the variability in salaries.\n",
    "\n",
    "4. **Min (Minimum):** It is the lowest value in each column.\n",
    "   - The minimum age is 21 years.\n",
    "   - The minimum years of experience is 0 (people with no prior experience).\n",
    "   - The minimum salary is 25,000.\n",
    "\n",
    "5. **25% (25th Percentile):** This is the value below which 25% of the data falls.\n",
    "   - 25% of the employees are 28 years or younger.\n",
    "   - 25% have 3 years or less of experience.\n",
    "   - 25% earn 70,000 or less.\n",
    "\n",
    "6. **50% (Median or 50th Percentile):** It is the median value, where half of the data is below this value and the other half above.\n",
    "   - The median age is 32 years.\n",
    "   - The median years of experience is 7 years.\n",
    "   - The median salary is 115,000.\n",
    "\n",
    "7. **75% (75th Percentile):** The value below which 75% of the data falls.\n",
    "   - 75% of the employees are 38 years or younger.\n",
    "   - 75% have 12 years or less of experience.\n",
    "   - 75% earn 160,000 or less.\n",
    "\n",
    "8. **Max (Maximum):** It is the highest value in each column.\n",
    "   - The maximum age is 62 years.\n",
    "   - The maximum years of experience is 34 years.\n",
    "   - The maximum salary is 250,000."
   ]
  },
  {
   "cell_type": "code",
   "metadata": {
    "ExecuteTime": {
     "end_time": "2025-05-12T18:56:52.907390Z",
     "start_time": "2025-05-12T18:56:52.873547Z"
    }
   },
   "source": [
    "data = pd.read_csv('Salary_Data.csv')\n",
    "data = pd.get_dummies(data, columns=['Education Level', 'Job Title', 'Gender'], dtype=int)\n",
    "\n",
    "display(data)"
   ],
   "outputs": [
    {
     "data": {
      "text/plain": [
       "      Age  Years of Experience  Salary  Education Level_Bachelor's Degree  \\\n",
       "0      46                   18  155795                                  1   \n",
       "1      46                   18  155795                                  1   \n",
       "2      46                   18  155795                                  1   \n",
       "3      46                   18  155795                                  1   \n",
       "4      38                   10  155000                                  0   \n",
       "...   ...                  ...     ...                                ...   \n",
       "6577   25                    2   69032                                  0   \n",
       "6578   23                    2   62852                                  0   \n",
       "6579   23                    2   62852                                  0   \n",
       "6580   31                    8  104127                                  0   \n",
       "6581   31                    8  104127                                  0   \n",
       "\n",
       "      Education Level_High School  Education Level_Master's Degree  \\\n",
       "0                               0                                0   \n",
       "1                               0                                0   \n",
       "2                               0                                0   \n",
       "3                               0                                0   \n",
       "4                               0                                1   \n",
       "...                           ...                              ...   \n",
       "6577                            1                                0   \n",
       "6578                            1                                0   \n",
       "6579                            1                                0   \n",
       "6580                            1                                0   \n",
       "6581                            1                                0   \n",
       "\n",
       "      Education Level_PhD  Job Title_Back end Developer  \\\n",
       "0                       0                             1   \n",
       "1                       0                             1   \n",
       "2                       0                             1   \n",
       "3                       0                             1   \n",
       "4                       0                             1   \n",
       "...                   ...                           ...   \n",
       "6577                    0                             0   \n",
       "6578                    0                             0   \n",
       "6579                    0                             0   \n",
       "6580                    0                             1   \n",
       "6581                    0                             1   \n",
       "\n",
       "      Job Title_Content Marketing Manager  \\\n",
       "0                                       0   \n",
       "1                                       0   \n",
       "2                                       0   \n",
       "3                                       0   \n",
       "4                                       0   \n",
       "...                                   ...   \n",
       "6577                                    0   \n",
       "6578                                    0   \n",
       "6579                                    0   \n",
       "6580                                    0   \n",
       "6581                                    0   \n",
       "\n",
       "      Job Title_Customer Service Representative  ...  \\\n",
       "0                                             0  ...   \n",
       "1                                             0  ...   \n",
       "2                                             0  ...   \n",
       "3                                             0  ...   \n",
       "4                                             0  ...   \n",
       "...                                         ...  ...   \n",
       "6577                                          0  ...   \n",
       "6578                                          0  ...   \n",
       "6579                                          0  ...   \n",
       "6580                                          0  ...   \n",
       "6581                                          0  ...   \n",
       "\n",
       "      Job Title_Senior UX Designer  Job Title_Social Media Manager  \\\n",
       "0                                0                               0   \n",
       "1                                0                               0   \n",
       "2                                0                               0   \n",
       "3                                0                               0   \n",
       "4                                0                               0   \n",
       "...                            ...                             ...   \n",
       "6577                             0                               0   \n",
       "6578                             0                               0   \n",
       "6579                             0                               0   \n",
       "6580                             0                               0   \n",
       "6581                             0                               0   \n",
       "\n",
       "      Job Title_Software Developer  Job Title_Software Engineer  \\\n",
       "0                                0                            0   \n",
       "1                                0                            0   \n",
       "2                                0                            0   \n",
       "3                                0                            0   \n",
       "4                                0                            0   \n",
       "...                            ...                          ...   \n",
       "6577                             0                            0   \n",
       "6578                             0                            0   \n",
       "6579                             0                            0   \n",
       "6580                             0                            0   \n",
       "6581                             0                            0   \n",
       "\n",
       "      Job Title_Software Engineer Manager  Job Title_Software Project Manager  \\\n",
       "0                                       0                                   0   \n",
       "1                                       0                                   0   \n",
       "2                                       0                                   0   \n",
       "3                                       0                                   0   \n",
       "4                                       0                                   0   \n",
       "...                                   ...                                 ...   \n",
       "6577                                    0                                   0   \n",
       "6578                                    0                                   0   \n",
       "6579                                    0                                   0   \n",
       "6580                                    0                                   0   \n",
       "6581                                    0                                   0   \n",
       "\n",
       "      Job Title_Web Developer  Gender_Female  Gender_Male  Gender_Other  \n",
       "0                           0              1            0             0  \n",
       "1                           0              1            0             0  \n",
       "2                           0              1            0             0  \n",
       "3                           0              1            0             0  \n",
       "4                           0              1            0             0  \n",
       "...                       ...            ...          ...           ...  \n",
       "6577                        0              0            0             1  \n",
       "6578                        0              0            0             1  \n",
       "6579                        0              0            0             1  \n",
       "6580                        0              0            0             1  \n",
       "6581                        0              0            0             1  \n",
       "\n",
       "[6582 rows x 107 columns]"
      ],
      "text/html": [
       "<div>\n",
       "<style scoped>\n",
       "    .dataframe tbody tr th:only-of-type {\n",
       "        vertical-align: middle;\n",
       "    }\n",
       "\n",
       "    .dataframe tbody tr th {\n",
       "        vertical-align: top;\n",
       "    }\n",
       "\n",
       "    .dataframe thead th {\n",
       "        text-align: right;\n",
       "    }\n",
       "</style>\n",
       "<table border=\"1\" class=\"dataframe\">\n",
       "  <thead>\n",
       "    <tr style=\"text-align: right;\">\n",
       "      <th></th>\n",
       "      <th>Age</th>\n",
       "      <th>Years of Experience</th>\n",
       "      <th>Salary</th>\n",
       "      <th>Education Level_Bachelor's Degree</th>\n",
       "      <th>Education Level_High School</th>\n",
       "      <th>Education Level_Master's Degree</th>\n",
       "      <th>Education Level_PhD</th>\n",
       "      <th>Job Title_Back end Developer</th>\n",
       "      <th>Job Title_Content Marketing Manager</th>\n",
       "      <th>Job Title_Customer Service Representative</th>\n",
       "      <th>...</th>\n",
       "      <th>Job Title_Senior UX Designer</th>\n",
       "      <th>Job Title_Social Media Manager</th>\n",
       "      <th>Job Title_Software Developer</th>\n",
       "      <th>Job Title_Software Engineer</th>\n",
       "      <th>Job Title_Software Engineer Manager</th>\n",
       "      <th>Job Title_Software Project Manager</th>\n",
       "      <th>Job Title_Web Developer</th>\n",
       "      <th>Gender_Female</th>\n",
       "      <th>Gender_Male</th>\n",
       "      <th>Gender_Other</th>\n",
       "    </tr>\n",
       "  </thead>\n",
       "  <tbody>\n",
       "    <tr>\n",
       "      <th>0</th>\n",
       "      <td>46</td>\n",
       "      <td>18</td>\n",
       "      <td>155795</td>\n",
       "      <td>1</td>\n",
       "      <td>0</td>\n",
       "      <td>0</td>\n",
       "      <td>0</td>\n",
       "      <td>1</td>\n",
       "      <td>0</td>\n",
       "      <td>0</td>\n",
       "      <td>...</td>\n",
       "      <td>0</td>\n",
       "      <td>0</td>\n",
       "      <td>0</td>\n",
       "      <td>0</td>\n",
       "      <td>0</td>\n",
       "      <td>0</td>\n",
       "      <td>0</td>\n",
       "      <td>1</td>\n",
       "      <td>0</td>\n",
       "      <td>0</td>\n",
       "    </tr>\n",
       "    <tr>\n",
       "      <th>1</th>\n",
       "      <td>46</td>\n",
       "      <td>18</td>\n",
       "      <td>155795</td>\n",
       "      <td>1</td>\n",
       "      <td>0</td>\n",
       "      <td>0</td>\n",
       "      <td>0</td>\n",
       "      <td>1</td>\n",
       "      <td>0</td>\n",
       "      <td>0</td>\n",
       "      <td>...</td>\n",
       "      <td>0</td>\n",
       "      <td>0</td>\n",
       "      <td>0</td>\n",
       "      <td>0</td>\n",
       "      <td>0</td>\n",
       "      <td>0</td>\n",
       "      <td>0</td>\n",
       "      <td>1</td>\n",
       "      <td>0</td>\n",
       "      <td>0</td>\n",
       "    </tr>\n",
       "    <tr>\n",
       "      <th>2</th>\n",
       "      <td>46</td>\n",
       "      <td>18</td>\n",
       "      <td>155795</td>\n",
       "      <td>1</td>\n",
       "      <td>0</td>\n",
       "      <td>0</td>\n",
       "      <td>0</td>\n",
       "      <td>1</td>\n",
       "      <td>0</td>\n",
       "      <td>0</td>\n",
       "      <td>...</td>\n",
       "      <td>0</td>\n",
       "      <td>0</td>\n",
       "      <td>0</td>\n",
       "      <td>0</td>\n",
       "      <td>0</td>\n",
       "      <td>0</td>\n",
       "      <td>0</td>\n",
       "      <td>1</td>\n",
       "      <td>0</td>\n",
       "      <td>0</td>\n",
       "    </tr>\n",
       "    <tr>\n",
       "      <th>3</th>\n",
       "      <td>46</td>\n",
       "      <td>18</td>\n",
       "      <td>155795</td>\n",
       "      <td>1</td>\n",
       "      <td>0</td>\n",
       "      <td>0</td>\n",
       "      <td>0</td>\n",
       "      <td>1</td>\n",
       "      <td>0</td>\n",
       "      <td>0</td>\n",
       "      <td>...</td>\n",
       "      <td>0</td>\n",
       "      <td>0</td>\n",
       "      <td>0</td>\n",
       "      <td>0</td>\n",
       "      <td>0</td>\n",
       "      <td>0</td>\n",
       "      <td>0</td>\n",
       "      <td>1</td>\n",
       "      <td>0</td>\n",
       "      <td>0</td>\n",
       "    </tr>\n",
       "    <tr>\n",
       "      <th>4</th>\n",
       "      <td>38</td>\n",
       "      <td>10</td>\n",
       "      <td>155000</td>\n",
       "      <td>0</td>\n",
       "      <td>0</td>\n",
       "      <td>1</td>\n",
       "      <td>0</td>\n",
       "      <td>1</td>\n",
       "      <td>0</td>\n",
       "      <td>0</td>\n",
       "      <td>...</td>\n",
       "      <td>0</td>\n",
       "      <td>0</td>\n",
       "      <td>0</td>\n",
       "      <td>0</td>\n",
       "      <td>0</td>\n",
       "      <td>0</td>\n",
       "      <td>0</td>\n",
       "      <td>1</td>\n",
       "      <td>0</td>\n",
       "      <td>0</td>\n",
       "    </tr>\n",
       "    <tr>\n",
       "      <th>...</th>\n",
       "      <td>...</td>\n",
       "      <td>...</td>\n",
       "      <td>...</td>\n",
       "      <td>...</td>\n",
       "      <td>...</td>\n",
       "      <td>...</td>\n",
       "      <td>...</td>\n",
       "      <td>...</td>\n",
       "      <td>...</td>\n",
       "      <td>...</td>\n",
       "      <td>...</td>\n",
       "      <td>...</td>\n",
       "      <td>...</td>\n",
       "      <td>...</td>\n",
       "      <td>...</td>\n",
       "      <td>...</td>\n",
       "      <td>...</td>\n",
       "      <td>...</td>\n",
       "      <td>...</td>\n",
       "      <td>...</td>\n",
       "      <td>...</td>\n",
       "    </tr>\n",
       "    <tr>\n",
       "      <th>6577</th>\n",
       "      <td>25</td>\n",
       "      <td>2</td>\n",
       "      <td>69032</td>\n",
       "      <td>0</td>\n",
       "      <td>1</td>\n",
       "      <td>0</td>\n",
       "      <td>0</td>\n",
       "      <td>0</td>\n",
       "      <td>0</td>\n",
       "      <td>0</td>\n",
       "      <td>...</td>\n",
       "      <td>0</td>\n",
       "      <td>0</td>\n",
       "      <td>0</td>\n",
       "      <td>0</td>\n",
       "      <td>0</td>\n",
       "      <td>0</td>\n",
       "      <td>0</td>\n",
       "      <td>0</td>\n",
       "      <td>0</td>\n",
       "      <td>1</td>\n",
       "    </tr>\n",
       "    <tr>\n",
       "      <th>6578</th>\n",
       "      <td>23</td>\n",
       "      <td>2</td>\n",
       "      <td>62852</td>\n",
       "      <td>0</td>\n",
       "      <td>1</td>\n",
       "      <td>0</td>\n",
       "      <td>0</td>\n",
       "      <td>0</td>\n",
       "      <td>0</td>\n",
       "      <td>0</td>\n",
       "      <td>...</td>\n",
       "      <td>0</td>\n",
       "      <td>0</td>\n",
       "      <td>0</td>\n",
       "      <td>0</td>\n",
       "      <td>0</td>\n",
       "      <td>0</td>\n",
       "      <td>0</td>\n",
       "      <td>0</td>\n",
       "      <td>0</td>\n",
       "      <td>1</td>\n",
       "    </tr>\n",
       "    <tr>\n",
       "      <th>6579</th>\n",
       "      <td>23</td>\n",
       "      <td>2</td>\n",
       "      <td>62852</td>\n",
       "      <td>0</td>\n",
       "      <td>1</td>\n",
       "      <td>0</td>\n",
       "      <td>0</td>\n",
       "      <td>0</td>\n",
       "      <td>0</td>\n",
       "      <td>0</td>\n",
       "      <td>...</td>\n",
       "      <td>0</td>\n",
       "      <td>0</td>\n",
       "      <td>0</td>\n",
       "      <td>0</td>\n",
       "      <td>0</td>\n",
       "      <td>0</td>\n",
       "      <td>0</td>\n",
       "      <td>0</td>\n",
       "      <td>0</td>\n",
       "      <td>1</td>\n",
       "    </tr>\n",
       "    <tr>\n",
       "      <th>6580</th>\n",
       "      <td>31</td>\n",
       "      <td>8</td>\n",
       "      <td>104127</td>\n",
       "      <td>0</td>\n",
       "      <td>1</td>\n",
       "      <td>0</td>\n",
       "      <td>0</td>\n",
       "      <td>1</td>\n",
       "      <td>0</td>\n",
       "      <td>0</td>\n",
       "      <td>...</td>\n",
       "      <td>0</td>\n",
       "      <td>0</td>\n",
       "      <td>0</td>\n",
       "      <td>0</td>\n",
       "      <td>0</td>\n",
       "      <td>0</td>\n",
       "      <td>0</td>\n",
       "      <td>0</td>\n",
       "      <td>0</td>\n",
       "      <td>1</td>\n",
       "    </tr>\n",
       "    <tr>\n",
       "      <th>6581</th>\n",
       "      <td>31</td>\n",
       "      <td>8</td>\n",
       "      <td>104127</td>\n",
       "      <td>0</td>\n",
       "      <td>1</td>\n",
       "      <td>0</td>\n",
       "      <td>0</td>\n",
       "      <td>1</td>\n",
       "      <td>0</td>\n",
       "      <td>0</td>\n",
       "      <td>...</td>\n",
       "      <td>0</td>\n",
       "      <td>0</td>\n",
       "      <td>0</td>\n",
       "      <td>0</td>\n",
       "      <td>0</td>\n",
       "      <td>0</td>\n",
       "      <td>0</td>\n",
       "      <td>0</td>\n",
       "      <td>0</td>\n",
       "      <td>1</td>\n",
       "    </tr>\n",
       "  </tbody>\n",
       "</table>\n",
       "<p>6582 rows × 107 columns</p>\n",
       "</div>"
      ]
     },
     "metadata": {},
     "output_type": "display_data"
    }
   ],
   "execution_count": 79
  },
  {
   "cell_type": "markdown",
   "metadata": {},
   "source": [
    "<div class=\"alert alert-info\">\n",
    "    <strong>Note:</strong> I have spent hours stuck creating dummies; when creating dummies by default, the types are set to TRUE or FALSE, however, we only work with numbers so, after hours I found out that it only needed to be cast to int type (dtype=int).\n",
    "\n",
    "</div>"
   ]
  },
  {
   "cell_type": "code",
   "metadata": {
    "ExecuteTime": {
     "end_time": "2025-05-12T18:56:52.938694Z",
     "start_time": "2025-05-12T18:56:52.908396Z"
    }
   },
   "source": [
    "y = data['Salary']\n",
    "\n",
    "# Filter columns that start with 'Education Level_', 'Job Title_', and 'Gender_*'\n",
    "education_columns = [col for col in data if col.startswith('Education Level_')]\n",
    "job_columns = [col for col in data if col.startswith('Job Title_')]\n",
    "gender_columns = [col for col in data if col.startswith('Gender_')]\n",
    "\n",
    "# Define 'X' including all columns of 'Education Level_', 'Job Title_', and 'Gender_*' + 'Years of Experience' and 'Age'\n",
    "X = sm.add_constant(data[education_columns + ['Years of Experience'] + job_columns + ['Age'] + gender_columns])"
   ],
   "outputs": [],
   "execution_count": 80
  },
  {
   "cell_type": "markdown",
   "metadata": {},
   "source": [
    "## Descriptive Statistics:"
   ]
  },
  {
   "cell_type": "code",
   "metadata": {
    "ExecuteTime": {
     "end_time": "2025-05-12T18:56:53.215726Z",
     "start_time": "2025-05-12T18:56:52.988472Z"
    }
   },
   "source": [
    "mean = np.mean(y)\n",
    "Q1 = np.quantile(y, 0.25)\n",
    "Q3 = np.quantile(y, 0.75)\n",
    "StandardDeviation = np.std(y)\n",
    "mean = np.mean(y)\n",
    "histogram = plt.hist(y, bins='auto', rwidth=0.85, density=True)\n",
    "plt.xlabel('y')\n",
    "plt.ylabel('Frequency')\n",
    "plt.title(\"Histogram of y (salary) ($)\")\n",
    "plt.show()\n",
    "print(\"Q1: \", Q1, \"($) mean:\", mean, \"($) Q3: \", Q3, \"($) SD: \", StandardDeviation, \"($) Mean:\", np.mean(y), \"($)\")"
   ],
   "outputs": [
    {
     "data": {
      "text/plain": [
       "<Figure size 640x480 with 1 Axes>"
      ],
      "image/png": "[encoded data removed]"
     },
     "metadata": {},
     "output_type": "display_data"
    },
    {
     "name": "stdout",
     "output_type": "stream",
     "text": [
      "Q1:  70000.0 ($) mean: 115768.66575508963 ($) Q3:  160000.0 ($) SD:  52673.910308491184 ($) Mean: 115768.66575508963 ($)\n"
     ]
    }
   ],
   "execution_count": 81
  },
  {
   "cell_type": "markdown",
   "metadata": {},
   "source": [
    "1. Mean: 115,768.67\n",
    "2. First Quartile (Q1): 70,000.00\n",
    "3. Third Quartile (Q3): 160,000.00\n",
    "4. Standard Deviation: 52,673.91\n",
    "5. Median: 115,000.00"
   ]
  },
  {
   "cell_type": "code",
   "metadata": {
    "ExecuteTime": {
     "end_time": "2025-05-12T18:56:53.370819Z",
     "start_time": "2025-05-12T18:56:53.217240Z"
    }
   },
   "source": [
    "#np.asarray(education_columns)\n",
    "ols1 = sm.OLS(y, X).fit()\n",
    "print(ols1.summary())"
   ],
   "outputs": [
    {
     "name": "stdout",
     "output_type": "stream",
     "text": [
      "                            OLS Regression Results                            \n",
      "==============================================================================\n",
      "Dep. Variable:                 Salary   R-squared:                       0.839\n",
      "Model:                            OLS   Adj. R-squared:                  0.837\n",
      "Method:                 Least Squares   F-statistic:                     328.4\n",
      "Date:                Mon, 12 May 2025   Prob (F-statistic):               0.00\n",
      "Time:                        20:56:53   Log-Likelihood:                -74882.\n",
      "No. Observations:                6582   AIC:                         1.500e+05\n",
      "Df Residuals:                    6478   BIC:                         1.507e+05\n",
      "Df Model:                         103                                         \n",
      "Covariance Type:            nonrobust                                         \n",
      "===================================================================================================================\n",
      "                                                      coef    std err          t      P>|t|      [0.025      0.975]\n",
      "-------------------------------------------------------------------------------------------------------------------\n",
      "const                                             1.99e+04   2322.360      8.568      0.000    1.53e+04    2.45e+04\n",
      "Education Level_Bachelor's Degree                5906.1209    900.543      6.558      0.000    4140.760    7671.482\n",
      "Education Level_High School                     -1.017e+04   1632.970     -6.228      0.000   -1.34e+04   -6968.503\n",
      "Education Level_Master's Degree                  1.163e+04    972.907     11.954      0.000    9722.738    1.35e+04\n",
      "Education Level_PhD                              1.253e+04   1278.636      9.801      0.000       1e+04     1.5e+04\n",
      "Years of Experience                              4626.4024    146.956     31.482      0.000    4338.320    4914.485\n",
      "Job Title_Back end Developer                     1.641e+04   1628.810     10.073      0.000    1.32e+04    1.96e+04\n",
      "Job Title_Content Marketing Manager              7774.8130   2651.283      2.932      0.003    2577.422     1.3e+04\n",
      "Job Title_Customer Service Representative       -1.693e+04   8793.769     -1.925      0.054   -3.42e+04     311.725\n",
      "Job Title_Customer Success Representative       -1.864e+04   2.11e+04     -0.884      0.377      -6e+04    2.27e+04\n",
      "Job Title_Data Analyst                           4.517e+04   1464.978     30.833      0.000    4.23e+04     4.8e+04\n",
      "Job Title_Data Scientist                         4.826e+04   1524.541     31.655      0.000    4.53e+04    5.12e+04\n",
      "Job Title_Delivery Driver                       -9005.9928   9662.151     -0.932      0.351   -2.79e+04    9935.015\n",
      "Job Title_Digital Marketing Manager               569.5049   3057.317      0.186      0.852   -5423.845    6562.855\n",
      "Job Title_Digital Marketing Specialist          -9589.1385   5537.694     -1.732      0.083   -2.04e+04    1266.571\n",
      "Job Title_Director of Data Science               5.445e+04   3092.807     17.606      0.000    4.84e+04    6.05e+04\n",
      "Job Title_Director of Engineering                 1.77e+04    1.5e+04      1.184      0.237   -1.16e+04     4.7e+04\n",
      "Job Title_Director of HR                          -95.1244   2706.385     -0.035      0.972   -5400.533    5210.285\n",
      "Job Title_Director of Marketing                  1.617e+04   2473.493      6.539      0.000    1.13e+04     2.1e+04\n",
      "Job Title_Director of Operations                 4204.5899   6212.797      0.677      0.499   -7974.544    1.64e+04\n",
      "Job Title_Financial Analyst                      7395.9465   3519.453      2.101      0.036     496.655    1.43e+04\n",
      "Job Title_Financial Manager                      3.283e+04   2058.724     15.947      0.000    2.88e+04    3.69e+04\n",
      "Job Title_Front End Developer                    4167.9053   3919.375      1.063      0.288   -3515.364    1.19e+04\n",
      "Job Title_Front end Developer                    8844.5538   1653.870      5.348      0.000    5602.422    1.21e+04\n",
      "Job Title_Full Stack Engineer                    2.296e+04   1533.157     14.974      0.000       2e+04     2.6e+04\n",
      "Job Title_Graphic Designer                      -1.374e+04   4609.829     -2.981      0.003   -2.28e+04   -4704.070\n",
      "Job Title_Human Resources Coordinator           -2.408e+04   3198.036     -7.530      0.000   -3.04e+04   -1.78e+04\n",
      "Job Title_Human Resources Manager                -349.0826   2297.844     -0.152      0.879   -4853.617    4155.451\n",
      "Job Title_Junior Accountant                     -2.303e+04   1.06e+04     -2.176      0.030   -4.38e+04   -2281.020\n",
      "Job Title_Junior Business Analyst               -2.097e+04   7525.207     -2.787      0.005   -3.57e+04   -6218.114\n",
      "Job Title_Junior Business Development Associate -2.572e+04   8028.599     -3.204      0.001   -4.15e+04   -9986.038\n",
      "Job Title_Junior Data Analyst                   -1.636e+04   4339.475     -3.770      0.000   -2.49e+04   -7852.953\n",
      "Job Title_Junior Financial Analyst              -1.973e+04   7519.697     -2.624      0.009   -3.45e+04   -4993.468\n",
      "Job Title_Junior HR Coordinator                  -1.94e+04   4197.954     -4.622      0.000   -2.76e+04   -1.12e+04\n",
      "Job Title_Junior HR Generalist                  -1.899e+04   2989.120     -6.354      0.000   -2.49e+04   -1.31e+04\n",
      "Job Title_Junior Marketing Analyst              -2.112e+04   1.22e+04     -1.730      0.084    -4.5e+04    2816.003\n",
      "Job Title_Junior Marketing Coordinator          -2.166e+04   8665.706     -2.499      0.012   -3.86e+04   -4667.414\n",
      "Job Title_Junior Marketing Manager              -1.427e+04   3107.718     -4.591      0.000   -2.04e+04   -8176.074\n",
      "Job Title_Junior Marketing Specialist           -1.613e+04   1.22e+04     -1.321      0.187   -4.01e+04    7803.403\n",
      "Job Title_Junior Operations Analyst             -2.215e+04   1.06e+04     -2.092      0.036   -4.29e+04   -1391.723\n",
      "Job Title_Junior Product Manager                -1.725e+04   1.06e+04     -1.630      0.103    -3.8e+04    3501.588\n",
      "Job Title_Junior Project Manager                -1.586e+04   1.49e+04     -1.062      0.288   -4.51e+04    1.34e+04\n",
      "Job Title_Junior Sales Associate                -1.633e+04   2763.460     -5.909      0.000   -2.17e+04   -1.09e+04\n",
      "Job Title_Junior Sales Representative           -1.663e+04   3590.085     -4.631      0.000   -2.37e+04   -9589.368\n",
      "Job Title_Junior Software Developer             -2.602e+04   2962.221     -8.785      0.000   -3.18e+04   -2.02e+04\n",
      "Job Title_Junior Software Engineer              -9847.5742   3123.585     -3.153      0.002    -1.6e+04   -3724.316\n",
      "Job Title_Junior Web Developer                  -1.921e+04   3360.212     -5.717      0.000   -2.58e+04   -1.26e+04\n",
      "Job Title_Juniour HR Coordinator                -9593.9629   1.24e+04     -0.777      0.437   -3.38e+04    1.46e+04\n",
      "Job Title_Juniour HR Generalist                 -5358.5091   1.51e+04     -0.356      0.722   -3.49e+04    2.41e+04\n",
      "Job Title_Marketing Analyst                     -6820.5627   2084.995     -3.271      0.001   -1.09e+04   -2733.283\n",
      "Job Title_Marketing Coordinator                 -5127.4626   1944.001     -2.638      0.008   -8938.347   -1316.578\n",
      "Job Title_Marketing Director                     5.455e+04   2870.698     19.002      0.000    4.89e+04    6.02e+04\n",
      "Job Title_Marketing Manager                      9337.9883   1644.415      5.679      0.000    6114.392    1.26e+04\n",
      "Job Title_Marketing Specialist                  -4.286e+04   2.11e+04     -2.032      0.042   -8.42e+04   -1502.066\n",
      "Job Title_Operations Manager                     -163.3357   2225.723     -0.073      0.942   -4526.487    4199.816\n",
      "Job Title_Product Designer                      -9417.4146   2648.096     -3.556      0.000   -1.46e+04   -4226.271\n",
      "Job Title_Product Manager                        4.584e+04   1521.599     30.126      0.000    4.29e+04    4.88e+04\n",
      "Job Title_Project Manager                        2.174e+04   4599.581      4.726      0.000    1.27e+04    3.08e+04\n",
      "Job Title_Receptionist                          -1.157e+04   3521.623     -3.285      0.001   -1.85e+04   -4665.032\n",
      "Job Title_Research Director                      4.577e+04   2807.826     16.302      0.000    4.03e+04    5.13e+04\n",
      "Job Title_Research Scientist                     4.436e+04   2893.040     15.334      0.000    3.87e+04       5e+04\n",
      "Job Title_Sales Associate                       -1.024e+04   3207.965     -3.191      0.001   -1.65e+04   -3949.102\n",
      "Job Title_Sales Director                         2.258e+04   2842.749      7.944      0.000     1.7e+04    2.82e+04\n",
      "Job Title_Sales Executive                       -1.057e+04   3751.304     -2.817      0.005   -1.79e+04   -3213.437\n",
      "Job Title_Sales Manager                          1.153e+04   2978.851      3.872      0.000    5693.564    1.74e+04\n",
      "Job Title_Sales Representative                  -1.993e+04   3552.522     -5.610      0.000   -2.69e+04    -1.3e+04\n",
      "Job Title_Senior Business Analyst                2430.0368   6727.211      0.361      0.718   -1.08e+04    1.56e+04\n",
      "Job Title_Senior Business Development Manager    6852.0796   1.06e+04      0.648      0.517   -1.39e+04    2.76e+04\n",
      "Job Title_Senior Data Analyst                     924.4573   1.22e+04      0.076      0.940   -2.31e+04    2.49e+04\n",
      "Job Title_Senior Data Engineer                   4023.8814    1.5e+04      0.269      0.788   -2.53e+04    3.33e+04\n",
      "Job Title_Senior Data Scientist                  3.128e+04   2890.436     10.821      0.000    2.56e+04    3.69e+04\n",
      "Job Title_Senior Engineer                       -9203.9945    1.5e+04     -0.615      0.538   -3.85e+04    2.01e+04\n",
      "Job Title_Senior Financial Advisor               1170.8114   1.22e+04      0.096      0.924   -2.28e+04    2.51e+04\n",
      "Job Title_Senior Financial Analyst               2250.0024   8020.263      0.281      0.779   -1.35e+04     1.8e+04\n",
      "Job Title_Senior Financial Manager               -302.1171   9472.624     -0.032      0.975   -1.89e+04    1.83e+04\n",
      "Job Title_Senior HR Generalist                  -1.058e+04   3420.906     -3.093      0.002   -1.73e+04   -3874.954\n",
      "Job Title_Senior HR Manager                      -351.2872   1.22e+04     -0.029      0.977   -2.43e+04    2.36e+04\n",
      "Job Title_Senior Human Resources Manager        -3187.1387   3182.209     -1.002      0.317   -9425.320    3051.043\n",
      "Job Title_Senior Marketing Analyst              -1.421e+04   7515.298     -1.891      0.059   -2.89e+04     520.655\n",
      "Job Title_Senior Marketing Manager              -2649.6975   6169.589     -0.429      0.668   -1.47e+04    9444.734\n",
      "Job Title_Senior Marketing Specialist           -1032.9052   1.06e+04     -0.098      0.922   -2.18e+04    1.97e+04\n",
      "Job Title_Senior Operations Analyst             -9194.2274   1.49e+04     -0.616      0.538   -3.85e+04    2.01e+04\n",
      "Job Title_Senior Operations Coordinator         -1297.8960   1.22e+04     -0.106      0.915   -2.52e+04    2.26e+04\n",
      "Job Title_Senior Operations Manager              1414.7320   1.06e+04      0.134      0.894   -1.93e+04    2.22e+04\n",
      "Job Title_Senior Product Designer                4573.7554   9518.970      0.480      0.631   -1.41e+04    2.32e+04\n",
      "Job Title_Senior Product Manager                 1.092e+04   9473.188      1.153      0.249   -7650.932    2.95e+04\n",
      "Job Title_Senior Product Marketing Manager       7525.7466   2716.729      2.770      0.006    2200.061    1.29e+04\n",
      "Job Title_Senior Project Coordinator            -1.941e+04   9472.163     -2.049      0.041    -3.8e+04    -838.606\n",
      "Job Title_Senior Project Engineer                3.144e+04   1580.314     19.894      0.000    2.83e+04    3.45e+04\n",
      "Job Title_Senior Project Manager                -4813.0470   8032.022     -0.599      0.549   -2.06e+04    1.09e+04\n",
      "Job Title_Senior Research Scientist              1.647e+04   3280.132      5.021      0.000       1e+04    2.29e+04\n",
      "Job Title_Senior Sales Manager                  -1.639e+04   1.49e+04     -1.097      0.273   -4.57e+04    1.29e+04\n",
      "Job Title_Senior Scientist                      -1448.9945    1.5e+04     -0.097      0.923   -3.08e+04    2.79e+04\n",
      "Job Title_Senior Software Developer               473.4700   1.22e+04      0.039      0.969   -2.35e+04    2.44e+04\n",
      "Job Title_Senior Software Engineer               2.002e+04   1707.176     11.728      0.000    1.67e+04    2.34e+04\n",
      "Job Title_Senior Training Specialist            -2.342e+04   2.11e+04     -1.110      0.267   -6.48e+04    1.79e+04\n",
      "Job Title_Senior UX Designer                     1.099e+04   1.22e+04      0.898      0.369    -1.3e+04     3.5e+04\n",
      "Job Title_Social Media Manager                  -1.179e+04   5540.924     -2.127      0.033   -2.26e+04    -924.408\n",
      "Job Title_Software Developer                    -5140.1242   2132.445     -2.410      0.016   -9320.422    -959.827\n",
      "Job Title_Software Engineer                       3.67e+04   1344.478     27.298      0.000    3.41e+04    3.93e+04\n",
      "Job Title_Software Engineer Manager              2.668e+04   1599.356     16.684      0.000    2.35e+04    2.98e+04\n",
      "Job Title_Software Project Manager              -7300.0912   2.11e+04     -0.346      0.729   -4.86e+04     3.4e+04\n",
      "Job Title_Web Developer                          -1.24e+04   2440.627     -5.079      0.000   -1.72e+04   -7612.671\n",
      "Age                                               583.1301    118.769      4.910      0.000     350.304     815.956\n",
      "Gender_Female                                    1.305e+04   1775.155      7.351      0.000    9569.129    1.65e+04\n",
      "Gender_Male                                      1.328e+04   1791.033      7.416      0.000    9770.813    1.68e+04\n",
      "Gender_Other                                    -6432.1436   4463.797     -1.441      0.150   -1.52e+04    2318.373\n",
      "==============================================================================\n",
      "Omnibus:                       97.368   Durbin-Watson:                   0.216\n",
      "Prob(Omnibus):                  0.000   Jarque-Bera (JB):              178.435\n",
      "Skew:                          -0.062   Prob(JB):                     1.79e-39\n",
      "Kurtosis:                       3.797   Cond. No.                     4.44e+16\n",
      "==============================================================================\n",
      "\n",
      "Notes:\n",
      "[1] Standard Errors assume that the covariance matrix of the errors is correctly specified.\n",
      "[2] The smallest eigenvalue is 4.24e-27. This might indicate that there are\n",
      "strong multicollinearity problems or that the design matrix is singular.\n"
     ]
    }
   ],
   "execution_count": 82
  },
  {
   "cell_type": "markdown",
   "metadata": {},
   "source": [
    "<div class=\"alert alert-info\">\n",
    "    <strong>Note:</strong> As we can see, we are already being warned that there may be multicollinearity problems; we will try to solve it later on when the time comes, perhaps with a manual cleaning of the data or using techniques such as the variance inflation factor (VIF) to identify and possibly eliminate independent variables that are highly correlated.\n",
    "\n",
    "</div>"
   ]
  },
  {
   "cell_type": "markdown",
   "metadata": {},
   "source": [
    "## Interpretation of the Results\n",
    "\n",
    "#### Goodness of Fit Measures:\n",
    "\n",
    "- **R-squared:**\n",
    "    The value is 0.839, which indicates that approximately 83.9% of the variability in the salary can be explained by the model. This is a quite high measure of goodness of fit considering that we are trying to estimate salaries.\n",
    "\n",
    "- **Adjusted R-squared:**\n",
    "    With a value of 0.837, after adjusting for the number of predictors, it remains very high, indicating that the model fits well to the data.\n",
    "\n",
    "- **F-statistic:**\n",
    "    With a value of 328.4 and a Prob (F-statistic) close to 0, it suggests that the model is statistically significant as a whole, that is, there is evidence that at least one of the independent variables is related to the salary.\n",
    "\n",
    "#### Residual Diagnostics:\n",
    "- **Durbin-Watson:**\n",
    "    The value is 0.216, which is well below 2, suggesting the presence of positive autocorrelation among the residuals, which could be a problem since the residuals of a well-fitted model should be independent of each other.\n",
    "\n",
    "- **Jarque-Bera (JB) and Prob(JB):**\n",
    "    The JB statistic value is 178.435 and the p-value is extremely small, indicating that the residuals do not follow a normal distribution, which is a violation of one of the assumptions of OLS regression.\n",
    "\n",
    "- **Skew:**\n",
    "    The value of -0.062 indicates that the distribution of residuals is slightly asymmetrical, but it is not a major concern given that it is close to zero.\n",
    "\n",
    "- **Kurtosis:**\n",
    "    A value of 3.797 suggests that the distribution of the residuals has heavier tails than a normal distribution, which could be a sign of outliers or a more pronounced peak.\n",
    "\n",
    "- **Cond. No. (Condition Number):**\n",
    "    The value is extremely high (4.75e+16), indicating the presence of multicollinearity among the predictor variables. This means that some of the independent variables are highly correlated with each other, which can inflate the standard errors of the coefficients and make the estimates unstable."
   ]
  },
  {
   "cell_type": "code",
   "metadata": {
    "ExecuteTime": {
     "end_time": "2025-05-12T18:56:53.464324Z",
     "start_time": "2025-05-12T18:56:53.371803Z"
    }
   },
   "source": [
    "beta2 = ols1.params\n",
    "plt.plot(data['Years of Experience'], y, 'o', color='r')\n",
    "xmin = np.min(data['Years of Experience'])\n",
    "xmax = np.max(data['Years of Experience'])\n",
    "\n",
    "plt.plot([xmin, xmax], [beta2.iloc[0] + beta2.iloc[1] * xmin, beta2.iloc[0] + beta2.iloc[1] * xmax])\n",
    "plt.show()"
   ],
   "outputs": [
    {
     "data": {
      "text/plain": [
       "<Figure size 640x480 with 1 Axes>"
      ],
      "image/png": "[encoded data removed]"
     },
     "metadata": {},
     "output_type": "display_data"
    }
   ],
   "execution_count": 83
  },
  {
   "cell_type": "code",
   "metadata": {
    "ExecuteTime": {
     "end_time": "2025-05-12T18:56:54.425992Z",
     "start_time": "2025-05-12T18:56:53.465815Z"
    }
   },
   "source": [
    "print(sm.graphics.plot_regress_exog(ols1, 'Years of Experience'))"
   ],
   "outputs": [
    {
     "name": "stdout",
     "output_type": "stream",
     "text": [
      "Figure(640x480)\n"
     ]
    },
    {
     "data": {
      "text/plain": [
       "<Figure size 640x480 with 4 Axes>"
      ],
      "image/png": "[encoded data removed]"
     },
     "metadata": {},
     "output_type": "display_data"
    }
   ],
   "execution_count": 84
  },
  {
   "cell_type": "code",
   "metadata": {
    "ExecuteTime": {
     "end_time": "2025-05-12T18:56:54.442451Z",
     "start_time": "2025-05-12T18:56:54.429224Z"
    }
   },
   "source": [
    "e = ols1.resid\n",
    "print(e)\n",
    "print(np.mean(e))"
   ],
   "outputs": [
    {
     "name": "stdout",
     "output_type": "stream",
     "text": [
      "0       -9564.773378\n",
      "1       -9564.773378\n",
      "2       -9564.773378\n",
      "3       -9564.773378\n",
      "4       25592.649552\n",
      "            ...     \n",
      "6577    18946.239792\n",
      "6578    28045.751309\n",
      "6579    28045.751309\n",
      "6580    29335.151228\n",
      "6581    29335.151228\n",
      "Length: 6582, dtype: float64\n",
      "-5.779378693431969e-10\n"
     ]
    }
   ],
   "execution_count": 85
  },
  {
   "cell_type": "markdown",
   "metadata": {},
   "source": [
    "The obtained value suggests that, on average, the model slightly underestimates the actual value. However, in the context of regression models, an average of residuals of about -5.7624e-10 could be considered negligible, especially if the scale of the response variable (salary in this case) is large, as in tens or hundreds of thousands. This result is a sign that the model is well-calibrated in terms of not having a systematic bias towards overestimation or underestimation in the predictions."
   ]
  },
  {
   "cell_type": "markdown",
   "metadata": {},
   "source": [
    "- Total Sum of Squares (SST)"
   ]
  },
  {
   "cell_type": "code",
   "metadata": {
    "ExecuteTime": {
     "end_time": "2025-05-12T18:56:54.458080Z",
     "start_time": "2025-05-12T18:56:54.445096Z"
    }
   },
   "source": [
    "print(ols1.centered_tss)"
   ],
   "outputs": [
    {
     "name": "stdout",
     "output_type": "stream",
     "text": [
      "18262027724544.66\n"
     ]
    }
   ],
   "execution_count": 86
  },
  {
   "cell_type": "markdown",
   "metadata": {},
   "source": [
    "It represents the total variability in the dependent variable. It is equal to the sum of the squared differences between each observed value and the mean of all observed values. A value of 18262027724544.66 indicates the total variability in your dependent variable that the model seeks to explain."
   ]
  },
  {
   "cell_type": "markdown",
   "metadata": {},
   "source": [
    "- Explained Sum of Squares (ESS)"
   ]
  },
  {
   "cell_type": "code",
   "metadata": {
    "ExecuteTime": {
     "end_time": "2025-05-12T18:56:54.473656Z",
     "start_time": "2025-05-12T18:56:54.460063Z"
    }
   },
   "source": [
    "print(ols1.ess)"
   ],
   "outputs": [
    {
     "name": "stdout",
     "output_type": "stream",
     "text": [
      "15326748750986.516\n"
     ]
    }
   ],
   "execution_count": 87
  },
  {
   "cell_type": "markdown",
   "metadata": {},
   "source": [
    "Represents the variability in the dependent variable that is explained by the model. It is equal to the sum of the squared differences between the predicted values by the model and the mean of the dependent variable. A value of 15326748750986.516 suggests that this is the amount of variability that the model has managed to explain."
   ]
  },
  {
   "cell_type": "markdown",
   "metadata": {},
   "source": [
    "- Residual Sum of Squares (RSS)"
   ]
  },
  {
   "cell_type": "code",
   "metadata": {
    "ExecuteTime": {
     "end_time": "2025-05-12T18:56:54.489312Z",
     "start_time": "2025-05-12T18:56:54.475561Z"
    }
   },
   "source": [
    "print(ols1.ssr)"
   ],
   "outputs": [
    {
     "name": "stdout",
     "output_type": "stream",
     "text": [
      "2935278973558.1455\n"
     ]
    }
   ],
   "execution_count": 88
  },
  {
   "cell_type": "markdown",
   "metadata": {},
   "source": [
    "Represents the variability in the dependent variable that is not explained by the model. It is equal to the sum of the squares of the residuals (errors) from the model. A value of 2935278973558.1436 indicates the amount of variability that the model has not been able to explain."
   ]
  },
  {
   "cell_type": "markdown",
   "metadata": {},
   "source": [
    "- $R^2$ and Adjusted $R^2$"
   ]
  },
  {
   "cell_type": "code",
   "metadata": {
    "ExecuteTime": {
     "end_time": "2025-05-12T18:56:54.504337Z",
     "start_time": "2025-05-12T18:56:54.490316Z"
    }
   },
   "source": [
    "print(\"R2: \", ols1.rsquared)\n",
    "print(\"R2 Ajustado: \", ols1.rsquared_adj)"
   ],
   "outputs": [
    {
     "name": "stdout",
     "output_type": "stream",
     "text": [
      "R2:  0.8392687264616814\n",
      "R2 Ajustado:  0.8367131041747955\n"
     ]
    }
   ],
   "execution_count": 89
  },
  {
   "cell_type": "markdown",
   "metadata": {},
   "source": [
    "R-squared ($R^2$): Is a measure of the goodness of fit of the model. A value of 0.8392687264616815 (or approximately 83.93%) means that about 83.93% of the variability in the dependent variable is explained by the independent variables in the model.\n",
    "\n",
    "Adjusted R-squared: Is an adjusted version of R-squared that takes into account the number of predictors in the model. A value of 0.8367131041747956 is quite close to the R-squared, indicating that the model is robust even after adjusting for the number of variables."
   ]
  },
  {
   "cell_type": "markdown",
   "metadata": {},
   "source": [
    "- Experimental F-value ( F<sub>exp</sub> )\n",
    "- Theorical F-value ( F<sub>teo</sub> )\n"
   ]
  },
  {
   "cell_type": "code",
   "metadata": {
    "ExecuteTime": {
     "end_time": "2025-05-12T18:56:54.519976Z",
     "start_time": "2025-05-12T18:56:54.505830Z"
    }
   },
   "source": [
    "Fexp = ols1.fvalue\n",
    "print(Fexp)\n",
    "from scipy import stats\n",
    "\n",
    "alpha = 0.025\n",
    "Fteo = stats.f.ppf(1 - alpha, ols1.df_model, ols1.df_resid)\n",
    "print(Fteo)"
   ],
   "outputs": [
    {
     "name": "stdout",
     "output_type": "stream",
     "text": [
      "328.4009263686447\n",
      "1.2941958816630579\n"
     ]
    }
   ],
   "execution_count": 90
  },
  {
   "cell_type": "markdown",
   "metadata": {},
   "source": [
    "Experimental F-value (Fexp): Is the calculated value of the F statistic for the model. A value of 328.40092636864495 is quite high, suggesting that the model is statistically significant.\n",
    "\n",
    "Theoretical F-value (Fteo): Is the critical value of the F-distribution for a certain level of significance and degrees of freedom. A value of 1.2941958816630579 is the threshold above which the model would be considered to have a significant contribution."
   ]
  },
  {
   "cell_type": "markdown",
   "metadata": {},
   "source": [
    "- Experimental t-value ( t<sub>exp</sub> )\n",
    "- Theorical t-value ( t<sub>teo</sub> )"
   ]
  },
  {
   "cell_type": "code",
   "metadata": {
    "ExecuteTime": {
     "end_time": "2025-05-12T18:56:54.535040Z",
     "start_time": "2025-05-12T18:56:54.521963Z"
    }
   },
   "source": [
    "texp = ols1.tvalues\n",
    "print(texp)\n",
    "alpha = 0.098\n",
    "tteo = stats.t.ppf(1 - (alpha / 2), ols1.df_resid)\n",
    "print(tteo)"
   ],
   "outputs": [
    {
     "name": "stdout",
     "output_type": "stream",
     "text": [
      "const                                 8.568314\n",
      "Education Level_Bachelor's Degree     6.558402\n",
      "Education Level_High School          -6.227709\n",
      "Education Level_Master's Degree      11.953818\n",
      "Education Level_PhD                   9.801300\n",
      "                                       ...    \n",
      "Job Title_Web Developer              -5.079476\n",
      "Age                                   4.909789\n",
      "Gender_Female                         7.350917\n",
      "Gender_Male                           7.415737\n",
      "Gender_Other                         -1.440958\n",
      "Length: 107, dtype: float64\n",
      "1.6548666162477454\n"
     ]
    }
   ],
   "execution_count": 91
  },
  {
   "cell_type": "markdown",
   "metadata": {},
   "source": [
    "Experimental t-Value (t-Test Value): This value is the result of a Student's t-test applied to an estimator, such as a coefficient in a regression model. It is calculated as the estimated coefficient divided by the standard error of that coefficient. In the context of regression, it indicates how many standard deviations the estimator is away from 0. A high t-value (in absolute terms) suggests that it is less likely that the true value of the parameter is 0, implying that the corresponding variable is significant in the model.\n",
    "\n",
    "Theoretical t-Value (Critical t-Value): Is used as a threshold to decide whether to reject the null hypothesis. If the experimental t-value is greater in absolute value than the theoretical t-value, the null hypothesis is rejected (for example, that a coefficient is equal to zero in regression)."
   ]
  },
  {
   "cell_type": "markdown",
   "metadata": {},
   "source": [
    "- Confidence Intervals of Estimators"
   ]
  },
  {
   "cell_type": "code",
   "metadata": {
    "ExecuteTime": {
     "end_time": "2025-05-12T18:56:54.550841Z",
     "start_time": "2025-05-12T18:56:54.536057Z"
    }
   },
   "source": [
    "print(ols1.conf_int(0.075))"
   ],
   "outputs": [
    {
     "name": "stdout",
     "output_type": "stream",
     "text": [
      "                                              0             1\n",
      "const                              15763.161180  24034.249186\n",
      "Education Level_Bachelor's Degree   4302.478576   7509.763215\n",
      "Education Level_High School       -13077.577773  -7261.750911\n",
      "Education Level_Master's Degree     9897.452337  13362.463899\n",
      "Education Level_PhD                10255.359086  14809.221935\n",
      "...                                         ...           ...\n",
      "Job Title_Web Developer           -16743.255868  -8050.957384\n",
      "Age                                  371.632352    794.627903\n",
      "Gender_Female                       9887.910509  16210.129328\n",
      "Gender_Male                        10092.445489  16471.212285\n",
      "Gender_Other                      -14381.054794   1516.767548\n",
      "\n",
      "[107 rows x 2 columns]\n"
     ]
    }
   ],
   "execution_count": 92
  },
  {
   "cell_type": "markdown",
   "metadata": {},
   "source": [
    "A confidence interval provides a range of values within which the true value of the parameter is expected to fall, with a certain level of confidence.\n",
    "In regression, each coefficient has an associated confidence interval. If a confidence interval for a coefficient does not include 0, this suggests that the corresponding variable is significantly different from 0, implying that it has a significant effect on the dependent variable."
   ]
  },
  {
   "cell_type": "markdown",
   "metadata": {},
   "source": [
    "- Estimation of the disturbance variance:"
   ]
  },
  {
   "cell_type": "code",
   "metadata": {
    "ExecuteTime": {
     "end_time": "2025-05-12T18:56:54.581051Z",
     "start_time": "2025-05-12T18:56:54.553825Z"
    }
   },
   "source": [
    "beta3 = np.array(ols1.params)\n",
    "e = ols1.resid\n",
    "sum(e ** 2) / (ols1.nobs - 1)\n",
    "sigmagorro = (np.dot(y.values, y.values) - np.dot(beta3.T, np.dot(X.values.T, y.values))) / (ols1.nobs - 1)\n",
    "\n",
    "print(sigmagorro)"
   ],
   "outputs": [
    {
     "name": "stdout",
     "output_type": "stream",
     "text": [
      "446023244.72842747\n"
     ]
    }
   ],
   "execution_count": 93
  },
  {
   "cell_type": "markdown",
   "metadata": {},
   "source": [
    "A low value indicates that the model explains a large part of the variability, while a high value suggests that there are more uncaptured factors influencing salaries.\n",
    "In our case, we see that the value is high and that the residuals are not normally distributed, it may be necessary to transform the variables, add terms to the model, or use another type of regression model that does not require normality of the residuals."
   ]
  },
  {
   "cell_type": "markdown",
   "metadata": {},
   "source": [
    "---"
   ]
  },
  {
   "cell_type": "markdown",
   "metadata": {},
   "source": [
    "# Multicollinearity"
   ]
  },
  {
   "cell_type": "markdown",
   "metadata": {},
   "source": [
    "As we have previously seen, our current model has a multicollinearity problem that we will try to resolve now. Let's refresh our memory:"
   ]
  },
  {
   "cell_type": "code",
   "metadata": {
    "ExecuteTime": {
     "end_time": "2025-05-12T18:56:54.628313Z",
     "start_time": "2025-05-12T18:56:54.582025Z"
    }
   },
   "source": [
    "print(ols1.summary())"
   ],
   "outputs": [
    {
     "name": "stdout",
     "output_type": "stream",
     "text": [
      "                            OLS Regression Results                            \n",
      "==============================================================================\n",
      "Dep. Variable:                 Salary   R-squared:                       0.839\n",
      "Model:                            OLS   Adj. R-squared:                  0.837\n",
      "Method:                 Least Squares   F-statistic:                     328.4\n",
      "Date:                Mon, 12 May 2025   Prob (F-statistic):               0.00\n",
      "Time:                        20:56:54   Log-Likelihood:                -74882.\n",
      "No. Observations:                6582   AIC:                         1.500e+05\n",
      "Df Residuals:                    6478   BIC:                         1.507e+05\n",
      "Df Model:                         103                                         \n",
      "Covariance Type:            nonrobust                                         \n",
      "===================================================================================================================\n",
      "                                                      coef    std err          t      P>|t|      [0.025      0.975]\n",
      "-------------------------------------------------------------------------------------------------------------------\n",
      "const                                             1.99e+04   2322.360      8.568      0.000    1.53e+04    2.45e+04\n",
      "Education Level_Bachelor's Degree                5906.1209    900.543      6.558      0.000    4140.760    7671.482\n",
      "Education Level_High School                     -1.017e+04   1632.970     -6.228      0.000   -1.34e+04   -6968.503\n",
      "Education Level_Master's Degree                  1.163e+04    972.907     11.954      0.000    9722.738    1.35e+04\n",
      "Education Level_PhD                              1.253e+04   1278.636      9.801      0.000       1e+04     1.5e+04\n",
      "Years of Experience                              4626.4024    146.956     31.482      0.000    4338.320    4914.485\n",
      "Job Title_Back end Developer                     1.641e+04   1628.810     10.073      0.000    1.32e+04    1.96e+04\n",
      "Job Title_Content Marketing Manager              7774.8130   2651.283      2.932      0.003    2577.422     1.3e+04\n",
      "Job Title_Customer Service Representative       -1.693e+04   8793.769     -1.925      0.054   -3.42e+04     311.725\n",
      "Job Title_Customer Success Representative       -1.864e+04   2.11e+04     -0.884      0.377      -6e+04    2.27e+04\n",
      "Job Title_Data Analyst                           4.517e+04   1464.978     30.833      0.000    4.23e+04     4.8e+04\n",
      "Job Title_Data Scientist                         4.826e+04   1524.541     31.655      0.000    4.53e+04    5.12e+04\n",
      "Job Title_Delivery Driver                       -9005.9928   9662.151     -0.932      0.351   -2.79e+04    9935.015\n",
      "Job Title_Digital Marketing Manager               569.5049   3057.317      0.186      0.852   -5423.845    6562.855\n",
      "Job Title_Digital Marketing Specialist          -9589.1385   5537.694     -1.732      0.083   -2.04e+04    1266.571\n",
      "Job Title_Director of Data Science               5.445e+04   3092.807     17.606      0.000    4.84e+04    6.05e+04\n",
      "Job Title_Director of Engineering                 1.77e+04    1.5e+04      1.184      0.237   -1.16e+04     4.7e+04\n",
      "Job Title_Director of HR                          -95.1244   2706.385     -0.035      0.972   -5400.533    5210.285\n",
      "Job Title_Director of Marketing                  1.617e+04   2473.493      6.539      0.000    1.13e+04     2.1e+04\n",
      "Job Title_Director of Operations                 4204.5899   6212.797      0.677      0.499   -7974.544    1.64e+04\n",
      "Job Title_Financial Analyst                      7395.9465   3519.453      2.101      0.036     496.655    1.43e+04\n",
      "Job Title_Financial Manager                      3.283e+04   2058.724     15.947      0.000    2.88e+04    3.69e+04\n",
      "Job Title_Front End Developer                    4167.9053   3919.375      1.063      0.288   -3515.364    1.19e+04\n",
      "Job Title_Front end Developer                    8844.5538   1653.870      5.348      0.000    5602.422    1.21e+04\n",
      "Job Title_Full Stack Engineer                    2.296e+04   1533.157     14.974      0.000       2e+04     2.6e+04\n",
      "Job Title_Graphic Designer                      -1.374e+04   4609.829     -2.981      0.003   -2.28e+04   -4704.070\n",
      "Job Title_Human Resources Coordinator           -2.408e+04   3198.036     -7.530      0.000   -3.04e+04   -1.78e+04\n",
      "Job Title_Human Resources Manager                -349.0826   2297.844     -0.152      0.879   -4853.617    4155.451\n",
      "Job Title_Junior Accountant                     -2.303e+04   1.06e+04     -2.176      0.030   -4.38e+04   -2281.020\n",
      "Job Title_Junior Business Analyst               -2.097e+04   7525.207     -2.787      0.005   -3.57e+04   -6218.114\n",
      "Job Title_Junior Business Development Associate -2.572e+04   8028.599     -3.204      0.001   -4.15e+04   -9986.038\n",
      "Job Title_Junior Data Analyst                   -1.636e+04   4339.475     -3.770      0.000   -2.49e+04   -7852.953\n",
      "Job Title_Junior Financial Analyst              -1.973e+04   7519.697     -2.624      0.009   -3.45e+04   -4993.468\n",
      "Job Title_Junior HR Coordinator                  -1.94e+04   4197.954     -4.622      0.000   -2.76e+04   -1.12e+04\n",
      "Job Title_Junior HR Generalist                  -1.899e+04   2989.120     -6.354      0.000   -2.49e+04   -1.31e+04\n",
      "Job Title_Junior Marketing Analyst              -2.112e+04   1.22e+04     -1.730      0.084    -4.5e+04    2816.003\n",
      "Job Title_Junior Marketing Coordinator          -2.166e+04   8665.706     -2.499      0.012   -3.86e+04   -4667.414\n",
      "Job Title_Junior Marketing Manager              -1.427e+04   3107.718     -4.591      0.000   -2.04e+04   -8176.074\n",
      "Job Title_Junior Marketing Specialist           -1.613e+04   1.22e+04     -1.321      0.187   -4.01e+04    7803.403\n",
      "Job Title_Junior Operations Analyst             -2.215e+04   1.06e+04     -2.092      0.036   -4.29e+04   -1391.723\n",
      "Job Title_Junior Product Manager                -1.725e+04   1.06e+04     -1.630      0.103    -3.8e+04    3501.588\n",
      "Job Title_Junior Project Manager                -1.586e+04   1.49e+04     -1.062      0.288   -4.51e+04    1.34e+04\n",
      "Job Title_Junior Sales Associate                -1.633e+04   2763.460     -5.909      0.000   -2.17e+04   -1.09e+04\n",
      "Job Title_Junior Sales Representative           -1.663e+04   3590.085     -4.631      0.000   -2.37e+04   -9589.368\n",
      "Job Title_Junior Software Developer             -2.602e+04   2962.221     -8.785      0.000   -3.18e+04   -2.02e+04\n",
      "Job Title_Junior Software Engineer              -9847.5742   3123.585     -3.153      0.002    -1.6e+04   -3724.316\n",
      "Job Title_Junior Web Developer                  -1.921e+04   3360.212     -5.717      0.000   -2.58e+04   -1.26e+04\n",
      "Job Title_Juniour HR Coordinator                -9593.9629   1.24e+04     -0.777      0.437   -3.38e+04    1.46e+04\n",
      "Job Title_Juniour HR Generalist                 -5358.5091   1.51e+04     -0.356      0.722   -3.49e+04    2.41e+04\n",
      "Job Title_Marketing Analyst                     -6820.5627   2084.995     -3.271      0.001   -1.09e+04   -2733.283\n",
      "Job Title_Marketing Coordinator                 -5127.4626   1944.001     -2.638      0.008   -8938.347   -1316.578\n",
      "Job Title_Marketing Director                     5.455e+04   2870.698     19.002      0.000    4.89e+04    6.02e+04\n",
      "Job Title_Marketing Manager                      9337.9883   1644.415      5.679      0.000    6114.392    1.26e+04\n",
      "Job Title_Marketing Specialist                  -4.286e+04   2.11e+04     -2.032      0.042   -8.42e+04   -1502.066\n",
      "Job Title_Operations Manager                     -163.3357   2225.723     -0.073      0.942   -4526.487    4199.816\n",
      "Job Title_Product Designer                      -9417.4146   2648.096     -3.556      0.000   -1.46e+04   -4226.271\n",
      "Job Title_Product Manager                        4.584e+04   1521.599     30.126      0.000    4.29e+04    4.88e+04\n",
      "Job Title_Project Manager                        2.174e+04   4599.581      4.726      0.000    1.27e+04    3.08e+04\n",
      "Job Title_Receptionist                          -1.157e+04   3521.623     -3.285      0.001   -1.85e+04   -4665.032\n",
      "Job Title_Research Director                      4.577e+04   2807.826     16.302      0.000    4.03e+04    5.13e+04\n",
      "Job Title_Research Scientist                     4.436e+04   2893.040     15.334      0.000    3.87e+04       5e+04\n",
      "Job Title_Sales Associate                       -1.024e+04   3207.965     -3.191      0.001   -1.65e+04   -3949.102\n",
      "Job Title_Sales Director                         2.258e+04   2842.749      7.944      0.000     1.7e+04    2.82e+04\n",
      "Job Title_Sales Executive                       -1.057e+04   3751.304     -2.817      0.005   -1.79e+04   -3213.437\n",
      "Job Title_Sales Manager                          1.153e+04   2978.851      3.872      0.000    5693.564    1.74e+04\n",
      "Job Title_Sales Representative                  -1.993e+04   3552.522     -5.610      0.000   -2.69e+04    -1.3e+04\n",
      "Job Title_Senior Business Analyst                2430.0368   6727.211      0.361      0.718   -1.08e+04    1.56e+04\n",
      "Job Title_Senior Business Development Manager    6852.0796   1.06e+04      0.648      0.517   -1.39e+04    2.76e+04\n",
      "Job Title_Senior Data Analyst                     924.4573   1.22e+04      0.076      0.940   -2.31e+04    2.49e+04\n",
      "Job Title_Senior Data Engineer                   4023.8814    1.5e+04      0.269      0.788   -2.53e+04    3.33e+04\n",
      "Job Title_Senior Data Scientist                  3.128e+04   2890.436     10.821      0.000    2.56e+04    3.69e+04\n",
      "Job Title_Senior Engineer                       -9203.9945    1.5e+04     -0.615      0.538   -3.85e+04    2.01e+04\n",
      "Job Title_Senior Financial Advisor               1170.8114   1.22e+04      0.096      0.924   -2.28e+04    2.51e+04\n",
      "Job Title_Senior Financial Analyst               2250.0024   8020.263      0.281      0.779   -1.35e+04     1.8e+04\n",
      "Job Title_Senior Financial Manager               -302.1171   9472.624     -0.032      0.975   -1.89e+04    1.83e+04\n",
      "Job Title_Senior HR Generalist                  -1.058e+04   3420.906     -3.093      0.002   -1.73e+04   -3874.954\n",
      "Job Title_Senior HR Manager                      -351.2872   1.22e+04     -0.029      0.977   -2.43e+04    2.36e+04\n",
      "Job Title_Senior Human Resources Manager        -3187.1387   3182.209     -1.002      0.317   -9425.320    3051.043\n",
      "Job Title_Senior Marketing Analyst              -1.421e+04   7515.298     -1.891      0.059   -2.89e+04     520.655\n",
      "Job Title_Senior Marketing Manager              -2649.6975   6169.589     -0.429      0.668   -1.47e+04    9444.734\n",
      "Job Title_Senior Marketing Specialist           -1032.9052   1.06e+04     -0.098      0.922   -2.18e+04    1.97e+04\n",
      "Job Title_Senior Operations Analyst             -9194.2274   1.49e+04     -0.616      0.538   -3.85e+04    2.01e+04\n",
      "Job Title_Senior Operations Coordinator         -1297.8960   1.22e+04     -0.106      0.915   -2.52e+04    2.26e+04\n",
      "Job Title_Senior Operations Manager              1414.7320   1.06e+04      0.134      0.894   -1.93e+04    2.22e+04\n",
      "Job Title_Senior Product Designer                4573.7554   9518.970      0.480      0.631   -1.41e+04    2.32e+04\n",
      "Job Title_Senior Product Manager                 1.092e+04   9473.188      1.153      0.249   -7650.932    2.95e+04\n",
      "Job Title_Senior Product Marketing Manager       7525.7466   2716.729      2.770      0.006    2200.061    1.29e+04\n",
      "Job Title_Senior Project Coordinator            -1.941e+04   9472.163     -2.049      0.041    -3.8e+04    -838.606\n",
      "Job Title_Senior Project Engineer                3.144e+04   1580.314     19.894      0.000    2.83e+04    3.45e+04\n",
      "Job Title_Senior Project Manager                -4813.0470   8032.022     -0.599      0.549   -2.06e+04    1.09e+04\n",
      "Job Title_Senior Research Scientist              1.647e+04   3280.132      5.021      0.000       1e+04    2.29e+04\n",
      "Job Title_Senior Sales Manager                  -1.639e+04   1.49e+04     -1.097      0.273   -4.57e+04    1.29e+04\n",
      "Job Title_Senior Scientist                      -1448.9945    1.5e+04     -0.097      0.923   -3.08e+04    2.79e+04\n",
      "Job Title_Senior Software Developer               473.4700   1.22e+04      0.039      0.969   -2.35e+04    2.44e+04\n",
      "Job Title_Senior Software Engineer               2.002e+04   1707.176     11.728      0.000    1.67e+04    2.34e+04\n",
      "Job Title_Senior Training Specialist            -2.342e+04   2.11e+04     -1.110      0.267   -6.48e+04    1.79e+04\n",
      "Job Title_Senior UX Designer                     1.099e+04   1.22e+04      0.898      0.369    -1.3e+04     3.5e+04\n",
      "Job Title_Social Media Manager                  -1.179e+04   5540.924     -2.127      0.033   -2.26e+04    -924.408\n",
      "Job Title_Software Developer                    -5140.1242   2132.445     -2.410      0.016   -9320.422    -959.827\n",
      "Job Title_Software Engineer                       3.67e+04   1344.478     27.298      0.000    3.41e+04    3.93e+04\n",
      "Job Title_Software Engineer Manager              2.668e+04   1599.356     16.684      0.000    2.35e+04    2.98e+04\n",
      "Job Title_Software Project Manager              -7300.0912   2.11e+04     -0.346      0.729   -4.86e+04     3.4e+04\n",
      "Job Title_Web Developer                          -1.24e+04   2440.627     -5.079      0.000   -1.72e+04   -7612.671\n",
      "Age                                               583.1301    118.769      4.910      0.000     350.304     815.956\n",
      "Gender_Female                                    1.305e+04   1775.155      7.351      0.000    9569.129    1.65e+04\n",
      "Gender_Male                                      1.328e+04   1791.033      7.416      0.000    9770.813    1.68e+04\n",
      "Gender_Other                                    -6432.1436   4463.797     -1.441      0.150   -1.52e+04    2318.373\n",
      "==============================================================================\n",
      "Omnibus:                       97.368   Durbin-Watson:                   0.216\n",
      "Prob(Omnibus):                  0.000   Jarque-Bera (JB):              178.435\n",
      "Skew:                          -0.062   Prob(JB):                     1.79e-39\n",
      "Kurtosis:                       3.797   Cond. No.                     4.44e+16\n",
      "==============================================================================\n",
      "\n",
      "Notes:\n",
      "[1] Standard Errors assume that the covariance matrix of the errors is correctly specified.\n",
      "[2] The smallest eigenvalue is 4.24e-27. This might indicate that there are\n",
      "strong multicollinearity problems or that the design matrix is singular.\n"
     ]
    }
   ],
   "execution_count": 94
  },
  {
   "cell_type": "markdown",
   "metadata": {},
   "source": [
    "And as we have mentioned, it warns us of possible multicollinearity."
   ]
  },
  {
   "cell_type": "code",
   "metadata": {
    "ExecuteTime": {
     "end_time": "2025-05-12T18:56:54.643454Z",
     "start_time": "2025-05-12T18:56:54.629290Z"
    }
   },
   "source": [
    "print(ols1.condition_number)  #Condition Number"
   ],
   "outputs": [
    {
     "name": "stdout",
     "output_type": "stream",
     "text": [
      "4.442347874120708e+16\n"
     ]
    }
   ],
   "execution_count": 95
  },
  {
   "cell_type": "markdown",
   "metadata": {},
   "source": [
    "A high condition number suggests possible multicollinearity in the data, meaning that at least one of the predictor variables is almost a linear combination of the others. This can lead to problems in estimating the coefficients of the model, as small changes in the data or in the model can result in large changes in the estimated coefficients. In practical terms, a high condition number can make the results of the regression unreliable.\n",
    "\n",
    "**In general terms:**\n",
    "\n",
    "- A condition number close to 1 indicates a well-conditioned problem (low risk of multicollinearity).\n",
    "- A moderately high condition number (values in the thousands or tens of thousands) may be cause for some concern and warrants further investigation.\n",
    "- A very high condition number (values in the hundreds of thousands or more) suggests a high degree of multicollinearity and a potentially poorly conditioned problem.\n",
    "\n",
    "In our case, we see that this is an enormous number, the error is possibly due to the creation of the dummies which create 200 different new variables.\n",
    "Therefore, we are going to use techniques such as the variance inflation factor (VIF) to identify and possibly eliminate independent variables that are highly correlated."
   ]
  },
  {
   "cell_type": "code",
   "metadata": {
    "ExecuteTime": {
     "end_time": "2025-05-12T18:56:54.675069Z",
     "start_time": "2025-05-12T18:56:54.644963Z"
    }
   },
   "source": [
    "data = pd.read_csv('Salary_Data.csv')\n",
    "data = pd.get_dummies(data, columns=['Education Level', 'Job Title', 'Gender'], dtype=int)\n",
    "\n",
    "display(data)"
   ],
   "outputs": [
    {
     "data": {
      "text/plain": [
       "      Age  Years of Experience  Salary  Education Level_Bachelor's Degree  \\\n",
       "0      46                   18  155795                                  1   \n",
       "1      46                   18  155795                                  1   \n",
       "2      46                   18  155795                                  1   \n",
       "3      46                   18  155795                                  1   \n",
       "4      38                   10  155000                                  0   \n",
       "...   ...                  ...     ...                                ...   \n",
       "6577   25                    2   69032                                  0   \n",
       "6578   23                    2   62852                                  0   \n",
       "6579   23                    2   62852                                  0   \n",
       "6580   31                    8  104127                                  0   \n",
       "6581   31                    8  104127                                  0   \n",
       "\n",
       "      Education Level_High School  Education Level_Master's Degree  \\\n",
       "0                               0                                0   \n",
       "1                               0                                0   \n",
       "2                               0                                0   \n",
       "3                               0                                0   \n",
       "4                               0                                1   \n",
       "...                           ...                              ...   \n",
       "6577                            1                                0   \n",
       "6578                            1                                0   \n",
       "6579                            1                                0   \n",
       "6580                            1                                0   \n",
       "6581                            1                                0   \n",
       "\n",
       "      Education Level_PhD  Job Title_Back end Developer  \\\n",
       "0                       0                             1   \n",
       "1                       0                             1   \n",
       "2                       0                             1   \n",
       "3                       0                             1   \n",
       "4                       0                             1   \n",
       "...                   ...                           ...   \n",
       "6577                    0                             0   \n",
       "6578                    0                             0   \n",
       "6579                    0                             0   \n",
       "6580                    0                             1   \n",
       "6581                    0                             1   \n",
       "\n",
       "      Job Title_Content Marketing Manager  \\\n",
       "0                                       0   \n",
       "1                                       0   \n",
       "2                                       0   \n",
       "3                                       0   \n",
       "4                                       0   \n",
       "...                                   ...   \n",
       "6577                                    0   \n",
       "6578                                    0   \n",
       "6579                                    0   \n",
       "6580                                    0   \n",
       "6581                                    0   \n",
       "\n",
       "      Job Title_Customer Service Representative  ...  \\\n",
       "0                                             0  ...   \n",
       "1                                             0  ...   \n",
       "2                                             0  ...   \n",
       "3                                             0  ...   \n",
       "4                                             0  ...   \n",
       "...                                         ...  ...   \n",
       "6577                                          0  ...   \n",
       "6578                                          0  ...   \n",
       "6579                                          0  ...   \n",
       "6580                                          0  ...   \n",
       "6581                                          0  ...   \n",
       "\n",
       "      Job Title_Senior UX Designer  Job Title_Social Media Manager  \\\n",
       "0                                0                               0   \n",
       "1                                0                               0   \n",
       "2                                0                               0   \n",
       "3                                0                               0   \n",
       "4                                0                               0   \n",
       "...                            ...                             ...   \n",
       "6577                             0                               0   \n",
       "6578                             0                               0   \n",
       "6579                             0                               0   \n",
       "6580                             0                               0   \n",
       "6581                             0                               0   \n",
       "\n",
       "      Job Title_Software Developer  Job Title_Software Engineer  \\\n",
       "0                                0                            0   \n",
       "1                                0                            0   \n",
       "2                                0                            0   \n",
       "3                                0                            0   \n",
       "4                                0                            0   \n",
       "...                            ...                          ...   \n",
       "6577                             0                            0   \n",
       "6578                             0                            0   \n",
       "6579                             0                            0   \n",
       "6580                             0                            0   \n",
       "6581                             0                            0   \n",
       "\n",
       "      Job Title_Software Engineer Manager  Job Title_Software Project Manager  \\\n",
       "0                                       0                                   0   \n",
       "1                                       0                                   0   \n",
       "2                                       0                                   0   \n",
       "3                                       0                                   0   \n",
       "4                                       0                                   0   \n",
       "...                                   ...                                 ...   \n",
       "6577                                    0                                   0   \n",
       "6578                                    0                                   0   \n",
       "6579                                    0                                   0   \n",
       "6580                                    0                                   0   \n",
       "6581                                    0                                   0   \n",
       "\n",
       "      Job Title_Web Developer  Gender_Female  Gender_Male  Gender_Other  \n",
       "0                           0              1            0             0  \n",
       "1                           0              1            0             0  \n",
       "2                           0              1            0             0  \n",
       "3                           0              1            0             0  \n",
       "4                           0              1            0             0  \n",
       "...                       ...            ...          ...           ...  \n",
       "6577                        0              0            0             1  \n",
       "6578                        0              0            0             1  \n",
       "6579                        0              0            0             1  \n",
       "6580                        0              0            0             1  \n",
       "6581                        0              0            0             1  \n",
       "\n",
       "[6582 rows x 107 columns]"
      ],
      "text/html": [
       "<div>\n",
       "<style scoped>\n",
       "    .dataframe tbody tr th:only-of-type {\n",
       "        vertical-align: middle;\n",
       "    }\n",
       "\n",
       "    .dataframe tbody tr th {\n",
       "        vertical-align: top;\n",
       "    }\n",
       "\n",
       "    .dataframe thead th {\n",
       "        text-align: right;\n",
       "    }\n",
       "</style>\n",
       "<table border=\"1\" class=\"dataframe\">\n",
       "  <thead>\n",
       "    <tr style=\"text-align: right;\">\n",
       "      <th></th>\n",
       "      <th>Age</th>\n",
       "      <th>Years of Experience</th>\n",
       "      <th>Salary</th>\n",
       "      <th>Education Level_Bachelor's Degree</th>\n",
       "      <th>Education Level_High School</th>\n",
       "      <th>Education Level_Master's Degree</th>\n",
       "      <th>Education Level_PhD</th>\n",
       "      <th>Job Title_Back end Developer</th>\n",
       "      <th>Job Title_Content Marketing Manager</th>\n",
       "      <th>Job Title_Customer Service Representative</th>\n",
       "      <th>...</th>\n",
       "      <th>Job Title_Senior UX Designer</th>\n",
       "      <th>Job Title_Social Media Manager</th>\n",
       "      <th>Job Title_Software Developer</th>\n",
       "      <th>Job Title_Software Engineer</th>\n",
       "      <th>Job Title_Software Engineer Manager</th>\n",
       "      <th>Job Title_Software Project Manager</th>\n",
       "      <th>Job Title_Web Developer</th>\n",
       "      <th>Gender_Female</th>\n",
       "      <th>Gender_Male</th>\n",
       "      <th>Gender_Other</th>\n",
       "    </tr>\n",
       "  </thead>\n",
       "  <tbody>\n",
       "    <tr>\n",
       "      <th>0</th>\n",
       "      <td>46</td>\n",
       "      <td>18</td>\n",
       "      <td>155795</td>\n",
       "      <td>1</td>\n",
       "      <td>0</td>\n",
       "      <td>0</td>\n",
       "      <td>0</td>\n",
       "      <td>1</td>\n",
       "      <td>0</td>\n",
       "      <td>0</td>\n",
       "      <td>...</td>\n",
       "      <td>0</td>\n",
       "      <td>0</td>\n",
       "      <td>0</td>\n",
       "      <td>0</td>\n",
       "      <td>0</td>\n",
       "      <td>0</td>\n",
       "      <td>0</td>\n",
       "      <td>1</td>\n",
       "      <td>0</td>\n",
       "      <td>0</td>\n",
       "    </tr>\n",
       "    <tr>\n",
       "      <th>1</th>\n",
       "      <td>46</td>\n",
       "      <td>18</td>\n",
       "      <td>155795</td>\n",
       "      <td>1</td>\n",
       "      <td>0</td>\n",
       "      <td>0</td>\n",
       "      <td>0</td>\n",
       "      <td>1</td>\n",
       "      <td>0</td>\n",
       "      <td>0</td>\n",
       "      <td>...</td>\n",
       "      <td>0</td>\n",
       "      <td>0</td>\n",
       "      <td>0</td>\n",
       "      <td>0</td>\n",
       "      <td>0</td>\n",
       "      <td>0</td>\n",
       "      <td>0</td>\n",
       "      <td>1</td>\n",
       "      <td>0</td>\n",
       "      <td>0</td>\n",
       "    </tr>\n",
       "    <tr>\n",
       "      <th>2</th>\n",
       "      <td>46</td>\n",
       "      <td>18</td>\n",
       "      <td>155795</td>\n",
       "      <td>1</td>\n",
       "      <td>0</td>\n",
       "      <td>0</td>\n",
       "      <td>0</td>\n",
       "      <td>1</td>\n",
       "      <td>0</td>\n",
       "      <td>0</td>\n",
       "      <td>...</td>\n",
       "      <td>0</td>\n",
       "      <td>0</td>\n",
       "      <td>0</td>\n",
       "      <td>0</td>\n",
       "      <td>0</td>\n",
       "      <td>0</td>\n",
       "      <td>0</td>\n",
       "      <td>1</td>\n",
       "      <td>0</td>\n",
       "      <td>0</td>\n",
       "    </tr>\n",
       "    <tr>\n",
       "      <th>3</th>\n",
       "      <td>46</td>\n",
       "      <td>18</td>\n",
       "      <td>155795</td>\n",
       "      <td>1</td>\n",
       "      <td>0</td>\n",
       "      <td>0</td>\n",
       "      <td>0</td>\n",
       "      <td>1</td>\n",
       "      <td>0</td>\n",
       "      <td>0</td>\n",
       "      <td>...</td>\n",
       "      <td>0</td>\n",
       "      <td>0</td>\n",
       "      <td>0</td>\n",
       "      <td>0</td>\n",
       "      <td>0</td>\n",
       "      <td>0</td>\n",
       "      <td>0</td>\n",
       "      <td>1</td>\n",
       "      <td>0</td>\n",
       "      <td>0</td>\n",
       "    </tr>\n",
       "    <tr>\n",
       "      <th>4</th>\n",
       "      <td>38</td>\n",
       "      <td>10</td>\n",
       "      <td>155000</td>\n",
       "      <td>0</td>\n",
       "      <td>0</td>\n",
       "      <td>1</td>\n",
       "      <td>0</td>\n",
       "      <td>1</td>\n",
       "      <td>0</td>\n",
       "      <td>0</td>\n",
       "      <td>...</td>\n",
       "      <td>0</td>\n",
       "      <td>0</td>\n",
       "      <td>0</td>\n",
       "      <td>0</td>\n",
       "      <td>0</td>\n",
       "      <td>0</td>\n",
       "      <td>0</td>\n",
       "      <td>1</td>\n",
       "      <td>0</td>\n",
       "      <td>0</td>\n",
       "    </tr>\n",
       "    <tr>\n",
       "      <th>...</th>\n",
       "      <td>...</td>\n",
       "      <td>...</td>\n",
       "      <td>...</td>\n",
       "      <td>...</td>\n",
       "      <td>...</td>\n",
       "      <td>...</td>\n",
       "      <td>...</td>\n",
       "      <td>...</td>\n",
       "      <td>...</td>\n",
       "      <td>...</td>\n",
       "      <td>...</td>\n",
       "      <td>...</td>\n",
       "      <td>...</td>\n",
       "      <td>...</td>\n",
       "      <td>...</td>\n",
       "      <td>...</td>\n",
       "      <td>...</td>\n",
       "      <td>...</td>\n",
       "      <td>...</td>\n",
       "      <td>...</td>\n",
       "      <td>...</td>\n",
       "    </tr>\n",
       "    <tr>\n",
       "      <th>6577</th>\n",
       "      <td>25</td>\n",
       "      <td>2</td>\n",
       "      <td>69032</td>\n",
       "      <td>0</td>\n",
       "      <td>1</td>\n",
       "      <td>0</td>\n",
       "      <td>0</td>\n",
       "      <td>0</td>\n",
       "      <td>0</td>\n",
       "      <td>0</td>\n",
       "      <td>...</td>\n",
       "      <td>0</td>\n",
       "      <td>0</td>\n",
       "      <td>0</td>\n",
       "      <td>0</td>\n",
       "      <td>0</td>\n",
       "      <td>0</td>\n",
       "      <td>0</td>\n",
       "      <td>0</td>\n",
       "      <td>0</td>\n",
       "      <td>1</td>\n",
       "    </tr>\n",
       "    <tr>\n",
       "      <th>6578</th>\n",
       "      <td>23</td>\n",
       "      <td>2</td>\n",
       "      <td>62852</td>\n",
       "      <td>0</td>\n",
       "      <td>1</td>\n",
       "      <td>0</td>\n",
       "      <td>0</td>\n",
       "      <td>0</td>\n",
       "      <td>0</td>\n",
       "      <td>0</td>\n",
       "      <td>...</td>\n",
       "      <td>0</td>\n",
       "      <td>0</td>\n",
       "      <td>0</td>\n",
       "      <td>0</td>\n",
       "      <td>0</td>\n",
       "      <td>0</td>\n",
       "      <td>0</td>\n",
       "      <td>0</td>\n",
       "      <td>0</td>\n",
       "      <td>1</td>\n",
       "    </tr>\n",
       "    <tr>\n",
       "      <th>6579</th>\n",
       "      <td>23</td>\n",
       "      <td>2</td>\n",
       "      <td>62852</td>\n",
       "      <td>0</td>\n",
       "      <td>1</td>\n",
       "      <td>0</td>\n",
       "      <td>0</td>\n",
       "      <td>0</td>\n",
       "      <td>0</td>\n",
       "      <td>0</td>\n",
       "      <td>...</td>\n",
       "      <td>0</td>\n",
       "      <td>0</td>\n",
       "      <td>0</td>\n",
       "      <td>0</td>\n",
       "      <td>0</td>\n",
       "      <td>0</td>\n",
       "      <td>0</td>\n",
       "      <td>0</td>\n",
       "      <td>0</td>\n",
       "      <td>1</td>\n",
       "    </tr>\n",
       "    <tr>\n",
       "      <th>6580</th>\n",
       "      <td>31</td>\n",
       "      <td>8</td>\n",
       "      <td>104127</td>\n",
       "      <td>0</td>\n",
       "      <td>1</td>\n",
       "      <td>0</td>\n",
       "      <td>0</td>\n",
       "      <td>1</td>\n",
       "      <td>0</td>\n",
       "      <td>0</td>\n",
       "      <td>...</td>\n",
       "      <td>0</td>\n",
       "      <td>0</td>\n",
       "      <td>0</td>\n",
       "      <td>0</td>\n",
       "      <td>0</td>\n",
       "      <td>0</td>\n",
       "      <td>0</td>\n",
       "      <td>0</td>\n",
       "      <td>0</td>\n",
       "      <td>1</td>\n",
       "    </tr>\n",
       "    <tr>\n",
       "      <th>6581</th>\n",
       "      <td>31</td>\n",
       "      <td>8</td>\n",
       "      <td>104127</td>\n",
       "      <td>0</td>\n",
       "      <td>1</td>\n",
       "      <td>0</td>\n",
       "      <td>0</td>\n",
       "      <td>1</td>\n",
       "      <td>0</td>\n",
       "      <td>0</td>\n",
       "      <td>...</td>\n",
       "      <td>0</td>\n",
       "      <td>0</td>\n",
       "      <td>0</td>\n",
       "      <td>0</td>\n",
       "      <td>0</td>\n",
       "      <td>0</td>\n",
       "      <td>0</td>\n",
       "      <td>0</td>\n",
       "      <td>0</td>\n",
       "      <td>1</td>\n",
       "    </tr>\n",
       "  </tbody>\n",
       "</table>\n",
       "<p>6582 rows × 107 columns</p>\n",
       "</div>"
      ]
     },
     "metadata": {},
     "output_type": "display_data"
    }
   ],
   "execution_count": 96
  },
  {
   "cell_type": "code",
   "metadata": {
    "ExecuteTime": {
     "end_time": "2025-05-12T18:56:54.706893Z",
     "start_time": "2025-05-12T18:56:54.676946Z"
    }
   },
   "source": [
    "y = data['Salary']\n",
    "\n",
    "education_columns = [col for col in data if col.startswith('Education Level_')]\n",
    "job_columns = [col for col in data if col.startswith('Job Title_')]\n",
    "gender_columns = [col for col in data if col.startswith('Gender_')]\n",
    "\n",
    "X = sm.add_constant(data[education_columns + ['Years of Experience'] + job_columns + ['Age'] + gender_columns])"
   ],
   "outputs": [],
   "execution_count": 97
  },
  {
   "cell_type": "code",
   "metadata": {
    "ExecuteTime": {
     "end_time": "2025-05-12T18:57:03.478072Z",
     "start_time": "2025-05-12T18:56:54.707876Z"
    }
   },
   "source": [
    "vifs = [oi.variance_inflation_factor(X.values, i) for i in range(X.shape[1])]\n",
    "print(vifs)"
   ],
   "outputs": [
    {
     "name": "stderr",
     "output_type": "stream",
     "text": [
      "C:\\Users\\matth\\AppData\\Local\\Programs\\Python\\Python310\\lib\\site-packages\\statsmodels\\regression\\linear_model.py:1782: RuntimeWarning: divide by zero encountered in scalar divide\n",
      "  return 1 - self.ssr/self.centered_tss\n",
      "C:\\Users\\matth\\AppData\\Local\\Programs\\Python\\Python310\\lib\\site-packages\\statsmodels\\stats\\outliers_influence.py:197: RuntimeWarning: divide by zero encountered in scalar divide\n",
      "  vif = 1. / (1. - r_squared_i)\n"
     ]
    },
    {
     "name": "stdout",
     "output_type": "stream",
     "text": [
      "[0.0, inf, inf, inf, inf, 11.453897890225157, inf, inf, inf, inf, inf, inf, inf, inf, inf, inf, inf, inf, inf, inf, inf, inf, inf, inf, inf, inf, inf, inf, inf, inf, inf, inf, inf, inf, inf, inf, inf, inf, inf, inf, inf, inf, inf, inf, inf, inf, inf, inf, inf, inf, inf, inf, inf, inf, inf, inf, inf, inf, inf, inf, inf, inf, inf, inf, inf, inf, inf, inf, inf, inf, inf, inf, inf, inf, inf, inf, inf, inf, inf, inf, inf, inf, inf, inf, inf, inf, inf, inf, inf, inf, inf, inf, inf, inf, inf, inf, inf, inf, inf, inf, inf, inf, inf, 11.852499000546821, inf, inf, inf]\n"
     ]
    }
   ],
   "execution_count": 98
  },
  {
   "cell_type": "markdown",
   "metadata": {},
   "source": [
    "We observe the warning \"RuntimeWarning: divide by zero encountered in scalar divide\" which suggests that in the calculation of some VIF, a division by zero is being attempted. This usually occurs when one of the independent variables in the regression model is a perfect linear combination of other independent variables, or it has an extremely low variance that is causing numerical issues.\n",
    "\n",
    "The VIF values are displayed in the output, and many of them are infinite, denoted by inf. An infinite VIF value indicates perfect multicollinearity, meaning that some predictor variables can be exactly predicted from other predictor variables in the model without error."
   ]
  },
  {
   "cell_type": "code",
   "metadata": {
    "ExecuteTime": {
     "end_time": "2025-05-12T18:57:03.493864Z",
     "start_time": "2025-05-12T18:57:03.479026Z"
    }
   },
   "source": [
    "corr_matrix = np.corrcoef(X.T)\n",
    "print(corr_matrix)"
   ],
   "outputs": [
    {
     "name": "stdout",
     "output_type": "stream",
     "text": [
      "[[        nan         nan         nan ...         nan         nan\n",
      "          nan]\n",
      " [        nan  1.         -0.24296903 ... -0.1037192   0.1075222\n",
      "  -0.04155774]\n",
      " [        nan -0.24296903  1.         ...  0.06142793 -0.07481163\n",
      "   0.14482651]\n",
      " ...\n",
      " [        nan -0.1037192   0.06142793 ...  1.         -0.99571119\n",
      "  -0.04162161]\n",
      " [        nan  0.1075222  -0.07481163 ... -0.99571119  1.\n",
      "  -0.05099286]\n",
      " [        nan -0.04155774  0.14482651 ... -0.04162161 -0.05099286\n",
      "   1.        ]]\n"
     ]
    },
    {
     "name": "stderr",
     "output_type": "stream",
     "text": [
      "C:\\Users\\matth\\AppData\\Local\\Programs\\Python\\Python310\\lib\\site-packages\\numpy\\lib\\function_base.py:2897: RuntimeWarning: invalid value encountered in divide\n",
      "  c /= stddev[:, None]\n",
      "C:\\Users\\matth\\AppData\\Local\\Programs\\Python\\Python310\\lib\\site-packages\\numpy\\lib\\function_base.py:2898: RuntimeWarning: invalid value encountered in divide\n",
      "  c /= stddev[None, :]\n"
     ]
    }
   ],
   "execution_count": 99
  },
  {
   "cell_type": "code",
   "metadata": {
    "ExecuteTime": {
     "end_time": "2025-05-12T18:57:05.145229Z",
     "start_time": "2025-05-12T18:57:03.495180Z"
    }
   },
   "source": [
    "smg.plot_corr(corr_matrix, X)\n",
    "plt.show()"
   ],
   "outputs": [
    {
     "data": {
      "text/plain": [
       "<Figure size 640x480 with 2 Axes>"
      ],
      "image/png": "[encoded data removed]"
     },
     "metadata": {},
     "output_type": "display_data"
    }
   ],
   "execution_count": 100
  },
  {
   "cell_type": "markdown",
   "metadata": {},
   "source": [
    "It is quite evident what could be the first remedy for this problem... Reducing the number of variables, this will be achieved by studying which variables have no relevance to eliminate them and by grouping those that are positive for the model.\n",
    "\n",
    "Let's do a very simple first test just by adding drop_first=True when creating the dummies to eliminate the first column."
   ]
  },
  {
   "cell_type": "code",
   "metadata": {
    "ExecuteTime": {
     "end_time": "2025-05-12T18:57:05.327218Z",
     "start_time": "2025-05-12T18:57:05.146244Z"
    }
   },
   "source": [
    "data = pd.read_csv('Salary_Data.csv')\n",
    "data = pd.get_dummies(data, columns=['Education Level', 'Job Title', 'Gender'], drop_first=True, dtype=int)\n",
    "y = data['Salary']\n",
    "\n",
    "education_columns = [col for col in data if col.startswith('Education Level_')]\n",
    "job_columns = [col for col in data if col.startswith('Job Title_')]\n",
    "gender_columns = [col for col in data if col.startswith('Gender_')]\n",
    "\n",
    "X = sm.add_constant(data[education_columns + ['Years of Experience'] + job_columns + ['Age'] + gender_columns])\n",
    "\n",
    "ols1 = sm.OLS(y, X).fit()\n",
    "print(ols1.summary())"
   ],
   "outputs": [
    {
     "name": "stdout",
     "output_type": "stream",
     "text": [
      "                            OLS Regression Results                            \n",
      "==============================================================================\n",
      "Dep. Variable:                 Salary   R-squared:                       0.839\n",
      "Model:                            OLS   Adj. R-squared:                  0.837\n",
      "Method:                 Least Squares   F-statistic:                     328.4\n",
      "Date:                Mon, 12 May 2025   Prob (F-statistic):               0.00\n",
      "Time:                        20:57:05   Log-Likelihood:                -74882.\n",
      "No. Observations:                6582   AIC:                         1.500e+05\n",
      "Df Residuals:                    6478   BIC:                         1.507e+05\n",
      "Df Model:                         103                                         \n",
      "Covariance Type:            nonrobust                                         \n",
      "===================================================================================================================\n",
      "                                                      coef    std err          t      P>|t|      [0.025      0.975]\n",
      "-------------------------------------------------------------------------------------------------------------------\n",
      "const                                            5.526e+04   3194.010     17.301      0.000     4.9e+04    6.15e+04\n",
      "Education Level_High School                     -1.608e+04   2139.806     -7.513      0.000   -2.03e+04   -1.19e+04\n",
      "Education Level_Master's Degree                  5723.8372    825.223      6.936      0.000    4106.128    7341.546\n",
      "Education Level_PhD                              6626.1696   1243.293      5.330      0.000    4188.905    9063.434\n",
      "Years of Experience                              4626.4024    146.956     31.482      0.000    4338.320    4914.485\n",
      "Job Title_Content Marketing Manager             -8631.8854   2886.386     -2.991      0.003   -1.43e+04   -2973.616\n",
      "Job Title_Customer Service Representative       -3.333e+04   8966.026     -3.718      0.000   -5.09e+04   -1.58e+04\n",
      "Job Title_Customer Success Representative       -3.505e+04   2.13e+04     -1.642      0.101   -7.69e+04    6784.625\n",
      "Job Title_Data Analyst                           2.876e+04   1776.861     16.187      0.000    2.53e+04    3.22e+04\n",
      "Job Title_Data Scientist                         3.185e+04   1908.048     16.694      0.000    2.81e+04    3.56e+04\n",
      "Job Title_Delivery Driver                       -2.541e+04   9828.033     -2.586      0.010   -4.47e+04   -6146.500\n",
      "Job Title_Digital Marketing Manager             -1.584e+04   3258.043     -4.861      0.000   -2.22e+04   -9450.353\n",
      "Job Title_Digital Marketing Specialist            -2.6e+04   5695.005     -4.565      0.000   -3.72e+04   -1.48e+04\n",
      "Job Title_Director of Data Science               3.805e+04   3352.209     11.350      0.000    3.15e+04    4.46e+04\n",
      "Job Title_Director of Engineering                1292.8106   1.51e+04      0.085      0.932   -2.84e+04     3.1e+04\n",
      "Job Title_Director of HR                         -1.65e+04   2964.596     -5.566      0.000   -2.23e+04   -1.07e+04\n",
      "Job Title_Director of Marketing                  -232.6377   2734.911     -0.085      0.932   -5593.966    5128.691\n",
      "Job Title_Director of Operations                 -1.22e+04   6379.250     -1.913      0.056   -2.47e+04     303.328\n",
      "Job Title_Financial Analyst                     -9010.7520   3680.879     -2.448      0.014   -1.62e+04   -1795.014\n",
      "Job Title_Financial Manager                      1.642e+04   2335.719      7.032      0.000    1.18e+04     2.1e+04\n",
      "Job Title_Front End Developer                   -1.224e+04   4075.601     -3.003      0.003   -2.02e+04   -4249.270\n",
      "Job Title_Front end Developer                   -7562.1447   1946.737     -3.885      0.000   -1.14e+04   -3745.898\n",
      "Job Title_Full Stack Engineer                    6551.1065   1855.829      3.530      0.000    2913.069    1.02e+04\n",
      "Job Title_Graphic Designer                      -3.015e+04   4770.546     -6.320      0.000   -3.95e+04   -2.08e+04\n",
      "Job Title_Human Resources Coordinator           -4.049e+04   3389.608    -11.945      0.000   -4.71e+04   -3.38e+04\n",
      "Job Title_Human Resources Manager               -1.676e+04   2566.692     -6.528      0.000   -2.18e+04   -1.17e+04\n",
      "Job Title_Junior Accountant                     -3.944e+04   1.07e+04     -3.673      0.000   -6.05e+04   -1.84e+04\n",
      "Job Title_Junior Business Analyst               -3.738e+04   7668.210     -4.874      0.000   -5.24e+04   -2.23e+04\n",
      "Job Title_Junior Business Development Associate -4.213e+04   8177.164     -5.152      0.000   -5.82e+04   -2.61e+04\n",
      "Job Title_Junior Data Analyst                   -3.277e+04   4488.643     -7.300      0.000   -4.16e+04    -2.4e+04\n",
      "Job Title_Junior Financial Analyst              -3.614e+04   7669.108     -4.713      0.000   -5.12e+04   -2.11e+04\n",
      "Job Title_Junior HR Coordinator                 -3.581e+04   4392.196     -8.153      0.000   -4.44e+04   -2.72e+04\n",
      "Job Title_Junior HR Generalist                   -3.54e+04   3221.505    -10.988      0.000   -4.17e+04   -2.91e+04\n",
      "Job Title_Junior Marketing Analyst              -3.752e+04   1.24e+04     -3.031      0.002   -6.18e+04   -1.33e+04\n",
      "Job Title_Junior Marketing Coordinator          -3.806e+04   8817.166     -4.317      0.000   -5.53e+04   -2.08e+04\n",
      "Job Title_Junior Marketing Manager              -3.067e+04   3304.652     -9.282      0.000   -3.72e+04   -2.42e+04\n",
      "Job Title_Junior Marketing Specialist           -3.253e+04   1.24e+04     -2.629      0.009   -5.68e+04   -8275.171\n",
      "Job Title_Junior Operations Analyst             -3.855e+04   1.07e+04     -3.588      0.000   -5.96e+04   -1.75e+04\n",
      "Job Title_Junior Product Manager                -3.366e+04   1.07e+04     -3.133      0.002   -5.47e+04   -1.26e+04\n",
      "Job Title_Junior Project Manager                -3.226e+04   1.51e+04     -2.134      0.033   -6.19e+04   -2618.912\n",
      "Job Title_Junior Sales Associate                -3.274e+04   3035.786    -10.784      0.000   -3.87e+04   -2.68e+04\n",
      "Job Title_Junior Sales Representative           -3.303e+04   3804.279     -8.683      0.000   -4.05e+04   -2.56e+04\n",
      "Job Title_Junior Software Developer             -4.243e+04   3168.424    -13.391      0.000   -4.86e+04   -3.62e+04\n",
      "Job Title_Junior Software Engineer              -2.625e+04   3310.652     -7.930      0.000   -3.27e+04   -1.98e+04\n",
      "Job Title_Junior Web Developer                  -3.562e+04   3547.519    -10.040      0.000   -4.26e+04   -2.87e+04\n",
      "Job Title_Juniour HR Coordinator                  -2.6e+04   1.25e+04     -2.074      0.038   -5.06e+04   -1424.025\n",
      "Job Title_Juniour HR Generalist                 -2.177e+04   1.53e+04     -1.426      0.154   -5.17e+04    8145.481\n",
      "Job Title_Marketing Analyst                     -2.323e+04   2329.879     -9.969      0.000   -2.78e+04   -1.87e+04\n",
      "Job Title_Marketing Coordinator                 -2.153e+04   2235.953     -9.631      0.000   -2.59e+04   -1.72e+04\n",
      "Job Title_Marketing Director                     3.814e+04   3062.390     12.455      0.000    3.21e+04    4.41e+04\n",
      "Job Title_Marketing Manager                     -7068.7101   1968.459     -3.591      0.000   -1.09e+04   -3209.881\n",
      "Job Title_Marketing Specialist                  -5.927e+04   2.13e+04     -2.776      0.006   -1.01e+05   -1.74e+04\n",
      "Job Title_Operations Manager                    -1.657e+04   2461.709     -6.731      0.000   -2.14e+04   -1.17e+04\n",
      "Job Title_Product Designer                      -2.582e+04   2839.926     -9.093      0.000   -3.14e+04   -2.03e+04\n",
      "Job Title_Product Manager                        2.943e+04   1831.427     16.071      0.000    2.58e+04     3.3e+04\n",
      "Job Title_Project Manager                        5331.6042   4751.421      1.122      0.262   -3982.750    1.46e+04\n",
      "Job Title_Receptionist                          -2.798e+04   3756.872     -7.446      0.000   -3.53e+04   -2.06e+04\n",
      "Job Title_Research Director                      2.937e+04   3056.715      9.607      0.000    2.34e+04    3.54e+04\n",
      "Job Title_Research Scientist                     2.796e+04   3149.611      8.876      0.000    2.18e+04    3.41e+04\n",
      "Job Title_Sales Associate                       -2.664e+04   3454.034     -7.714      0.000   -3.34e+04   -1.99e+04\n",
      "Job Title_Sales Director                         6176.7759   3055.235      2.022      0.043     187.506    1.22e+04\n",
      "Job Title_Sales Executive                       -2.697e+04   3961.975     -6.808      0.000   -3.47e+04   -1.92e+04\n",
      "Job Title_Sales Manager                         -4873.6022   3197.676     -1.524      0.128   -1.11e+04    1394.899\n",
      "Job Title_Sales Representative                  -3.634e+04   3735.843     -9.727      0.000   -4.37e+04    -2.9e+04\n",
      "Job Title_Senior Business Analyst               -1.398e+04   6888.626     -2.029      0.043   -2.75e+04    -472.679\n",
      "Job Title_Senior Business Development Manager   -9554.6189   1.07e+04     -0.890      0.374   -3.06e+04    1.15e+04\n",
      "Job Title_Senior Data Analyst                   -1.548e+04   1.24e+04     -1.246      0.213   -3.98e+04    8870.547\n",
      "Job Title_Senior Data Engineer                  -1.238e+04   1.52e+04     -0.817      0.414   -4.21e+04    1.73e+04\n",
      "Job Title_Senior Data Scientist                  1.487e+04   3114.851      4.774      0.000    8763.765     2.1e+04\n",
      "Job Title_Senior Engineer                       -2.561e+04   1.52e+04     -1.690      0.091   -5.53e+04    4099.901\n",
      "Job Title_Senior Financial Advisor              -1.524e+04   1.24e+04     -1.230      0.219   -3.95e+04    9048.281\n",
      "Job Title_Senior Financial Analyst              -1.416e+04   8172.342     -1.732      0.083   -3.02e+04    1863.793\n",
      "Job Title_Senior Financial Manager              -1.671e+04   9629.921     -1.735      0.083   -3.56e+04    2169.009\n",
      "Job Title_Senior HR Generalist                  -2.699e+04   3603.833     -7.489      0.000   -3.41e+04   -1.99e+04\n",
      "Job Title_Senior HR Manager                     -1.676e+04   1.24e+04     -1.351      0.177   -4.11e+04    7560.266\n",
      "Job Title_Senior Human Resources Manager        -1.959e+04   3404.246     -5.756      0.000   -2.63e+04   -1.29e+04\n",
      "Job Title_Senior Marketing Analyst              -3.062e+04   7671.903     -3.991      0.000   -4.57e+04   -1.56e+04\n",
      "Job Title_Senior Marketing Manager              -1.906e+04   6339.413     -3.006      0.003   -3.15e+04   -6629.054\n",
      "Job Title_Senior Marketing Specialist           -1.744e+04   1.07e+04     -1.623      0.105   -3.85e+04    3621.288\n",
      "Job Title_Senior Operations Analyst              -2.56e+04   1.51e+04     -1.693      0.090   -5.52e+04    4040.261\n",
      "Job Title_Senior Operations Coordinator          -1.77e+04   1.24e+04     -1.431      0.152    -4.2e+04    6549.381\n",
      "Job Title_Senior Operations Manager             -1.499e+04   1.07e+04     -1.396      0.163    -3.6e+04    6057.517\n",
      "Job Title_Senior Product Designer               -1.183e+04   9699.847     -1.220      0.223   -3.08e+04    7181.961\n",
      "Job Title_Senior Product Manager                -5487.0530   9625.351     -0.570      0.569   -2.44e+04    1.34e+04\n",
      "Job Title_Senior Product Marketing Manager      -8880.9519   2975.789     -2.984      0.003   -1.47e+04   -3047.423\n",
      "Job Title_Senior Project Coordinator            -3.581e+04   9630.956     -3.719      0.000   -5.47e+04   -1.69e+04\n",
      "Job Title_Senior Project Engineer                1.503e+04   1967.644      7.640      0.000    1.12e+04    1.89e+04\n",
      "Job Title_Senior Project Manager                -2.122e+04   8186.656     -2.592      0.010   -3.73e+04   -5171.196\n",
      "Job Title_Senior Research Scientist                63.8692   3516.373      0.018      0.986   -6829.383    6957.122\n",
      "Job Title_Senior Sales Manager                   -3.28e+04   1.51e+04     -2.167      0.030   -6.25e+04   -3121.890\n",
      "Job Title_Senior Scientist                      -1.786e+04   1.52e+04     -1.178      0.239   -4.76e+04    1.18e+04\n",
      "Job Title_Senior Software Developer             -1.593e+04   1.24e+04     -1.287      0.198   -4.02e+04    8338.419\n",
      "Job Title_Senior Software Engineer               3614.3507   2023.884      1.786      0.074    -353.130    7581.832\n",
      "Job Title_Senior Training Specialist            -3.983e+04   2.13e+04     -1.866      0.062   -8.17e+04    2017.111\n",
      "Job Title_Senior UX Designer                    -5413.4972   1.24e+04     -0.435      0.663   -2.98e+04     1.9e+04\n",
      "Job Title_Social Media Manager                  -2.819e+04   5692.913     -4.952      0.000   -3.94e+04    -1.7e+04\n",
      "Job Title_Software Developer                    -2.155e+04   2365.776     -9.108      0.000   -2.62e+04   -1.69e+04\n",
      "Job Title_Software Engineer                      2.029e+04   1679.551     12.083      0.000     1.7e+04    2.36e+04\n",
      "Job Title_Software Engineer Manager              1.028e+04   2001.472      5.135      0.000    6353.789    1.42e+04\n",
      "Job Title_Software Project Manager              -2.371e+04   2.13e+04     -1.111      0.267   -6.55e+04    1.81e+04\n",
      "Job Title_Web Developer                          -2.88e+04   2668.700    -10.793      0.000    -3.4e+04   -2.36e+04\n",
      "Age                                               583.1301    118.769      4.910      0.000     350.304     815.956\n",
      "Gender_Male                                       232.8090    609.176      0.382      0.702    -961.377    1426.995\n",
      "Gender_Other                                    -1.948e+04   6051.307     -3.219      0.001   -3.13e+04   -7618.604\n",
      "==============================================================================\n",
      "Omnibus:                       97.368   Durbin-Watson:                   0.216\n",
      "Prob(Omnibus):                  0.000   Jarque-Bera (JB):              178.435\n",
      "Skew:                          -0.062   Prob(JB):                     1.79e-39\n",
      "Kurtosis:                       3.797   Cond. No.                     2.94e+03\n",
      "==============================================================================\n",
      "\n",
      "Notes:\n",
      "[1] Standard Errors assume that the covariance matrix of the errors is correctly specified.\n",
      "[2] The condition number is large, 2.94e+03. This might indicate that there are\n",
      "strong multicollinearity or other numerical problems.\n"
     ]
    }
   ],
   "execution_count": 101
  },
  {
   "cell_type": "code",
   "metadata": {
    "ExecuteTime": {
     "end_time": "2025-05-12T18:57:05.342982Z",
     "start_time": "2025-05-12T18:57:05.329913Z"
    }
   },
   "source": [
    "print(ols1.condition_number)  #Condition Number"
   ],
   "outputs": [
    {
     "name": "stdout",
     "output_type": "stream",
     "text": [
      "2939.316608771346\n"
     ]
    }
   ],
   "execution_count": 102
  },
  {
   "cell_type": "markdown",
   "metadata": {},
   "source": [
    "Simply with that previous step, we have gone from a Condition Number = (4.75e+16) that our original model had to a Condition Number = (2.94e+03).\n",
    "\n",
    "And we run the VIF technique again."
   ]
  },
  {
   "cell_type": "code",
   "metadata": {
    "ExecuteTime": {
     "end_time": "2025-05-12T18:57:12.889318Z",
     "start_time": "2025-05-12T18:57:05.343968Z"
    }
   },
   "source": [
    "vifs = [oi.variance_inflation_factor(X.values, i) for i in range(X.shape[1])]\n",
    "print(vifs)"
   ],
   "outputs": [
    {
     "name": "stdout",
     "output_type": "stream",
     "text": [
      "[148.19105092564013, 4.2102188580367645, 1.9856541197490913, 3.6789174734278745, 11.453897890225157, 1.3273319305841709, 1.0635226254644397, 1.0048567853056714, 2.3898331399586765, 3.3892226324651946, 1.0650371655378517, 1.208548062396626, 1.0712235459423314, 1.4013652344021479, 1.0123202355120628, 1.3812686850558464, 1.4332269841357237, 1.0757701998016587, 1.159252923866036, 1.5805370304551516, 1.1310616262511977, 1.9341299734744708, 2.231540372903409, 1.1012763523009328, 1.2332222731145275, 1.4881802206694172, 1.017376890469244, 1.0369107018232517, 1.0318887883088288, 1.1074113101102547, 1.0371535813078459, 1.1870299335761751, 1.3617055692448679, 1.0143528892916747, 1.0285011373286874, 1.2196496684876497, 1.0134849331492133, 1.018366681284566, 1.0182269873512853, 1.0090235071061415, 2.825856719009788, 1.3013865452632993, 1.2736857143834879, 1.2240819840570956, 1.1864867240984776, 1.040162586502373, 1.027268328149253, 1.5496521812985549, 1.6909544539512849, 1.3320356508719489, 2.0961593545057844, 1.0054892010238714, 1.4724126444168608, 1.319744136960196, 2.2067623669984564, 1.0924642207492288, 1.760118639924389, 1.528922875610225, 1.4947814314496408, 1.8234726180803116, 1.2652090821748592, 1.308832287949618, 1.2529615766160802, 1.163691255063702, 1.045674374696295, 1.0168351847938413, 1.0213009351736277, 1.0137960233081016, 1.3360720489824822, 1.0135700269203793, 1.0155534642818151, 1.030672115094699, 1.022532111874144, 1.196162092830577, 1.0184062003556524, 1.2438966142909202, 1.0379097113149927, 1.0623762112788104, 1.0183160360250052, 1.0088399631366483, 1.01302980247083, 1.017213131575116, 1.0374359598901355, 1.0215617875581704, 1.3534751181717477, 1.0227519547212756, 2.5858647714801735, 1.0342858422321437, 1.327187554256823, 1.0114242195447798, 1.0130327996116175, 1.0145065051009727, 2.1239632388122835, 1.005364720666545, 1.0225904303630968, 1.070436993537043, 1.5146826117510854, 2.9710425970557277, 3.13423938574349, 1.004548338108603, 1.3493718513576036, 11.852499000546791, 1.3344183934792098, 1.128998117212302]\n"
     ]
    }
   ],
   "execution_count": 103
  },
  {
   "cell_type": "markdown",
   "metadata": {},
   "source": [
    "As we can see, almost all the variables are now close to the value of 1, which as we have seen indicates a well-conditioned problem (low risk of multicollinearity).\n",
    "\n",
    "But we can continue to refine it. If we look closely, there are 2 variables in particular that stand out more than the others, the first with an approximate value of 148.191 and the penultimate with an approximate value of 11.852499.\n",
    "\n",
    "Seeing this and also with a bit of common sense we can reason that when estimating salaries, both the age and the gender of the person should not be a factor influencing the result, so let's eliminate those 2 variables and see what happens."
   ]
  },
  {
   "cell_type": "code",
   "metadata": {
    "ExecuteTime": {
     "end_time": "2025-05-12T18:57:13.045325Z",
     "start_time": "2025-05-12T18:57:12.890314Z"
    }
   },
   "source": [
    "data = pd.read_csv('Salary_Data.csv')\n",
    "data = pd.get_dummies(data, columns=['Education Level', 'Job Title', 'Gender'], drop_first=True, dtype=int)\n",
    "\n",
    "#data.drop('Job Title_Data Analyst', axis=1, inplace=True)\n",
    "#data.drop('Job Title_Marketing Manager', axis=1, inplace=True)\n",
    "#data.drop('Job Title_Web Developer', axis=1, inplace=True)\n",
    "\n",
    "y = data['Salary']\n",
    "\n",
    "education_columns = [col for col in data if col.startswith('Education Level_')]\n",
    "job_columns = [col for col in data if col.startswith('Job Title_')]\n",
    "gender_columns = [col for col in data if col.startswith('Gender_')]\n",
    "\n",
    "X = sm.add_constant(data[education_columns + ['Years of Experience'] + job_columns])\n",
    "#X = sm.add_constant(data[education_columns + job_columns])\n",
    "#X = sm.add_constant(data[education_columns + ['Years of Experience']])\n",
    "\n",
    "ols1 = sm.OLS(y, X).fit()\n",
    "print(ols1.summary())"
   ],
   "outputs": [
    {
     "name": "stdout",
     "output_type": "stream",
     "text": [
      "                            OLS Regression Results                            \n",
      "==============================================================================\n",
      "Dep. Variable:                 Salary   R-squared:                       0.838\n",
      "Model:                            OLS   Adj. R-squared:                  0.836\n",
      "Method:                 Least Squares   F-statistic:                     336.1\n",
      "Date:                Mon, 12 May 2025   Prob (F-statistic):               0.00\n",
      "Time:                        20:57:13   Log-Likelihood:                -74901.\n",
      "No. Observations:                6582   AIC:                         1.500e+05\n",
      "Df Residuals:                    6481   BIC:                         1.507e+05\n",
      "Df Model:                         100                                         \n",
      "Covariance Type:            nonrobust                                         \n",
      "===================================================================================================================\n",
      "                                                      coef    std err          t      P>|t|      [0.025      0.975]\n",
      "-------------------------------------------------------------------------------------------------------------------\n",
      "const                                            6.955e+04   1451.367     47.923      0.000    6.67e+04    7.24e+04\n",
      "Education Level_High School                     -1.876e+04   2045.676     -9.170      0.000   -2.28e+04   -1.47e+04\n",
      "Education Level_Master's Degree                  6066.2085    816.620      7.428      0.000    4465.363    7667.054\n",
      "Education Level_PhD                              8105.9191   1217.548      6.658      0.000    5719.122    1.05e+04\n",
      "Years of Experience                              5253.0684     65.912     79.698      0.000    5123.859    5382.278\n",
      "Job Title_Content Marketing Manager             -7490.3263   2871.614     -2.608      0.009   -1.31e+04   -1861.014\n",
      "Job Title_Customer Service Representative        -3.11e+04   8959.873     -3.470      0.001   -4.87e+04   -1.35e+04\n",
      "Job Title_Customer Success Representative       -3.481e+04   2.14e+04     -1.627      0.104   -7.67e+04    7124.952\n",
      "Job Title_Data Analyst                           2.816e+04   1776.681     15.850      0.000    2.47e+04    3.16e+04\n",
      "Job Title_Data Scientist                         3.057e+04   1892.863     16.150      0.000    2.69e+04    3.43e+04\n",
      "Job Title_Delivery Driver                        -2.28e+04   9832.997     -2.318      0.020   -4.21e+04   -3519.999\n",
      "Job Title_Digital Marketing Manager             -1.575e+04   3264.252     -4.826      0.000   -2.22e+04   -9352.721\n",
      "Job Title_Digital Marketing Specialist          -2.548e+04   5687.850     -4.480      0.000   -3.66e+04   -1.43e+04\n",
      "Job Title_Director of Data Science               3.769e+04   3353.347     11.240      0.000    3.11e+04    4.43e+04\n",
      "Job Title_Director of Engineering                 924.5900   1.52e+04      0.061      0.951   -2.88e+04    3.07e+04\n",
      "Job Title_Director of HR                        -1.598e+04   2966.092     -5.388      0.000   -2.18e+04   -1.02e+04\n",
      "Job Title_Director of Marketing                 -1137.4606   2729.270     -0.417      0.677   -6487.731    4212.810\n",
      "Job Title_Director of Operations                -1.197e+04   6392.291     -1.872      0.061   -2.45e+04     562.539\n",
      "Job Title_Financial Analyst                     -9352.7067   3686.436     -2.537      0.011   -1.66e+04   -2126.076\n",
      "Job Title_Financial Manager                      1.586e+04   2314.761      6.850      0.000    1.13e+04    2.04e+04\n",
      "Job Title_Front End Developer                   -1.196e+04   4083.743     -2.929      0.003      -2e+04   -3955.771\n",
      "Job Title_Front end Developer                   -7676.6383   1948.518     -3.940      0.000   -1.15e+04   -3856.901\n",
      "Job Title_Full Stack Engineer                    6097.4425   1853.871      3.289      0.001    2463.244    9731.641\n",
      "Job Title_Graphic Designer                      -3.005e+04   4767.772     -6.303      0.000   -3.94e+04   -2.07e+04\n",
      "Job Title_Human Resources Coordinator           -4.057e+04   3377.950    -12.011      0.000   -4.72e+04    -3.4e+04\n",
      "Job Title_Human Resources Manager                -1.56e+04   2516.200     -6.200      0.000   -2.05e+04   -1.07e+04\n",
      "Job Title_Junior Accountant                     -3.887e+04   1.08e+04     -3.611      0.000      -6e+04   -1.78e+04\n",
      "Job Title_Junior Business Analyst               -3.531e+04   7676.941     -4.600      0.000   -5.04e+04   -2.03e+04\n",
      "Job Title_Junior Business Development Associate -4.085e+04   8190.715     -4.987      0.000   -5.69e+04   -2.48e+04\n",
      "Job Title_Junior Data Analyst                   -3.227e+04   4497.359     -7.176      0.000   -4.11e+04   -2.35e+04\n",
      "Job Title_Junior Financial Analyst              -3.422e+04   7676.120     -4.458      0.000   -4.93e+04   -1.92e+04\n",
      "Job Title_Junior HR Coordinator                 -3.319e+04   4372.881     -7.590      0.000   -4.18e+04   -2.46e+04\n",
      "Job Title_Junior HR Generalist                  -3.352e+04   3200.646    -10.473      0.000   -3.98e+04   -2.72e+04\n",
      "Job Title_Junior Marketing Analyst              -3.698e+04   1.24e+04     -2.982      0.003   -6.13e+04   -1.27e+04\n",
      "Job Title_Junior Marketing Coordinator          -3.602e+04   8827.619     -4.080      0.000   -5.33e+04   -1.87e+04\n",
      "Job Title_Junior Marketing Manager              -2.985e+04   3302.351     -9.038      0.000   -3.63e+04   -2.34e+04\n",
      "Job Title_Junior Marketing Specialist           -3.065e+04   1.24e+04     -2.471      0.013    -5.5e+04   -6339.322\n",
      "Job Title_Junior Operations Analyst             -3.656e+04   1.08e+04     -3.397      0.001   -5.77e+04   -1.55e+04\n",
      "Job Title_Junior Product Manager                -3.169e+04   1.08e+04     -2.944      0.003   -5.28e+04   -1.06e+04\n",
      "Job Title_Junior Project Manager                -3.044e+04   1.52e+04     -2.008      0.045   -6.02e+04    -727.494\n",
      "Job Title_Junior Sales Associate                -2.917e+04   2958.868     -9.858      0.000    -3.5e+04   -2.34e+04\n",
      "Job Title_Junior Sales Representative           -3.065e+04   3778.986     -8.110      0.000   -3.81e+04   -2.32e+04\n",
      "Job Title_Junior Software Developer             -4.226e+04   3145.137    -13.436      0.000   -4.84e+04   -3.61e+04\n",
      "Job Title_Junior Software Engineer              -2.588e+04   3313.968     -7.808      0.000   -3.24e+04   -1.94e+04\n",
      "Job Title_Junior Web Developer                  -3.427e+04   3545.214     -9.666      0.000   -4.12e+04   -2.73e+04\n",
      "Job Title_Juniour HR Coordinator                -2.405e+04   1.25e+04     -1.917      0.055   -4.86e+04     544.039\n",
      "Job Title_Juniour HR Generalist                  -1.83e+04   1.53e+04     -1.198      0.231   -4.82e+04    1.16e+04\n",
      "Job Title_Marketing Analyst                     -2.299e+04   2333.857     -9.852      0.000   -2.76e+04   -1.84e+04\n",
      "Job Title_Marketing Coordinator                 -2.097e+04   2188.062     -9.582      0.000   -2.53e+04   -1.67e+04\n",
      "Job Title_Marketing Director                      3.68e+04   3053.889     12.049      0.000    3.08e+04    4.28e+04\n",
      "Job Title_Marketing Manager                     -7372.0868   1957.843     -3.765      0.000   -1.12e+04   -3534.069\n",
      "Job Title_Marketing Specialist                  -5.709e+04   2.14e+04     -2.669      0.008    -9.9e+04   -1.52e+04\n",
      "Job Title_Operations Manager                    -1.565e+04   2461.271     -6.359      0.000   -2.05e+04   -1.08e+04\n",
      "Job Title_Product Designer                      -2.562e+04   2843.214     -9.012      0.000   -3.12e+04      -2e+04\n",
      "Job Title_Product Manager                        2.891e+04   1832.504     15.778      0.000    2.53e+04    3.25e+04\n",
      "Job Title_Project Manager                        5325.9056   4762.708      1.118      0.264   -4010.574    1.47e+04\n",
      "Job Title_Receptionist                           -2.58e+04   3685.134     -7.000      0.000    -3.3e+04   -1.86e+04\n",
      "Job Title_Research Director                       2.67e+04   3017.941      8.847      0.000    2.08e+04    3.26e+04\n",
      "Job Title_Research Scientist                     2.543e+04   3105.801      8.187      0.000    1.93e+04    3.15e+04\n",
      "Job Title_Sales Associate                       -2.378e+04   3394.427     -7.007      0.000   -3.04e+04   -1.71e+04\n",
      "Job Title_Sales Director                         5682.6851   3059.882      1.857      0.063    -315.693    1.17e+04\n",
      "Job Title_Sales Executive                       -2.517e+04   3937.090     -6.392      0.000   -3.29e+04   -1.74e+04\n",
      "Job Title_Sales Manager                         -3522.0409   3196.337     -1.102      0.271   -9787.916    2743.834\n",
      "Job Title_Sales Representative                  -3.622e+04   3743.854     -9.675      0.000   -4.36e+04   -2.89e+04\n",
      "Job Title_Senior Business Analyst               -1.288e+04   6897.733     -1.868      0.062   -2.64e+04     639.779\n",
      "Job Title_Senior Business Development Manager   -8348.6806   1.08e+04     -0.776      0.438   -2.94e+04    1.27e+04\n",
      "Job Title_Senior Data Analyst                   -1.546e+04   1.25e+04     -1.242      0.214   -3.99e+04    8951.524\n",
      "Job Title_Senior Data Engineer                  -1.171e+04   1.52e+04     -0.771      0.441   -4.15e+04    1.81e+04\n",
      "Job Title_Senior Data Scientist                  1.384e+04   3113.515      4.446      0.000    7739.531    1.99e+04\n",
      "Job Title_Senior Engineer                       -2.633e+04   1.52e+04     -1.733      0.083   -5.61e+04    3456.184\n",
      "Job Title_Senior Financial Advisor              -1.381e+04   1.24e+04     -1.113      0.266   -3.81e+04    1.05e+04\n",
      "Job Title_Senior Financial Analyst              -1.258e+04   8186.653     -1.536      0.124   -2.86e+04    3470.245\n",
      "Job Title_Senior Financial Manager              -1.578e+04   9649.398     -1.635      0.102   -3.47e+04    3134.491\n",
      "Job Title_Senior HR Generalist                  -2.545e+04   3599.891     -7.070      0.000   -3.25e+04   -1.84e+04\n",
      "Job Title_Senior HR Manager                      -1.56e+04   1.24e+04     -1.256      0.209      -4e+04    8754.228\n",
      "Job Title_Senior Human Resources Manager        -1.935e+04   3406.970     -5.681      0.000    -2.6e+04   -1.27e+04\n",
      "Job Title_Senior Marketing Analyst              -2.957e+04   7672.240     -3.854      0.000   -4.46e+04   -1.45e+04\n",
      "Job Title_Senior Marketing Manager              -1.816e+04   6331.310     -2.868      0.004   -3.06e+04   -5748.087\n",
      "Job Title_Senior Marketing Specialist           -1.546e+04   1.08e+04     -1.436      0.151   -3.66e+04    5646.675\n",
      "Job Title_Senior Operations Analyst             -2.395e+04   1.52e+04     -1.580      0.114   -5.37e+04    5759.933\n",
      "Job Title_Senior Operations Coordinator         -1.633e+04   1.24e+04     -1.316      0.188   -4.06e+04    7985.890\n",
      "Job Title_Senior Operations Manager             -1.335e+04   1.08e+04     -1.240      0.215   -3.44e+04    7746.800\n",
      "Job Title_Senior Product Designer               -1.161e+04   9709.463     -1.196      0.232   -3.06e+04    7425.453\n",
      "Job Title_Senior Product Manager                -4450.2795   9648.486     -0.461      0.645   -2.34e+04    1.45e+04\n",
      "Job Title_Senior Product Marketing Manager      -8934.9716   2972.144     -3.006      0.003   -1.48e+04   -3108.589\n",
      "Job Title_Senior Project Coordinator            -3.445e+04   9648.486     -3.571      0.000   -5.34e+04   -1.55e+04\n",
      "Job Title_Senior Project Engineer                1.573e+04   1964.408      8.009      0.000    1.19e+04    1.96e+04\n",
      "Job Title_Senior Project Manager                -2.005e+04   8203.268     -2.444      0.015   -3.61e+04   -3966.475\n",
      "Job Title_Senior Research Scientist             -1237.1923   3512.536     -0.352      0.725   -8122.922    5648.538\n",
      "Job Title_Senior Sales Manager                  -3.161e+04   1.52e+04     -2.083      0.037   -6.14e+04   -1855.328\n",
      "Job Title_Senior Scientist                      -1.782e+04   1.52e+04     -1.173      0.241   -4.76e+04     1.2e+04\n",
      "Job Title_Senior Software Developer             -1.507e+04   1.24e+04     -1.214      0.225   -3.94e+04    9259.656\n",
      "Job Title_Senior Software Engineer               3241.8004   2025.774      1.600      0.110    -729.385    7212.986\n",
      "Job Title_Senior Training Specialist            -3.866e+04   2.14e+04     -1.807      0.071   -8.06e+04    3283.814\n",
      "Job Title_Senior UX Designer                    -4958.5032   1.25e+04     -0.398      0.690   -2.94e+04    1.94e+04\n",
      "Job Title_Social Media Manager                  -2.906e+04   5688.394     -5.109      0.000   -4.02e+04   -1.79e+04\n",
      "Job Title_Software Developer                    -2.202e+04   2369.688     -9.294      0.000   -2.67e+04   -1.74e+04\n",
      "Job Title_Software Engineer                      1.985e+04   1679.992     11.813      0.000    1.66e+04    2.31e+04\n",
      "Job Title_Software Engineer Manager              1.164e+04   1987.348      5.855      0.000    7740.649    1.55e+04\n",
      "Job Title_Software Project Manager              -2.183e+04   2.14e+04     -1.021      0.307   -6.38e+04    2.01e+04\n",
      "Job Title_Web Developer                         -2.797e+04   2668.300    -10.481      0.000   -3.32e+04   -2.27e+04\n",
      "==============================================================================\n",
      "Omnibus:                      106.780   Durbin-Watson:                   0.225\n",
      "Prob(Omnibus):                  0.000   Jarque-Bera (JB):              187.680\n",
      "Skew:                          -0.113   Prob(JB):                     1.76e-41\n",
      "Kurtosis:                       3.796   Cond. No.                         834.\n",
      "==============================================================================\n",
      "\n",
      "Notes:\n",
      "[1] Standard Errors assume that the covariance matrix of the errors is correctly specified.\n"
     ]
    }
   ],
   "execution_count": 104
  },
  {
   "cell_type": "code",
   "metadata": {
    "ExecuteTime": {
     "end_time": "2025-05-12T18:57:19.971911Z",
     "start_time": "2025-05-12T18:57:13.046917Z"
    }
   },
   "source": [
    "vifs = [oi.variance_inflation_factor(X.values, i) for i in range(X.shape[1])]\n",
    "print(vifs)"
   ],
   "outputs": [
    {
     "name": "stdout",
     "output_type": "stream",
     "text": [
      "[30.43895837426429, 3.827853952881451, 1.9343164521286287, 3.509714269619452, 2.292112043189959, 1.3069205114368063, 1.05651716793206, 1.0043740352642012, 2.376873090341054, 3.318072084438276, 1.0605458106047099, 1.2068230699613596, 1.0629537897116417, 1.3949935270744722, 1.0121774879348624, 1.3754426370522246, 1.4198674598323853, 1.0745321596824158, 1.1566836284349724, 1.5441942410006697, 1.12965496812057, 1.9275512960801444, 2.215205207043957, 1.0942517020046132, 1.2183583723920839, 1.4227358524077267, 1.0171058042795966, 1.0338461585984084, 1.0299049870443142, 1.1059105818713106, 1.0336250620872127, 1.170468116863067, 1.3371096796912878, 1.012702309548931, 1.0255574780828893, 1.2115908641969517, 1.0125523093272892, 1.0169337460453673, 1.0168428706230352, 1.0084240881830049, 2.6704545945049762, 1.2774336857713475, 1.2484778049046936, 1.2201306430541818, 1.1787572973084364, 1.0361113865251108, 1.0239645562867299, 1.546827064856513, 1.6108375130052508, 1.3177328259794712, 2.0627820544287334, 1.0043511325112202, 1.4642018001733945, 1.315894484896726, 2.1978202226733927, 1.0919285041207067, 1.684696640227961, 1.4825977501924044, 1.4458964130456595, 1.7518834835581476, 1.262433015040336, 1.2856931015256798, 1.2453743832178104, 1.1625844228388063, 1.0429659959834254, 1.0163284590593396, 1.021262438836734, 1.0137252154562126, 1.327954926833548, 1.013409047165923, 1.0137320131198515, 1.0288837234820305, 1.0213112056985905, 1.1873135858163901, 1.0163204042279295, 1.2393820579018648, 1.0325803356948227, 1.0541286360603923, 1.0169826393545358, 1.0084037332738072, 1.0125573801140477, 1.016328459059339, 1.034065398022601, 1.0211181883890093, 1.343110759454287, 1.02111818838901, 2.5639059768055135, 1.0330643513690818, 1.3173770832394134, 1.011253686304367, 1.0129854684258297, 1.0141336049242191, 2.1168195602552635, 1.0047966791918204, 1.0204681292649804, 1.0631568081359533, 1.511760071053081, 2.9570795797708898, 3.074023252375868, 1.004277386268814, 1.3419224596470436]\n"
     ]
    }
   ],
   "execution_count": 105
  },
  {
   "cell_type": "code",
   "metadata": {
    "ExecuteTime": {
     "end_time": "2025-05-12T18:57:19.987937Z",
     "start_time": "2025-05-12T18:57:19.973339Z"
    }
   },
   "source": [
    "print(ols1.condition_number)  #Condition Number"
   ],
   "outputs": [
    {
     "name": "stdout",
     "output_type": "stream",
     "text": [
      "833.5492164806737\n"
     ]
    }
   ],
   "execution_count": 106
  },
  {
   "cell_type": "markdown",
   "metadata": {},
   "source": [
    "Indeed, by eliminating variables that do not have a direct relationship with the salary, the Condition Number = (2.94e+03) that our model had with Age and Gender has been reduced to just a Condition Number = 834 without sacrificing the R-squared measure.\n",
    "\n",
    "We are no longer warned that there may be problems with multicollinearity, but let's try to reduce the number of variables by grouping elements of the Job Title variable by sectors, this can lead to more imprecise estimates by having more general data from each area but let's try to see what Condition Number would result."
   ]
  },
  {
   "cell_type": "markdown",
   "metadata": {},
   "source": [
    "<div class=\"alert alert-info\">\n",
    "    <strong>Note:<br><br></strong> You can try by removing the '#' that I have placed in the cell above.\n",
    "    <br><br>\n",
    "    Eliminating the 'Years of Experience' variable, the Cond. No. goes from 833.5492 to 89.2, but R-squared is affected by a decrease from 0.838 to 0.680.\n",
    "    <br><br>\n",
    "    Eliminating the 'job_columns' variable, the Cond. No. goes from 833.5492 to 43.8, but R-squared is affected by a decrease from 0.838 to 0.709.\n",
    "    <br><br>\n",
    "    The data.drop commands are not necessary but are there because they can reduce the value of the VIF indices. They simply remove more columns.\n",
    "</div>"
   ]
  },
  {
   "cell_type": "markdown",
   "metadata": {},
   "source": [
    "**For this next test, I created a duplicate of the database, but I have significantly reduced the number of variables, especially from the Job Titles column in which I have grouped similar Positions into one.**"
   ]
  },
  {
   "cell_type": "code",
   "metadata": {
    "ExecuteTime": {
     "end_time": "2025-05-12T18:57:20.020075Z",
     "start_time": "2025-05-12T18:57:19.988954Z"
    }
   },
   "source": [
    "data = pd.read_csv('Salary_Data - Copy.csv')\n",
    "data = pd.get_dummies(data, columns=['Education Level', 'Job Title'], drop_first=True, dtype=int)\n",
    "\n",
    "y = data['Salary']\n",
    "\n",
    "education_columns = [col for col in data if col.startswith('Education Level_')]\n",
    "job_columns = [col for col in data if col.startswith('Job Title_')]\n",
    "\n",
    "X = sm.add_constant(data[education_columns + ['Years of Experience'] + job_columns])\n",
    "\n",
    "ols2 = sm.OLS(y, X).fit()\n",
    "print(ols2.summary())"
   ],
   "outputs": [
    {
     "name": "stdout",
     "output_type": "stream",
     "text": [
      "                            OLS Regression Results                            \n",
      "==============================================================================\n",
      "Dep. Variable:                 Salary   R-squared:                       0.775\n",
      "Model:                            OLS   Adj. R-squared:                  0.775\n",
      "Method:                 Least Squares   F-statistic:                     1408.\n",
      "Date:                Mon, 12 May 2025   Prob (F-statistic):               0.00\n",
      "Time:                        20:57:20   Log-Likelihood:                -70773.\n",
      "No. Observations:                6131   AIC:                         1.416e+05\n",
      "Df Residuals:                    6115   BIC:                         1.417e+05\n",
      "Df Model:                          15                                         \n",
      "Covariance Type:            nonrobust                                         \n",
      "===================================================================================================\n",
      "                                      coef    std err          t      P>|t|      [0.025      0.975]\n",
      "---------------------------------------------------------------------------------------------------\n",
      "const                            3.978e+04   1855.546     21.438      0.000    3.61e+04    4.34e+04\n",
      "Education Level_High School     -2.638e+04   1827.176    -14.436      0.000      -3e+04   -2.28e+04\n",
      "Education Level_Master's Degree  9344.5829    877.210     10.653      0.000    7624.943    1.11e+04\n",
      "Education Level_PhD              8379.1765   1209.790      6.926      0.000    6007.561    1.08e+04\n",
      "Years of Experience              5702.4450     69.497     82.053      0.000    5566.206    5838.684\n",
      "Job Title_ Engineer              3.939e+04   2061.615     19.105      0.000    3.53e+04    4.34e+04\n",
      "Job Title_Analyst                4.802e+04   2223.863     21.592      0.000    4.37e+04    5.24e+04\n",
      "Job Title_Developer              1.714e+04   2101.444      8.158      0.000     1.3e+04    2.13e+04\n",
      "Job Title_Engineer                3.13e+04   2152.967     14.540      0.000    2.71e+04    3.55e+04\n",
      "Job Title_Financial              3.834e+04   2846.217     13.469      0.000    3.28e+04    4.39e+04\n",
      "Job Title_HR                     1509.3093   2299.274      0.656      0.512   -2998.076    6016.695\n",
      "Job Title_Marketing              1.584e+04   2109.874      7.505      0.000    1.17e+04       2e+04\n",
      "Job Title_Marketing Analyst      4531.4356   2788.854      1.625      0.104    -935.699    9998.570\n",
      "Job Title_Product                4.334e+04   2264.885     19.136      0.000    3.89e+04    4.78e+04\n",
      "Job Title_Sales                  1.217e+04   2474.134      4.918      0.000    7318.305     1.7e+04\n",
      "Job Title_Scientist              5.035e+04   2270.999     22.169      0.000    4.59e+04    5.48e+04\n",
      "==============================================================================\n",
      "Omnibus:                       29.978   Durbin-Watson:                   0.206\n",
      "Prob(Omnibus):                  0.000   Jarque-Bera (JB):               33.898\n",
      "Skew:                           0.120   Prob(JB):                     4.36e-08\n",
      "Kurtosis:                       3.274   Cond. No.                         213.\n",
      "==============================================================================\n",
      "\n",
      "Notes:\n",
      "[1] Standard Errors assume that the covariance matrix of the errors is correctly specified.\n"
     ]
    }
   ],
   "execution_count": 107
  },
  {
   "cell_type": "code",
   "metadata": {
    "ExecuteTime": {
     "end_time": "2025-05-12T18:57:20.128347Z",
     "start_time": "2025-05-12T18:57:20.021319Z"
    }
   },
   "source": [
    "vifs = [oi.variance_inflation_factor(X.values, i) for i in range(X.shape[1])]\n",
    "print(vifs)"
   ],
   "outputs": [
    {
     "name": "stdout",
     "output_type": "stream",
     "text": [
      "[33.82647625096572, 1.883492153943134, 1.5633028826938056, 2.362941630731331, 1.7651020579063148, 5.444153999998622, 3.0662473983740246, 4.162153326378484, 5.566408763428103, 1.800650564130763, 3.2190383733654935, 5.113969904266794, 1.7406847624220203, 3.016237063243226, 4.081734355444842, 5.079922471776115]\n"
     ]
    }
   ],
   "execution_count": 108
  },
  {
   "cell_type": "code",
   "metadata": {
    "ExecuteTime": {
     "end_time": "2025-05-12T18:57:20.143928Z",
     "start_time": "2025-05-12T18:57:20.131361Z"
    }
   },
   "source": [
    "corr_matrix = np.corrcoef(X.T)\n",
    "print(corr_matrix)"
   ],
   "outputs": [
    {
     "name": "stdout",
     "output_type": "stream",
     "text": [
      "[[        nan         nan         nan         nan         nan         nan\n",
      "          nan         nan         nan         nan         nan         nan\n",
      "          nan         nan         nan         nan]\n",
      " [        nan  1.         -0.16396765 -0.13052986 -0.24728956 -0.10895694\n",
      "  -0.06877541 -0.03583651 -0.07292447 -0.01667689  0.05223703 -0.08898534\n",
      "  -0.03944413 -0.06670834  0.65979148 -0.0911176 ]\n",
      " [        nan -0.16396765  1.         -0.32851679  0.15082559 -0.15402567\n",
      "  -0.06172485 -0.00985305  0.19665406  0.01315989  0.12405858  0.16345379\n",
      "  -0.09451984  0.05642932 -0.16681462 -0.07186532]\n",
      " [        nan -0.13052986 -0.32851679  1.          0.4918669   0.08145064\n",
      "  -0.12818476 -0.17746974  0.04927165 -0.07071985 -0.02484736 -0.05748777\n",
      "  -0.07902814 -0.1254299  -0.10360137  0.51126169]\n",
      " [        nan -0.24728956  0.15082559  0.4918669   1.          0.05274751\n",
      "  -0.13871538 -0.19130701  0.28127107  0.05993263 -0.02597449  0.06929764\n",
      "  -0.11961223 -0.06225298 -0.21713667  0.21166372]\n",
      " [        nan -0.10895694 -0.15402567  0.08145064  0.05274751  1.\n",
      "  -0.11502112 -0.14813897 -0.17405495 -0.06573046 -0.11382746 -0.16879402\n",
      "  -0.06596701 -0.11156413 -0.1199975  -0.15238656]\n",
      " [        nan -0.06877541 -0.06172485 -0.12818476 -0.13871538 -0.11502112\n",
      "   1.         -0.09350775 -0.10986634 -0.04149015 -0.07184976 -0.10654556\n",
      "  -0.04163946 -0.07042111 -0.07574439 -0.0961889 ]\n",
      " [        nan -0.03583651 -0.00985305 -0.17746974 -0.19130701 -0.14813897\n",
      "  -0.09350775  1.         -0.14149998 -0.05343634 -0.09253735 -0.13722305\n",
      "  -0.05362864 -0.09069735 -0.09755336 -0.12388442]\n",
      " [        nan -0.07292447  0.19665406  0.04927165  0.28127107 -0.17405495\n",
      "  -0.10986634 -0.14149998  1.         -0.06278469 -0.10872618 -0.16122936\n",
      "  -0.06301063 -0.10656428 -0.1146197  -0.14555722]\n",
      " [        nan -0.01667689  0.01315989 -0.07071985  0.05993263 -0.06573046\n",
      "  -0.04149015 -0.05343634 -0.06278469  1.         -0.04105957 -0.06088698\n",
      "  -0.02379546 -0.04024315 -0.04328521 -0.05496852]\n",
      " [        nan  0.05223703  0.12405858 -0.02484736 -0.02597449 -0.11382746\n",
      "  -0.07184976 -0.09253735 -0.10872618 -0.04105957  1.         -0.10543985\n",
      "  -0.04120733 -0.0696903  -0.07495834 -0.09519068]\n",
      " [        nan -0.08898534  0.16345379 -0.05748777  0.06929764 -0.16879402\n",
      "  -0.10654556 -0.13722305 -0.16122936 -0.06088698 -0.10543985  1.\n",
      "  -0.06110609 -0.1033433  -0.11115524 -0.14115765]\n",
      " [        nan -0.03944413 -0.09451984 -0.07902814 -0.11961223 -0.06596701\n",
      "  -0.04163946 -0.05362864 -0.06301063 -0.02379546 -0.04120733 -0.06110609\n",
      "   1.         -0.04038797 -0.04344099 -0.05516634]\n",
      " [        nan -0.06670834  0.05642932 -0.1254299  -0.06225298 -0.11156413\n",
      "  -0.07042111 -0.09069735 -0.10656428 -0.04024315 -0.0696903  -0.1033433\n",
      "  -0.04038797  1.         -0.07346787 -0.09329791]\n",
      " [        nan  0.65979148 -0.16681462 -0.10360137 -0.21713667 -0.1199975\n",
      "  -0.07574439 -0.09755336 -0.1146197  -0.04328521 -0.07495834 -0.11115524\n",
      "  -0.04344099 -0.07346787  1.         -0.10035051]\n",
      " [        nan -0.0911176  -0.07186532  0.51126169  0.21166372 -0.15238656\n",
      "  -0.0961889  -0.12388442 -0.14555722 -0.05496852 -0.09519068 -0.14115765\n",
      "  -0.05516634 -0.09329791 -0.10035051  1.        ]]\n"
     ]
    },
    {
     "name": "stderr",
     "output_type": "stream",
     "text": [
      "C:\\Users\\matth\\AppData\\Local\\Programs\\Python\\Python310\\lib\\site-packages\\numpy\\lib\\function_base.py:2897: RuntimeWarning: invalid value encountered in divide\n",
      "  c /= stddev[:, None]\n",
      "C:\\Users\\matth\\AppData\\Local\\Programs\\Python\\Python310\\lib\\site-packages\\numpy\\lib\\function_base.py:2898: RuntimeWarning: invalid value encountered in divide\n",
      "  c /= stddev[None, :]\n"
     ]
    }
   ],
   "execution_count": 109
  },
  {
   "cell_type": "code",
   "metadata": {
    "ExecuteTime": {
     "end_time": "2025-05-12T18:57:20.644076Z",
     "start_time": "2025-05-12T18:57:20.145454Z"
    }
   },
   "source": [
    "smg.plot_corr(corr_matrix, X)\n",
    "plt.show()"
   ],
   "outputs": [
    {
     "data": {
      "text/plain": [
       "<Figure size 640x480 with 2 Axes>"
      ],
      "image/png": "[encoded data removed]"
     },
     "metadata": {},
     "output_type": "display_data"
    }
   ],
   "execution_count": 110
  },
  {
   "cell_type": "markdown",
   "metadata": {},
   "source": [
    "**As we see, this reduction/grouping of data has again reduced the Cond. No. from 834 to 213.**\n",
    "\n",
    "**Moreover, all this has been possible without sacrificing the goodness of fit, which continues to be quite good, thus solving the problem of multicollinearity.**"
   ]
  },
  {
   "cell_type": "markdown",
   "metadata": {},
   "source": [
    "# Heteroscedasticity"
   ]
  },
  {
   "cell_type": "markdown",
   "metadata": {},
   "source": [
    "**Previously, we have solved multicollinearity, now we are going to check if our model follows a normal distribution of residuals (homoscedasticity) or not (heteroscedasticity).**"
   ]
  },
  {
   "cell_type": "markdown",
   "metadata": {},
   "source": [
    "### OLS1"
   ]
  },
  {
   "cell_type": "code",
   "metadata": {
    "ExecuteTime": {
     "end_time": "2025-05-12T18:57:20.690684Z",
     "start_time": "2025-05-12T18:57:20.647589Z"
    }
   },
   "source": [
    "print(ols1.summary())"
   ],
   "outputs": [
    {
     "name": "stdout",
     "output_type": "stream",
     "text": [
      "                            OLS Regression Results                            \n",
      "==============================================================================\n",
      "Dep. Variable:                 Salary   R-squared:                       0.838\n",
      "Model:                            OLS   Adj. R-squared:                  0.836\n",
      "Method:                 Least Squares   F-statistic:                     336.1\n",
      "Date:                Mon, 12 May 2025   Prob (F-statistic):               0.00\n",
      "Time:                        20:57:20   Log-Likelihood:                -74901.\n",
      "No. Observations:                6582   AIC:                         1.500e+05\n",
      "Df Residuals:                    6481   BIC:                         1.507e+05\n",
      "Df Model:                         100                                         \n",
      "Covariance Type:            nonrobust                                         \n",
      "===================================================================================================================\n",
      "                                                      coef    std err          t      P>|t|      [0.025      0.975]\n",
      "-------------------------------------------------------------------------------------------------------------------\n",
      "const                                            6.955e+04   1451.367     47.923      0.000    6.67e+04    7.24e+04\n",
      "Education Level_High School                     -1.876e+04   2045.676     -9.170      0.000   -2.28e+04   -1.47e+04\n",
      "Education Level_Master's Degree                  6066.2085    816.620      7.428      0.000    4465.363    7667.054\n",
      "Education Level_PhD                              8105.9191   1217.548      6.658      0.000    5719.122    1.05e+04\n",
      "Years of Experience                              5253.0684     65.912     79.698      0.000    5123.859    5382.278\n",
      "Job Title_Content Marketing Manager             -7490.3263   2871.614     -2.608      0.009   -1.31e+04   -1861.014\n",
      "Job Title_Customer Service Representative        -3.11e+04   8959.873     -3.470      0.001   -4.87e+04   -1.35e+04\n",
      "Job Title_Customer Success Representative       -3.481e+04   2.14e+04     -1.627      0.104   -7.67e+04    7124.952\n",
      "Job Title_Data Analyst                           2.816e+04   1776.681     15.850      0.000    2.47e+04    3.16e+04\n",
      "Job Title_Data Scientist                         3.057e+04   1892.863     16.150      0.000    2.69e+04    3.43e+04\n",
      "Job Title_Delivery Driver                        -2.28e+04   9832.997     -2.318      0.020   -4.21e+04   -3519.999\n",
      "Job Title_Digital Marketing Manager             -1.575e+04   3264.252     -4.826      0.000   -2.22e+04   -9352.721\n",
      "Job Title_Digital Marketing Specialist          -2.548e+04   5687.850     -4.480      0.000   -3.66e+04   -1.43e+04\n",
      "Job Title_Director of Data Science               3.769e+04   3353.347     11.240      0.000    3.11e+04    4.43e+04\n",
      "Job Title_Director of Engineering                 924.5900   1.52e+04      0.061      0.951   -2.88e+04    3.07e+04\n",
      "Job Title_Director of HR                        -1.598e+04   2966.092     -5.388      0.000   -2.18e+04   -1.02e+04\n",
      "Job Title_Director of Marketing                 -1137.4606   2729.270     -0.417      0.677   -6487.731    4212.810\n",
      "Job Title_Director of Operations                -1.197e+04   6392.291     -1.872      0.061   -2.45e+04     562.539\n",
      "Job Title_Financial Analyst                     -9352.7067   3686.436     -2.537      0.011   -1.66e+04   -2126.076\n",
      "Job Title_Financial Manager                      1.586e+04   2314.761      6.850      0.000    1.13e+04    2.04e+04\n",
      "Job Title_Front End Developer                   -1.196e+04   4083.743     -2.929      0.003      -2e+04   -3955.771\n",
      "Job Title_Front end Developer                   -7676.6383   1948.518     -3.940      0.000   -1.15e+04   -3856.901\n",
      "Job Title_Full Stack Engineer                    6097.4425   1853.871      3.289      0.001    2463.244    9731.641\n",
      "Job Title_Graphic Designer                      -3.005e+04   4767.772     -6.303      0.000   -3.94e+04   -2.07e+04\n",
      "Job Title_Human Resources Coordinator           -4.057e+04   3377.950    -12.011      0.000   -4.72e+04    -3.4e+04\n",
      "Job Title_Human Resources Manager                -1.56e+04   2516.200     -6.200      0.000   -2.05e+04   -1.07e+04\n",
      "Job Title_Junior Accountant                     -3.887e+04   1.08e+04     -3.611      0.000      -6e+04   -1.78e+04\n",
      "Job Title_Junior Business Analyst               -3.531e+04   7676.941     -4.600      0.000   -5.04e+04   -2.03e+04\n",
      "Job Title_Junior Business Development Associate -4.085e+04   8190.715     -4.987      0.000   -5.69e+04   -2.48e+04\n",
      "Job Title_Junior Data Analyst                   -3.227e+04   4497.359     -7.176      0.000   -4.11e+04   -2.35e+04\n",
      "Job Title_Junior Financial Analyst              -3.422e+04   7676.120     -4.458      0.000   -4.93e+04   -1.92e+04\n",
      "Job Title_Junior HR Coordinator                 -3.319e+04   4372.881     -7.590      0.000   -4.18e+04   -2.46e+04\n",
      "Job Title_Junior HR Generalist                  -3.352e+04   3200.646    -10.473      0.000   -3.98e+04   -2.72e+04\n",
      "Job Title_Junior Marketing Analyst              -3.698e+04   1.24e+04     -2.982      0.003   -6.13e+04   -1.27e+04\n",
      "Job Title_Junior Marketing Coordinator          -3.602e+04   8827.619     -4.080      0.000   -5.33e+04   -1.87e+04\n",
      "Job Title_Junior Marketing Manager              -2.985e+04   3302.351     -9.038      0.000   -3.63e+04   -2.34e+04\n",
      "Job Title_Junior Marketing Specialist           -3.065e+04   1.24e+04     -2.471      0.013    -5.5e+04   -6339.322\n",
      "Job Title_Junior Operations Analyst             -3.656e+04   1.08e+04     -3.397      0.001   -5.77e+04   -1.55e+04\n",
      "Job Title_Junior Product Manager                -3.169e+04   1.08e+04     -2.944      0.003   -5.28e+04   -1.06e+04\n",
      "Job Title_Junior Project Manager                -3.044e+04   1.52e+04     -2.008      0.045   -6.02e+04    -727.494\n",
      "Job Title_Junior Sales Associate                -2.917e+04   2958.868     -9.858      0.000    -3.5e+04   -2.34e+04\n",
      "Job Title_Junior Sales Representative           -3.065e+04   3778.986     -8.110      0.000   -3.81e+04   -2.32e+04\n",
      "Job Title_Junior Software Developer             -4.226e+04   3145.137    -13.436      0.000   -4.84e+04   -3.61e+04\n",
      "Job Title_Junior Software Engineer              -2.588e+04   3313.968     -7.808      0.000   -3.24e+04   -1.94e+04\n",
      "Job Title_Junior Web Developer                  -3.427e+04   3545.214     -9.666      0.000   -4.12e+04   -2.73e+04\n",
      "Job Title_Juniour HR Coordinator                -2.405e+04   1.25e+04     -1.917      0.055   -4.86e+04     544.039\n",
      "Job Title_Juniour HR Generalist                  -1.83e+04   1.53e+04     -1.198      0.231   -4.82e+04    1.16e+04\n",
      "Job Title_Marketing Analyst                     -2.299e+04   2333.857     -9.852      0.000   -2.76e+04   -1.84e+04\n",
      "Job Title_Marketing Coordinator                 -2.097e+04   2188.062     -9.582      0.000   -2.53e+04   -1.67e+04\n",
      "Job Title_Marketing Director                      3.68e+04   3053.889     12.049      0.000    3.08e+04    4.28e+04\n",
      "Job Title_Marketing Manager                     -7372.0868   1957.843     -3.765      0.000   -1.12e+04   -3534.069\n",
      "Job Title_Marketing Specialist                  -5.709e+04   2.14e+04     -2.669      0.008    -9.9e+04   -1.52e+04\n",
      "Job Title_Operations Manager                    -1.565e+04   2461.271     -6.359      0.000   -2.05e+04   -1.08e+04\n",
      "Job Title_Product Designer                      -2.562e+04   2843.214     -9.012      0.000   -3.12e+04      -2e+04\n",
      "Job Title_Product Manager                        2.891e+04   1832.504     15.778      0.000    2.53e+04    3.25e+04\n",
      "Job Title_Project Manager                        5325.9056   4762.708      1.118      0.264   -4010.574    1.47e+04\n",
      "Job Title_Receptionist                           -2.58e+04   3685.134     -7.000      0.000    -3.3e+04   -1.86e+04\n",
      "Job Title_Research Director                       2.67e+04   3017.941      8.847      0.000    2.08e+04    3.26e+04\n",
      "Job Title_Research Scientist                     2.543e+04   3105.801      8.187      0.000    1.93e+04    3.15e+04\n",
      "Job Title_Sales Associate                       -2.378e+04   3394.427     -7.007      0.000   -3.04e+04   -1.71e+04\n",
      "Job Title_Sales Director                         5682.6851   3059.882      1.857      0.063    -315.693    1.17e+04\n",
      "Job Title_Sales Executive                       -2.517e+04   3937.090     -6.392      0.000   -3.29e+04   -1.74e+04\n",
      "Job Title_Sales Manager                         -3522.0409   3196.337     -1.102      0.271   -9787.916    2743.834\n",
      "Job Title_Sales Representative                  -3.622e+04   3743.854     -9.675      0.000   -4.36e+04   -2.89e+04\n",
      "Job Title_Senior Business Analyst               -1.288e+04   6897.733     -1.868      0.062   -2.64e+04     639.779\n",
      "Job Title_Senior Business Development Manager   -8348.6806   1.08e+04     -0.776      0.438   -2.94e+04    1.27e+04\n",
      "Job Title_Senior Data Analyst                   -1.546e+04   1.25e+04     -1.242      0.214   -3.99e+04    8951.524\n",
      "Job Title_Senior Data Engineer                  -1.171e+04   1.52e+04     -0.771      0.441   -4.15e+04    1.81e+04\n",
      "Job Title_Senior Data Scientist                  1.384e+04   3113.515      4.446      0.000    7739.531    1.99e+04\n",
      "Job Title_Senior Engineer                       -2.633e+04   1.52e+04     -1.733      0.083   -5.61e+04    3456.184\n",
      "Job Title_Senior Financial Advisor              -1.381e+04   1.24e+04     -1.113      0.266   -3.81e+04    1.05e+04\n",
      "Job Title_Senior Financial Analyst              -1.258e+04   8186.653     -1.536      0.124   -2.86e+04    3470.245\n",
      "Job Title_Senior Financial Manager              -1.578e+04   9649.398     -1.635      0.102   -3.47e+04    3134.491\n",
      "Job Title_Senior HR Generalist                  -2.545e+04   3599.891     -7.070      0.000   -3.25e+04   -1.84e+04\n",
      "Job Title_Senior HR Manager                      -1.56e+04   1.24e+04     -1.256      0.209      -4e+04    8754.228\n",
      "Job Title_Senior Human Resources Manager        -1.935e+04   3406.970     -5.681      0.000    -2.6e+04   -1.27e+04\n",
      "Job Title_Senior Marketing Analyst              -2.957e+04   7672.240     -3.854      0.000   -4.46e+04   -1.45e+04\n",
      "Job Title_Senior Marketing Manager              -1.816e+04   6331.310     -2.868      0.004   -3.06e+04   -5748.087\n",
      "Job Title_Senior Marketing Specialist           -1.546e+04   1.08e+04     -1.436      0.151   -3.66e+04    5646.675\n",
      "Job Title_Senior Operations Analyst             -2.395e+04   1.52e+04     -1.580      0.114   -5.37e+04    5759.933\n",
      "Job Title_Senior Operations Coordinator         -1.633e+04   1.24e+04     -1.316      0.188   -4.06e+04    7985.890\n",
      "Job Title_Senior Operations Manager             -1.335e+04   1.08e+04     -1.240      0.215   -3.44e+04    7746.800\n",
      "Job Title_Senior Product Designer               -1.161e+04   9709.463     -1.196      0.232   -3.06e+04    7425.453\n",
      "Job Title_Senior Product Manager                -4450.2795   9648.486     -0.461      0.645   -2.34e+04    1.45e+04\n",
      "Job Title_Senior Product Marketing Manager      -8934.9716   2972.144     -3.006      0.003   -1.48e+04   -3108.589\n",
      "Job Title_Senior Project Coordinator            -3.445e+04   9648.486     -3.571      0.000   -5.34e+04   -1.55e+04\n",
      "Job Title_Senior Project Engineer                1.573e+04   1964.408      8.009      0.000    1.19e+04    1.96e+04\n",
      "Job Title_Senior Project Manager                -2.005e+04   8203.268     -2.444      0.015   -3.61e+04   -3966.475\n",
      "Job Title_Senior Research Scientist             -1237.1923   3512.536     -0.352      0.725   -8122.922    5648.538\n",
      "Job Title_Senior Sales Manager                  -3.161e+04   1.52e+04     -2.083      0.037   -6.14e+04   -1855.328\n",
      "Job Title_Senior Scientist                      -1.782e+04   1.52e+04     -1.173      0.241   -4.76e+04     1.2e+04\n",
      "Job Title_Senior Software Developer             -1.507e+04   1.24e+04     -1.214      0.225   -3.94e+04    9259.656\n",
      "Job Title_Senior Software Engineer               3241.8004   2025.774      1.600      0.110    -729.385    7212.986\n",
      "Job Title_Senior Training Specialist            -3.866e+04   2.14e+04     -1.807      0.071   -8.06e+04    3283.814\n",
      "Job Title_Senior UX Designer                    -4958.5032   1.25e+04     -0.398      0.690   -2.94e+04    1.94e+04\n",
      "Job Title_Social Media Manager                  -2.906e+04   5688.394     -5.109      0.000   -4.02e+04   -1.79e+04\n",
      "Job Title_Software Developer                    -2.202e+04   2369.688     -9.294      0.000   -2.67e+04   -1.74e+04\n",
      "Job Title_Software Engineer                      1.985e+04   1679.992     11.813      0.000    1.66e+04    2.31e+04\n",
      "Job Title_Software Engineer Manager              1.164e+04   1987.348      5.855      0.000    7740.649    1.55e+04\n",
      "Job Title_Software Project Manager              -2.183e+04   2.14e+04     -1.021      0.307   -6.38e+04    2.01e+04\n",
      "Job Title_Web Developer                         -2.797e+04   2668.300    -10.481      0.000   -3.32e+04   -2.27e+04\n",
      "==============================================================================\n",
      "Omnibus:                      106.780   Durbin-Watson:                   0.225\n",
      "Prob(Omnibus):                  0.000   Jarque-Bera (JB):              187.680\n",
      "Skew:                          -0.113   Prob(JB):                     1.76e-41\n",
      "Kurtosis:                       3.796   Cond. No.                         834.\n",
      "==============================================================================\n",
      "\n",
      "Notes:\n",
      "[1] Standard Errors assume that the covariance matrix of the errors is correctly specified.\n"
     ]
    }
   ],
   "execution_count": 111
  },
  {
   "cell_type": "code",
   "metadata": {
    "ExecuteTime": {
     "end_time": "2025-05-12T18:57:20.706059Z",
     "start_time": "2025-05-12T18:57:20.691672Z"
    }
   },
   "source": [
    "name = ['Jarque-Bera Est', 'Jarque-Vera p-val', 'Skew', 'Kurtosis']\n",
    "test = sms.jarque_bera(ols1.resid)\n",
    "for i in range(4):\n",
    "    print(name[i], test[i])"
   ],
   "outputs": [
    {
     "name": "stdout",
     "output_type": "stream",
     "text": [
      "Jarque-Bera Est 187.68008386575872\n",
      "Jarque-Vera p-val 1.761114557414213e-41\n",
      "Skew -0.1125387187513356\n",
      "Kurtosis 3.796039923359463\n"
     ]
    }
   ],
   "execution_count": 112
  },
  {
   "cell_type": "markdown",
   "metadata": {},
   "source": [
    "- The Jarque-Bera statistic is 187.68, which is very high. This test combines skewness and kurtosis to assess whether the distribution of residuals deviates from normality. A higher value indicates a greater deviation from normality.\n",
    "\n",
    "- The p-value associated with the Jarque-Bera statistic is extremely small (around 1.76e-41). Such a low p-value indicates that we can reject the null hypothesis that the residuals have a normal distribution.\n",
    "\n",
    "- The skewness of the residuals is -0.1125, indicating a slight leftward skew. However, this value is quite close to zero, suggesting that the skewness is not very pronounced.\n",
    "\n",
    "- The kurtosis is 3.7960, which is slightly higher than the value of 3 expected from a normal distribution. This indicates that the distribution of residuals has slightly heavier tails than a normal distribution, although this value is not too far from 3."
   ]
  },
  {
   "cell_type": "code",
   "metadata": {
    "ExecuteTime": {
     "end_time": "2025-05-12T18:57:20.892979Z",
     "start_time": "2025-05-12T18:57:20.707614Z"
    }
   },
   "source": [
    "from matplotlib import pyplot\n",
    "from statsmodels.graphics.gofplots import qqplot\n",
    "\n",
    "pyplot.hist(ols1.resid)\n",
    "pyplot.show()\n",
    "qqplot(ols1.resid, line='s')\n",
    "pyplot.show()"
   ],
   "outputs": [
    {
     "data": {
      "text/plain": [
       "<Figure size 640x480 with 1 Axes>"
      ],
      "image/png": "[encoded data removed]"
     },
     "metadata": {},
     "output_type": "display_data"
    },
    {
     "data": {
      "text/plain": [
       "<Figure size 640x480 with 1 Axes>"
      ],
      "image/png": "[encoded data removed]"
     },
     "metadata": {},
     "output_type": "display_data"
    }
   ],
   "execution_count": 113
  },
  {
   "cell_type": "code",
   "metadata": {
    "ExecuteTime": {
     "end_time": "2025-05-12T18:57:20.908982Z",
     "start_time": "2025-05-12T18:57:20.893980Z"
    }
   },
   "source": [
    "print(diag.kstest_normal(ols1.resid))"
   ],
   "outputs": [
    {
     "name": "stdout",
     "output_type": "stream",
     "text": [
      "(0.06763807355054596, 0.0009999999999998899)\n"
     ]
    }
   ],
   "execution_count": 114
  },
  {
   "cell_type": "markdown",
   "metadata": {},
   "source": [
    "- The first value (0.0676) is the Kolmogorov-Smirnov D statistic, which measures the maximum distance between the cumulative distribution function (CDF) of the residuals and the CDF of a normal distribution. A higher value indicates a greater deviation from normality.\n",
    "\n",
    "- The second value (approximately 0.0) is the p-value of the test. Since it is lower than any commonly used threshold for statistical significance (such as 0.05 or 0.01), the null hypothesis that the distribution of residuals is normal is rejected"
   ]
  },
  {
   "cell_type": "markdown",
   "metadata": {},
   "source": [
    "### Bootstrapping"
   ]
  },
  {
   "cell_type": "code",
   "metadata": {
    "ExecuteTime": {
     "end_time": "2025-05-12T18:57:28.506939Z",
     "start_time": "2025-05-12T18:57:20.909980Z"
    }
   },
   "source": [
    "data = pd.read_csv('Salary_Data.csv')\n",
    "data = pd.get_dummies(data, columns=['Education Level', 'Job Title', 'Gender'], drop_first=True, dtype=int)\n",
    "\n",
    "y = data['Salary']\n",
    "\n",
    "# Define 'X' including all columns of 'Education Level_*' and 'Years of Experience'\n",
    "# Filter columns that start with 'Education Level_'\n",
    "education_columns = [col for col in data if col.startswith('Education Level_')]\n",
    "job_columns = [col for col in data if col.startswith('Job Title_')]\n",
    "\n",
    "X = sm.add_constant(data[education_columns + ['Years of Experience'] + job_columns])\n",
    "\n",
    "from random import choices\n",
    "\n",
    "beta = []\n",
    "n = len(y)\n",
    "for it in range(100):  #we repeat the estimation 100 times\n",
    "    I = choices(list(range(n)), k=n)  # we choose a sample with repetition of the data\n",
    "    ols3 = sm.OLS(y[I], sm.add_constant(X.values[I, :])).fit()  # we fit the model\n",
    "    beta.append(list(ols3.params))  # we save the coefficients\n",
    "beta = np.array(beta)\n",
    "k = len(X.T)\n",
    "for i in range(k):\n",
    "    q025 = np.percentile(beta[:, i], 2.5)  #2.5th percentile\n",
    "    q975 = np.percentile(beta[:, i], 97.5)  #97.5th percentile\n",
    "    mean = np.mean(beta[:, i])  #mean of the betas\n",
    "    sd = np.std(beta[:, i])  #standard deviation of the betas\n",
    "    print(i, mean, [q025, q975])"
   ],
   "outputs": [
    {
     "name": "stdout",
     "output_type": "stream",
     "text": [
      "0 69556.52638963782 [67385.12040175422, 71575.65261433086]\n",
      "1 -19207.180393589886 [-21815.15954427019, -16292.714707039298]\n",
      "2 6037.979241515841 [4297.355678627451, 7791.568872160014]\n",
      "3 8176.559199854626 [5049.772185826304, 11099.32126096231]\n",
      "4 5247.307330869658 [5096.528014446089, 5456.638312991233]\n",
      "5 -7441.451494437321 [-11208.69132667169, -3765.698606959049]\n",
      "6 -30912.94753832021 [-39155.03242749421, -24182.092579605185]\n",
      "7 -21996.79771666229 [-36647.022006909894, 4.986872318996045e-10]\n",
      "8 28262.28592109303 [24644.594335138765, 31969.123267789717]\n",
      "9 30479.029182955524 [25507.975167137192, 33950.10387555359]\n",
      "10 -22349.345996047672 [-25853.43690163264, -19318.466738546726]\n",
      "11 -15528.826738838865 [-19155.038832134058, -12565.120540661226]\n",
      "12 -25461.783152595814 [-27510.714560690623, -23517.480732192034]\n",
      "13 37676.14004489576 [34473.54248874575, 42042.96750522959]\n",
      "14 812.2629751243716 [-4930.468903504545, 6715.135286946888]\n",
      "15 -15866.022962446443 [-18355.92995032185, -12335.048322097568]\n",
      "16 -1116.3545716686747 [-5879.248106301494, 3459.3895791443374]\n",
      "17 -12105.43941997039 [-17404.26951706642, -6998.189866980419]\n",
      "18 -9116.778714824912 [-12908.338774902299, -4153.031254429567]\n",
      "19 16390.588005605456 [11319.331442774004, 22431.94917783621]\n",
      "20 -11926.602160618131 [-14127.671594059024, -9647.008886963034]\n",
      "21 -7633.364105373363 [-10402.652071485869, -4971.422675510515]\n",
      "22 6313.02637646941 [4192.8878295449595, 8845.251202155745]\n",
      "23 -30054.19795600133 [-32130.185740709152, -28136.992934467213]\n",
      "24 -40569.507560606355 [-42411.62069788669, -37981.42887812451]\n",
      "25 -15453.705104609477 [-17858.343930898078, -12792.735851836613]\n",
      "26 -38432.09425888557 [-41792.53023236199, -35012.20947358567]\n",
      "27 -35281.93159713515 [-39687.61839778628, -30869.174697910214]\n",
      "28 -41016.637499282515 [-45133.24125765306, -37538.091739544085]\n",
      "29 -32271.42365677109 [-34669.12216101053, -29491.204227451643]\n",
      "30 -34002.59035546725 [-39196.10025241859, -29120.83264703601]\n",
      "31 -32910.503639444476 [-35860.91291143816, -29756.148006266198]\n",
      "32 -33094.78519621301 [-36565.64077018668, -30265.58935024419]\n",
      "33 -34945.459875473556 [-41822.09648119221, -1.7794179222900598e-11]\n",
      "34 -35783.37461090712 [-40475.64416894876, -30265.592774741734]\n",
      "35 -29800.462469622387 [-31872.81922429879, -27640.30570439149]\n",
      "36 -29120.051457982445 [-40386.7321095359, -3.956567997796529e-11]\n",
      "37 -35987.682271026286 [-43905.04563250037, -30127.48575001823]\n",
      "38 -30859.999830597568 [-38778.05242706043, -12095.016239608034]\n",
      "39 -26137.390572398897 [-32456.25831019963, 6.280637966171656e-11]\n",
      "40 -28698.286011406854 [-32192.364812909156, -25740.099762693608]\n",
      "41 -30629.083008163365 [-33762.75625987825, -27118.76565423876]\n",
      "42 -42244.853969643395 [-44391.310218658626, -40178.47141983291]\n",
      "43 -25921.09600861728 [-29000.158452948723, -23286.79350927646]\n",
      "44 -34305.030183215946 [-36778.44321085606, -32141.197392649905]\n",
      "45 -22231.171171002494 [-27086.771553085062, 1.3188702015904322e-11]\n",
      "46 -15137.900808508306 [-20679.557740059434, 1.113404016806781e-11]\n",
      "47 -22950.212023428274 [-25073.11352404794, -21133.517641095743]\n",
      "48 -20760.92212528883 [-23473.939999010778, -18338.596550948583]\n",
      "49 37005.30450700487 [34045.4483870237, 40584.42567856822]\n",
      "50 -7342.156691557167 [-10552.07400004812, -4911.7406679842425]\n",
      "51 -34256.91117596298 [-59064.17845963747, 4.1647299131036845e-11]\n",
      "52 -15697.787496600782 [-18049.40930502145, -13369.20674769564]\n",
      "53 -25626.48651491536 [-27495.66099280557, -23544.315887641886]\n",
      "54 29089.616915173818 [24742.40217236233, 33020.69954554137]\n",
      "55 5594.568435473923 [836.6329850625588, 9355.49294171311]\n",
      "56 -25349.345996047636 [-28853.436901632194, -22318.466738547086]\n",
      "57 26565.320761624014 [23104.021729781427, 30155.253896724535]\n",
      "58 25243.81051670689 [21299.085679468146, 28770.984373425]\n",
      "59 -23358.308110358004 [-26824.82621843264, -20378.223816510068]\n",
      "60 5422.116078895636 [221.1499271939058, 11383.09503200761]\n",
      "61 -25046.889688143645 [-29318.86202476912, -20863.680629558326]\n",
      "62 -2764.4781179140805 [-10390.866391861879, 4258.744820457914]\n",
      "63 -36333.5777228737 [-39417.826861149464, -33357.523546865574]\n",
      "64 -12715.890913833122 [-16339.706027119544, -9102.25625740651]\n",
      "65 -8266.4635666778 [-15751.571603721406, -1407.8164404430936]\n",
      "66 -14502.172372125782 [-28872.538883105346, 1.1719826310934009e-11]\n",
      "67 -9715.902480371211 [-14810.080568498975, 5.301455221838663e-12]\n",
      "68 13995.335363785847 [9291.426414721993, 18601.954851819002]\n",
      "69 -21733.748684976952 [-28615.728096141145, 2.7058563179135657e-11]\n",
      "70 -12188.909506518774 [-27871.27098922002, -4.081275097546653e-12]\n",
      "71 -12707.144409776047 [-19522.314320035566, -7268.149056441493]\n",
      "72 -15823.62759638871 [-21144.112030550572, -7573.564024915187]\n",
      "73 -25171.414926756777 [-27395.998755442273, -22402.619995452435]\n",
      "74 -14632.748047360701 [-26251.4829932751, -5.793304591398867e-12]\n",
      "75 -19288.38474266009 [-22403.936364236193, -15139.400357846389]\n",
      "76 -29626.178440333824 [-35937.44787094622, -25116.968468451974]\n",
      "77 -17990.79704972445 [-26746.42817923431, -10088.745852974638]\n",
      "78 -14573.095908933055 [-25777.1509260676, -2834.0876129713333]\n",
      "79 -19464.512755916934 [-28016.288527363395, 1.5660825403904757e-11]\n",
      "80 -15966.641200558859 [-18490.172398153198, -13603.621441231937]\n",
      "81 -13416.618604062682 [-21500.914894516518, -2310.873369965844]\n",
      "82 -11127.927789088266 [-21168.85840102159, -4.761437401736581e-12]\n",
      "83 -4462.471306426349 [-13863.203034043618, 6651.92413321695]\n",
      "84 -8970.215510739326 [-13233.254105078326, -4651.769372297459]\n",
      "85 -33670.52387265117 [-51772.81062224758, -21031.848645743885]\n",
      "86 15748.775825285406 [12449.100497747952, 20532.32719766279]\n",
      "87 -21160.746531305624 [-41028.66438237737, -3094.822483597949]\n",
      "88 -1346.3677957861282 [-4521.364553816335, 2641.649893210537]\n",
      "89 -28769.13535662786 [-41651.02839866895, 4.6410200366160925e-14]\n",
      "90 -15427.045282420488 [-22004.04252761881, 4.457802372924074e-12]\n",
      "91 -13563.98366577598 [-19960.091704277642, 7.412987910401023e-13]\n",
      "92 3492.853451854111 [167.82570467413998, 7067.241069155271]\n",
      "93 -23194.299059209643 [-40134.779710104005, 5.928510781638594e-12]\n",
      "94 -4816.12249336011 [-12827.41332553577, 857.0953640572075]\n",
      "95 -29173.932559214936 [-32491.539984344392, -24804.748871291828]\n",
      "96 -22048.125542885504 [-24321.803287861025, -19833.850827642964]\n",
      "97 20077.82456270558 [16071.465149798454, 24546.868218213942]\n",
      "98 11806.212005540629 [7909.945808546625, 15040.505315567618]\n",
      "99 -12604.546228294657 [-23803.013479012094, 0.0]\n",
      "100 -27963.451972421106 [-30397.233549332228, -25974.70158736402]\n"
     ]
    }
   ],
   "execution_count": 115
  },
  {
   "cell_type": "markdown",
   "source": [
    "Initializes an empty beta list to store the results of the coefficients from the bootstrap simulations. Perform 100 bootstrap iterations. In each iteration:\n",
    "- Select a random sample with replacement from the indices of the data (this simulates resampling of the data).\n",
    "- Fit a linear regression model to the resampled sample.\n",
    "- Save the estimated coefficients of the model in the beta list.\n",
    "\n",
    "The calculated percentiles represent the 95% confidence interval limits for the coefficients, based on the bootstrap distribution. The purpose of this process is to estimate the distribution of the regression model coefficients beyond what the model fitted to the original data can provide. Bootstrapping is especially useful when the distribution of the estimators is not known or is difficult to derive analytically. The confidence intervals calculated from the bootstrap distribution can provide a robust measure of the uncertainty in the estimations of the coefficients."
   ],
   "metadata": {
    "collapsed": false
   }
  },
  {
   "cell_type": "code",
   "metadata": {
    "ExecuteTime": {
     "end_time": "2025-05-12T18:57:28.537627Z",
     "start_time": "2025-05-12T18:57:28.507870Z"
    }
   },
   "source": [
    "print(ols1.summary())"
   ],
   "outputs": [
    {
     "name": "stdout",
     "output_type": "stream",
     "text": [
      "                            OLS Regression Results                            \n",
      "==============================================================================\n",
      "Dep. Variable:                 Salary   R-squared:                       0.838\n",
      "Model:                            OLS   Adj. R-squared:                  0.836\n",
      "Method:                 Least Squares   F-statistic:                     336.1\n",
      "Date:                Mon, 12 May 2025   Prob (F-statistic):               0.00\n",
      "Time:                        20:57:28   Log-Likelihood:                -74901.\n",
      "No. Observations:                6582   AIC:                         1.500e+05\n",
      "Df Residuals:                    6481   BIC:                         1.507e+05\n",
      "Df Model:                         100                                         \n",
      "Covariance Type:            nonrobust                                         \n",
      "===================================================================================================================\n",
      "                                                      coef    std err          t      P>|t|      [0.025      0.975]\n",
      "-------------------------------------------------------------------------------------------------------------------\n",
      "const                                            6.955e+04   1451.367     47.923      0.000    6.67e+04    7.24e+04\n",
      "Education Level_High School                     -1.876e+04   2045.676     -9.170      0.000   -2.28e+04   -1.47e+04\n",
      "Education Level_Master's Degree                  6066.2085    816.620      7.428      0.000    4465.363    7667.054\n",
      "Education Level_PhD                              8105.9191   1217.548      6.658      0.000    5719.122    1.05e+04\n",
      "Years of Experience                              5253.0684     65.912     79.698      0.000    5123.859    5382.278\n",
      "Job Title_Content Marketing Manager             -7490.3263   2871.614     -2.608      0.009   -1.31e+04   -1861.014\n",
      "Job Title_Customer Service Representative        -3.11e+04   8959.873     -3.470      0.001   -4.87e+04   -1.35e+04\n",
      "Job Title_Customer Success Representative       -3.481e+04   2.14e+04     -1.627      0.104   -7.67e+04    7124.952\n",
      "Job Title_Data Analyst                           2.816e+04   1776.681     15.850      0.000    2.47e+04    3.16e+04\n",
      "Job Title_Data Scientist                         3.057e+04   1892.863     16.150      0.000    2.69e+04    3.43e+04\n",
      "Job Title_Delivery Driver                        -2.28e+04   9832.997     -2.318      0.020   -4.21e+04   -3519.999\n",
      "Job Title_Digital Marketing Manager             -1.575e+04   3264.252     -4.826      0.000   -2.22e+04   -9352.721\n",
      "Job Title_Digital Marketing Specialist          -2.548e+04   5687.850     -4.480      0.000   -3.66e+04   -1.43e+04\n",
      "Job Title_Director of Data Science               3.769e+04   3353.347     11.240      0.000    3.11e+04    4.43e+04\n",
      "Job Title_Director of Engineering                 924.5900   1.52e+04      0.061      0.951   -2.88e+04    3.07e+04\n",
      "Job Title_Director of HR                        -1.598e+04   2966.092     -5.388      0.000   -2.18e+04   -1.02e+04\n",
      "Job Title_Director of Marketing                 -1137.4606   2729.270     -0.417      0.677   -6487.731    4212.810\n",
      "Job Title_Director of Operations                -1.197e+04   6392.291     -1.872      0.061   -2.45e+04     562.539\n",
      "Job Title_Financial Analyst                     -9352.7067   3686.436     -2.537      0.011   -1.66e+04   -2126.076\n",
      "Job Title_Financial Manager                      1.586e+04   2314.761      6.850      0.000    1.13e+04    2.04e+04\n",
      "Job Title_Front End Developer                   -1.196e+04   4083.743     -2.929      0.003      -2e+04   -3955.771\n",
      "Job Title_Front end Developer                   -7676.6383   1948.518     -3.940      0.000   -1.15e+04   -3856.901\n",
      "Job Title_Full Stack Engineer                    6097.4425   1853.871      3.289      0.001    2463.244    9731.641\n",
      "Job Title_Graphic Designer                      -3.005e+04   4767.772     -6.303      0.000   -3.94e+04   -2.07e+04\n",
      "Job Title_Human Resources Coordinator           -4.057e+04   3377.950    -12.011      0.000   -4.72e+04    -3.4e+04\n",
      "Job Title_Human Resources Manager                -1.56e+04   2516.200     -6.200      0.000   -2.05e+04   -1.07e+04\n",
      "Job Title_Junior Accountant                     -3.887e+04   1.08e+04     -3.611      0.000      -6e+04   -1.78e+04\n",
      "Job Title_Junior Business Analyst               -3.531e+04   7676.941     -4.600      0.000   -5.04e+04   -2.03e+04\n",
      "Job Title_Junior Business Development Associate -4.085e+04   8190.715     -4.987      0.000   -5.69e+04   -2.48e+04\n",
      "Job Title_Junior Data Analyst                   -3.227e+04   4497.359     -7.176      0.000   -4.11e+04   -2.35e+04\n",
      "Job Title_Junior Financial Analyst              -3.422e+04   7676.120     -4.458      0.000   -4.93e+04   -1.92e+04\n",
      "Job Title_Junior HR Coordinator                 -3.319e+04   4372.881     -7.590      0.000   -4.18e+04   -2.46e+04\n",
      "Job Title_Junior HR Generalist                  -3.352e+04   3200.646    -10.473      0.000   -3.98e+04   -2.72e+04\n",
      "Job Title_Junior Marketing Analyst              -3.698e+04   1.24e+04     -2.982      0.003   -6.13e+04   -1.27e+04\n",
      "Job Title_Junior Marketing Coordinator          -3.602e+04   8827.619     -4.080      0.000   -5.33e+04   -1.87e+04\n",
      "Job Title_Junior Marketing Manager              -2.985e+04   3302.351     -9.038      0.000   -3.63e+04   -2.34e+04\n",
      "Job Title_Junior Marketing Specialist           -3.065e+04   1.24e+04     -2.471      0.013    -5.5e+04   -6339.322\n",
      "Job Title_Junior Operations Analyst             -3.656e+04   1.08e+04     -3.397      0.001   -5.77e+04   -1.55e+04\n",
      "Job Title_Junior Product Manager                -3.169e+04   1.08e+04     -2.944      0.003   -5.28e+04   -1.06e+04\n",
      "Job Title_Junior Project Manager                -3.044e+04   1.52e+04     -2.008      0.045   -6.02e+04    -727.494\n",
      "Job Title_Junior Sales Associate                -2.917e+04   2958.868     -9.858      0.000    -3.5e+04   -2.34e+04\n",
      "Job Title_Junior Sales Representative           -3.065e+04   3778.986     -8.110      0.000   -3.81e+04   -2.32e+04\n",
      "Job Title_Junior Software Developer             -4.226e+04   3145.137    -13.436      0.000   -4.84e+04   -3.61e+04\n",
      "Job Title_Junior Software Engineer              -2.588e+04   3313.968     -7.808      0.000   -3.24e+04   -1.94e+04\n",
      "Job Title_Junior Web Developer                  -3.427e+04   3545.214     -9.666      0.000   -4.12e+04   -2.73e+04\n",
      "Job Title_Juniour HR Coordinator                -2.405e+04   1.25e+04     -1.917      0.055   -4.86e+04     544.039\n",
      "Job Title_Juniour HR Generalist                  -1.83e+04   1.53e+04     -1.198      0.231   -4.82e+04    1.16e+04\n",
      "Job Title_Marketing Analyst                     -2.299e+04   2333.857     -9.852      0.000   -2.76e+04   -1.84e+04\n",
      "Job Title_Marketing Coordinator                 -2.097e+04   2188.062     -9.582      0.000   -2.53e+04   -1.67e+04\n",
      "Job Title_Marketing Director                      3.68e+04   3053.889     12.049      0.000    3.08e+04    4.28e+04\n",
      "Job Title_Marketing Manager                     -7372.0868   1957.843     -3.765      0.000   -1.12e+04   -3534.069\n",
      "Job Title_Marketing Specialist                  -5.709e+04   2.14e+04     -2.669      0.008    -9.9e+04   -1.52e+04\n",
      "Job Title_Operations Manager                    -1.565e+04   2461.271     -6.359      0.000   -2.05e+04   -1.08e+04\n",
      "Job Title_Product Designer                      -2.562e+04   2843.214     -9.012      0.000   -3.12e+04      -2e+04\n",
      "Job Title_Product Manager                        2.891e+04   1832.504     15.778      0.000    2.53e+04    3.25e+04\n",
      "Job Title_Project Manager                        5325.9056   4762.708      1.118      0.264   -4010.574    1.47e+04\n",
      "Job Title_Receptionist                           -2.58e+04   3685.134     -7.000      0.000    -3.3e+04   -1.86e+04\n",
      "Job Title_Research Director                       2.67e+04   3017.941      8.847      0.000    2.08e+04    3.26e+04\n",
      "Job Title_Research Scientist                     2.543e+04   3105.801      8.187      0.000    1.93e+04    3.15e+04\n",
      "Job Title_Sales Associate                       -2.378e+04   3394.427     -7.007      0.000   -3.04e+04   -1.71e+04\n",
      "Job Title_Sales Director                         5682.6851   3059.882      1.857      0.063    -315.693    1.17e+04\n",
      "Job Title_Sales Executive                       -2.517e+04   3937.090     -6.392      0.000   -3.29e+04   -1.74e+04\n",
      "Job Title_Sales Manager                         -3522.0409   3196.337     -1.102      0.271   -9787.916    2743.834\n",
      "Job Title_Sales Representative                  -3.622e+04   3743.854     -9.675      0.000   -4.36e+04   -2.89e+04\n",
      "Job Title_Senior Business Analyst               -1.288e+04   6897.733     -1.868      0.062   -2.64e+04     639.779\n",
      "Job Title_Senior Business Development Manager   -8348.6806   1.08e+04     -0.776      0.438   -2.94e+04    1.27e+04\n",
      "Job Title_Senior Data Analyst                   -1.546e+04   1.25e+04     -1.242      0.214   -3.99e+04    8951.524\n",
      "Job Title_Senior Data Engineer                  -1.171e+04   1.52e+04     -0.771      0.441   -4.15e+04    1.81e+04\n",
      "Job Title_Senior Data Scientist                  1.384e+04   3113.515      4.446      0.000    7739.531    1.99e+04\n",
      "Job Title_Senior Engineer                       -2.633e+04   1.52e+04     -1.733      0.083   -5.61e+04    3456.184\n",
      "Job Title_Senior Financial Advisor              -1.381e+04   1.24e+04     -1.113      0.266   -3.81e+04    1.05e+04\n",
      "Job Title_Senior Financial Analyst              -1.258e+04   8186.653     -1.536      0.124   -2.86e+04    3470.245\n",
      "Job Title_Senior Financial Manager              -1.578e+04   9649.398     -1.635      0.102   -3.47e+04    3134.491\n",
      "Job Title_Senior HR Generalist                  -2.545e+04   3599.891     -7.070      0.000   -3.25e+04   -1.84e+04\n",
      "Job Title_Senior HR Manager                      -1.56e+04   1.24e+04     -1.256      0.209      -4e+04    8754.228\n",
      "Job Title_Senior Human Resources Manager        -1.935e+04   3406.970     -5.681      0.000    -2.6e+04   -1.27e+04\n",
      "Job Title_Senior Marketing Analyst              -2.957e+04   7672.240     -3.854      0.000   -4.46e+04   -1.45e+04\n",
      "Job Title_Senior Marketing Manager              -1.816e+04   6331.310     -2.868      0.004   -3.06e+04   -5748.087\n",
      "Job Title_Senior Marketing Specialist           -1.546e+04   1.08e+04     -1.436      0.151   -3.66e+04    5646.675\n",
      "Job Title_Senior Operations Analyst             -2.395e+04   1.52e+04     -1.580      0.114   -5.37e+04    5759.933\n",
      "Job Title_Senior Operations Coordinator         -1.633e+04   1.24e+04     -1.316      0.188   -4.06e+04    7985.890\n",
      "Job Title_Senior Operations Manager             -1.335e+04   1.08e+04     -1.240      0.215   -3.44e+04    7746.800\n",
      "Job Title_Senior Product Designer               -1.161e+04   9709.463     -1.196      0.232   -3.06e+04    7425.453\n",
      "Job Title_Senior Product Manager                -4450.2795   9648.486     -0.461      0.645   -2.34e+04    1.45e+04\n",
      "Job Title_Senior Product Marketing Manager      -8934.9716   2972.144     -3.006      0.003   -1.48e+04   -3108.589\n",
      "Job Title_Senior Project Coordinator            -3.445e+04   9648.486     -3.571      0.000   -5.34e+04   -1.55e+04\n",
      "Job Title_Senior Project Engineer                1.573e+04   1964.408      8.009      0.000    1.19e+04    1.96e+04\n",
      "Job Title_Senior Project Manager                -2.005e+04   8203.268     -2.444      0.015   -3.61e+04   -3966.475\n",
      "Job Title_Senior Research Scientist             -1237.1923   3512.536     -0.352      0.725   -8122.922    5648.538\n",
      "Job Title_Senior Sales Manager                  -3.161e+04   1.52e+04     -2.083      0.037   -6.14e+04   -1855.328\n",
      "Job Title_Senior Scientist                      -1.782e+04   1.52e+04     -1.173      0.241   -4.76e+04     1.2e+04\n",
      "Job Title_Senior Software Developer             -1.507e+04   1.24e+04     -1.214      0.225   -3.94e+04    9259.656\n",
      "Job Title_Senior Software Engineer               3241.8004   2025.774      1.600      0.110    -729.385    7212.986\n",
      "Job Title_Senior Training Specialist            -3.866e+04   2.14e+04     -1.807      0.071   -8.06e+04    3283.814\n",
      "Job Title_Senior UX Designer                    -4958.5032   1.25e+04     -0.398      0.690   -2.94e+04    1.94e+04\n",
      "Job Title_Social Media Manager                  -2.906e+04   5688.394     -5.109      0.000   -4.02e+04   -1.79e+04\n",
      "Job Title_Software Developer                    -2.202e+04   2369.688     -9.294      0.000   -2.67e+04   -1.74e+04\n",
      "Job Title_Software Engineer                      1.985e+04   1679.992     11.813      0.000    1.66e+04    2.31e+04\n",
      "Job Title_Software Engineer Manager              1.164e+04   1987.348      5.855      0.000    7740.649    1.55e+04\n",
      "Job Title_Software Project Manager              -2.183e+04   2.14e+04     -1.021      0.307   -6.38e+04    2.01e+04\n",
      "Job Title_Web Developer                         -2.797e+04   2668.300    -10.481      0.000   -3.32e+04   -2.27e+04\n",
      "==============================================================================\n",
      "Omnibus:                      106.780   Durbin-Watson:                   0.225\n",
      "Prob(Omnibus):                  0.000   Jarque-Bera (JB):              187.680\n",
      "Skew:                          -0.113   Prob(JB):                     1.76e-41\n",
      "Kurtosis:                       3.796   Cond. No.                         834.\n",
      "==============================================================================\n",
      "\n",
      "Notes:\n",
      "[1] Standard Errors assume that the covariance matrix of the errors is correctly specified.\n"
     ]
    }
   ],
   "execution_count": 116
  },
  {
   "cell_type": "code",
   "metadata": {
    "ExecuteTime": {
     "end_time": "2025-05-12T18:57:28.553381Z",
     "start_time": "2025-05-12T18:57:28.538922Z"
    }
   },
   "source": [
    "#GOLDFELD-QUANDT (Muestras Pequeñas)\n",
    "GQ = sms.het_goldfeldquandt(y, sm.add_constant(data[\"Years of Experience\"]), split=1 / 3, drop=1 / 3)\n",
    "print(\"Goldfeld Quandt: \", GQ)"
   ],
   "outputs": [
    {
     "name": "stdout",
     "output_type": "stream",
     "text": [
      "Goldfeld Quandt:  (0.9108367992624629, 0.9855773263736517, 'increasing')\n"
     ]
    }
   ],
   "execution_count": 117
  },
  {
   "cell_type": "markdown",
   "source": [
    "- 0.910837699262646 is the test statistic for the Goldfeld-Quandt.\n",
    "- 0.9855773263763483 is the p-value of the test.\n",
    "\n",
    "Given that the p-value is high, there is not enough evidence to reject the null hypothesis of homoscedasticity, which means that there is no evidence of heteroscedasticity in the data according to this test; therefore, we will continue testing with other variables and methods."
   ],
   "metadata": {
    "collapsed": false
   }
  },
  {
   "cell_type": "code",
   "metadata": {
    "ExecuteTime": {
     "end_time": "2025-05-12T18:57:28.568644Z",
     "start_time": "2025-05-12T18:57:28.554273Z"
    }
   },
   "source": [
    "#GOLDFELD-QUANDT (Muestras Pequeñas)\n",
    "GQ = sms.het_goldfeldquandt(y, sm.add_constant(data[\"Job Title_Data Scientist\"]), split=1 / 3, drop=1 / 3)\n",
    "print(\"Goldfeld Quandt: \", GQ)\n",
    "GQ = sms.het_goldfeldquandt(y, sm.add_constant(data[\"Job Title_Software Engineer\"]), split=1 / 3, drop=1 / 3)\n",
    "print(\"Goldfeld Quandt: \", GQ)\n",
    "GQ = sms.het_goldfeldquandt(y, sm.add_constant(data[\"Job Title_Product Manager\"]), split=1 / 3, drop=1 / 3)\n",
    "print(\"Goldfeld Quandt: \", GQ)"
   ],
   "outputs": [
    {
     "name": "stdout",
     "output_type": "stream",
     "text": [
      "Goldfeld Quandt:  (1.079996969360246, 0.03582525237568214, 'increasing')\n",
      "Goldfeld Quandt:  (0.9406042555898256, 0.9241164212747397, 'increasing')\n",
      "Goldfeld Quandt:  (1.0303003879061037, 0.2423737511305098, 'increasing')\n"
     ]
    }
   ],
   "execution_count": 118
  },
  {
   "cell_type": "code",
   "metadata": {
    "ExecuteTime": {
     "end_time": "2025-05-12T18:57:28.584386Z",
     "start_time": "2025-05-12T18:57:28.569542Z"
    }
   },
   "source": [
    "#GOLDFELD-QUANDT (Muestras Pequeñas)\n",
    "GQ = sms.het_goldfeldquandt(y, sm.add_constant(data[\"Education Level_PhD\"]), split=1 / 3, drop=1 / 3)\n",
    "print(\"Goldfeld Quandt PhD: \", GQ)\n",
    "GQ = sms.het_goldfeldquandt(y, sm.add_constant(data[\"Education Level_Master\\'s Degree\"]), split=1 / 3, drop=1 / 3)\n",
    "print(\"Goldfeld Quandt Master: \", GQ)\n",
    "GQ = sms.het_goldfeldquandt(y, sm.add_constant(data[\"Education Level_High School\"]), split=1 / 3, drop=1 / 3)\n",
    "print(\"Goldfeld Quandt HS: \", GQ)"
   ],
   "outputs": [
    {
     "name": "stdout",
     "output_type": "stream",
     "text": [
      "Goldfeld Quandt PhD:  (0.8573587850660621, 0.999841192601101, 'increasing')\n",
      "Goldfeld Quandt Master:  (0.9859492655103055, 0.6297581076460388, 'increasing')\n",
      "Goldfeld Quandt HS:  (1.193158224426772, 1.8056629526716686e-05, 'increasing')\n"
     ]
    }
   ],
   "execution_count": 119
  },
  {
   "cell_type": "markdown",
   "source": [
    "With a few more tests, we observed how the p-value for 'Education Level_High School' is minuscule. A p-value below a common significance level (like 0.05 or 0.01) indicates that there is sufficient evidence to reject the null hypothesis that the variance of the residuals is constant throughout the range of the data, that is, that there is heteroscedasticity. However, to confirm the hypothesis, we corroborate it with other techniques for detecting heteroscedasticity."
   ],
   "metadata": {
    "collapsed": false
   }
  },
  {
   "cell_type": "code",
   "metadata": {
    "ExecuteTime": {
     "end_time": "2025-05-12T18:57:28.599693Z",
     "start_time": "2025-05-12T18:57:28.585892Z"
    }
   },
   "source": [
    "print(y)"
   ],
   "outputs": [
    {
     "name": "stdout",
     "output_type": "stream",
     "text": [
      "0       155795\n",
      "1       155795\n",
      "2       155795\n",
      "3       155795\n",
      "4       155000\n",
      "         ...  \n",
      "6577     69032\n",
      "6578     62852\n",
      "6579     62852\n",
      "6580    104127\n",
      "6581    104127\n",
      "Name: Salary, Length: 6582, dtype: int64\n"
     ]
    }
   ],
   "execution_count": 120
  },
  {
   "cell_type": "code",
   "metadata": {
    "ExecuteTime": {
     "end_time": "2025-05-12T18:57:28.691664Z",
     "start_time": "2025-05-12T18:57:28.600997Z"
    }
   },
   "source": [
    "#BREUSH-PAGAN\n",
    "BP = sms.het_breuschpagan(ols1.resid, ols1.model.exog)\n",
    "print(\"Breush Pagan: \", BP)"
   ],
   "outputs": [
    {
     "name": "stdout",
     "output_type": "stream",
     "text": [
      "Breush Pagan:  (2636.2711196503446, 0.0, 43.30169062436905, 0.0)\n"
     ]
    }
   ],
   "execution_count": 121
  },
  {
   "cell_type": "code",
   "metadata": {
    "ExecuteTime": {
     "end_time": "2025-05-12T19:02:02.911048Z",
     "start_time": "2025-05-12T18:57:28.692665Z"
    }
   },
   "source": [
    "#WHITE\n",
    "W = sms.het_white(ols1.resid, ols1.model.exog)\n",
    "print(\"White: \", W)"
   ],
   "outputs": [
    {
     "name": "stdout",
     "output_type": "stream",
     "text": [
      "White:  (4182.396997153987, 0.0, 41.87065265112898, 0.0)\n"
     ]
    }
   ],
   "execution_count": 122
  },
  {
   "cell_type": "markdown",
   "metadata": {},
   "source": [
    "**In both cases, the reported p-values are 0.0, indicating that there is significant statistical evidence to reject the null hypothesis that the errors are homoscedastic (have constant variances). This means that the results of both tests point to the presence of heteroscedasticity in the residuals of the model.**"
   ]
  },
  {
   "cell_type": "code",
   "metadata": {
    "ExecuteTime": {
     "end_time": "2025-05-12T19:02:02.942023Z",
     "start_time": "2025-05-12T19:02:02.911048Z"
    }
   },
   "source": [
    "print(ols1.summary())"
   ],
   "outputs": [
    {
     "name": "stdout",
     "output_type": "stream",
     "text": [
      "                            OLS Regression Results                            \n",
      "==============================================================================\n",
      "Dep. Variable:                 Salary   R-squared:                       0.838\n",
      "Model:                            OLS   Adj. R-squared:                  0.836\n",
      "Method:                 Least Squares   F-statistic:                     336.1\n",
      "Date:                Mon, 12 May 2025   Prob (F-statistic):               0.00\n",
      "Time:                        21:02:02   Log-Likelihood:                -74901.\n",
      "No. Observations:                6582   AIC:                         1.500e+05\n",
      "Df Residuals:                    6481   BIC:                         1.507e+05\n",
      "Df Model:                         100                                         \n",
      "Covariance Type:            nonrobust                                         \n",
      "===================================================================================================================\n",
      "                                                      coef    std err          t      P>|t|      [0.025      0.975]\n",
      "-------------------------------------------------------------------------------------------------------------------\n",
      "const                                            6.955e+04   1451.367     47.923      0.000    6.67e+04    7.24e+04\n",
      "Education Level_High School                     -1.876e+04   2045.676     -9.170      0.000   -2.28e+04   -1.47e+04\n",
      "Education Level_Master's Degree                  6066.2085    816.620      7.428      0.000    4465.363    7667.054\n",
      "Education Level_PhD                              8105.9191   1217.548      6.658      0.000    5719.122    1.05e+04\n",
      "Years of Experience                              5253.0684     65.912     79.698      0.000    5123.859    5382.278\n",
      "Job Title_Content Marketing Manager             -7490.3263   2871.614     -2.608      0.009   -1.31e+04   -1861.014\n",
      "Job Title_Customer Service Representative        -3.11e+04   8959.873     -3.470      0.001   -4.87e+04   -1.35e+04\n",
      "Job Title_Customer Success Representative       -3.481e+04   2.14e+04     -1.627      0.104   -7.67e+04    7124.952\n",
      "Job Title_Data Analyst                           2.816e+04   1776.681     15.850      0.000    2.47e+04    3.16e+04\n",
      "Job Title_Data Scientist                         3.057e+04   1892.863     16.150      0.000    2.69e+04    3.43e+04\n",
      "Job Title_Delivery Driver                        -2.28e+04   9832.997     -2.318      0.020   -4.21e+04   -3519.999\n",
      "Job Title_Digital Marketing Manager             -1.575e+04   3264.252     -4.826      0.000   -2.22e+04   -9352.721\n",
      "Job Title_Digital Marketing Specialist          -2.548e+04   5687.850     -4.480      0.000   -3.66e+04   -1.43e+04\n",
      "Job Title_Director of Data Science               3.769e+04   3353.347     11.240      0.000    3.11e+04    4.43e+04\n",
      "Job Title_Director of Engineering                 924.5900   1.52e+04      0.061      0.951   -2.88e+04    3.07e+04\n",
      "Job Title_Director of HR                        -1.598e+04   2966.092     -5.388      0.000   -2.18e+04   -1.02e+04\n",
      "Job Title_Director of Marketing                 -1137.4606   2729.270     -0.417      0.677   -6487.731    4212.810\n",
      "Job Title_Director of Operations                -1.197e+04   6392.291     -1.872      0.061   -2.45e+04     562.539\n",
      "Job Title_Financial Analyst                     -9352.7067   3686.436     -2.537      0.011   -1.66e+04   -2126.076\n",
      "Job Title_Financial Manager                      1.586e+04   2314.761      6.850      0.000    1.13e+04    2.04e+04\n",
      "Job Title_Front End Developer                   -1.196e+04   4083.743     -2.929      0.003      -2e+04   -3955.771\n",
      "Job Title_Front end Developer                   -7676.6383   1948.518     -3.940      0.000   -1.15e+04   -3856.901\n",
      "Job Title_Full Stack Engineer                    6097.4425   1853.871      3.289      0.001    2463.244    9731.641\n",
      "Job Title_Graphic Designer                      -3.005e+04   4767.772     -6.303      0.000   -3.94e+04   -2.07e+04\n",
      "Job Title_Human Resources Coordinator           -4.057e+04   3377.950    -12.011      0.000   -4.72e+04    -3.4e+04\n",
      "Job Title_Human Resources Manager                -1.56e+04   2516.200     -6.200      0.000   -2.05e+04   -1.07e+04\n",
      "Job Title_Junior Accountant                     -3.887e+04   1.08e+04     -3.611      0.000      -6e+04   -1.78e+04\n",
      "Job Title_Junior Business Analyst               -3.531e+04   7676.941     -4.600      0.000   -5.04e+04   -2.03e+04\n",
      "Job Title_Junior Business Development Associate -4.085e+04   8190.715     -4.987      0.000   -5.69e+04   -2.48e+04\n",
      "Job Title_Junior Data Analyst                   -3.227e+04   4497.359     -7.176      0.000   -4.11e+04   -2.35e+04\n",
      "Job Title_Junior Financial Analyst              -3.422e+04   7676.120     -4.458      0.000   -4.93e+04   -1.92e+04\n",
      "Job Title_Junior HR Coordinator                 -3.319e+04   4372.881     -7.590      0.000   -4.18e+04   -2.46e+04\n",
      "Job Title_Junior HR Generalist                  -3.352e+04   3200.646    -10.473      0.000   -3.98e+04   -2.72e+04\n",
      "Job Title_Junior Marketing Analyst              -3.698e+04   1.24e+04     -2.982      0.003   -6.13e+04   -1.27e+04\n",
      "Job Title_Junior Marketing Coordinator          -3.602e+04   8827.619     -4.080      0.000   -5.33e+04   -1.87e+04\n",
      "Job Title_Junior Marketing Manager              -2.985e+04   3302.351     -9.038      0.000   -3.63e+04   -2.34e+04\n",
      "Job Title_Junior Marketing Specialist           -3.065e+04   1.24e+04     -2.471      0.013    -5.5e+04   -6339.322\n",
      "Job Title_Junior Operations Analyst             -3.656e+04   1.08e+04     -3.397      0.001   -5.77e+04   -1.55e+04\n",
      "Job Title_Junior Product Manager                -3.169e+04   1.08e+04     -2.944      0.003   -5.28e+04   -1.06e+04\n",
      "Job Title_Junior Project Manager                -3.044e+04   1.52e+04     -2.008      0.045   -6.02e+04    -727.494\n",
      "Job Title_Junior Sales Associate                -2.917e+04   2958.868     -9.858      0.000    -3.5e+04   -2.34e+04\n",
      "Job Title_Junior Sales Representative           -3.065e+04   3778.986     -8.110      0.000   -3.81e+04   -2.32e+04\n",
      "Job Title_Junior Software Developer             -4.226e+04   3145.137    -13.436      0.000   -4.84e+04   -3.61e+04\n",
      "Job Title_Junior Software Engineer              -2.588e+04   3313.968     -7.808      0.000   -3.24e+04   -1.94e+04\n",
      "Job Title_Junior Web Developer                  -3.427e+04   3545.214     -9.666      0.000   -4.12e+04   -2.73e+04\n",
      "Job Title_Juniour HR Coordinator                -2.405e+04   1.25e+04     -1.917      0.055   -4.86e+04     544.039\n",
      "Job Title_Juniour HR Generalist                  -1.83e+04   1.53e+04     -1.198      0.231   -4.82e+04    1.16e+04\n",
      "Job Title_Marketing Analyst                     -2.299e+04   2333.857     -9.852      0.000   -2.76e+04   -1.84e+04\n",
      "Job Title_Marketing Coordinator                 -2.097e+04   2188.062     -9.582      0.000   -2.53e+04   -1.67e+04\n",
      "Job Title_Marketing Director                      3.68e+04   3053.889     12.049      0.000    3.08e+04    4.28e+04\n",
      "Job Title_Marketing Manager                     -7372.0868   1957.843     -3.765      0.000   -1.12e+04   -3534.069\n",
      "Job Title_Marketing Specialist                  -5.709e+04   2.14e+04     -2.669      0.008    -9.9e+04   -1.52e+04\n",
      "Job Title_Operations Manager                    -1.565e+04   2461.271     -6.359      0.000   -2.05e+04   -1.08e+04\n",
      "Job Title_Product Designer                      -2.562e+04   2843.214     -9.012      0.000   -3.12e+04      -2e+04\n",
      "Job Title_Product Manager                        2.891e+04   1832.504     15.778      0.000    2.53e+04    3.25e+04\n",
      "Job Title_Project Manager                        5325.9056   4762.708      1.118      0.264   -4010.574    1.47e+04\n",
      "Job Title_Receptionist                           -2.58e+04   3685.134     -7.000      0.000    -3.3e+04   -1.86e+04\n",
      "Job Title_Research Director                       2.67e+04   3017.941      8.847      0.000    2.08e+04    3.26e+04\n",
      "Job Title_Research Scientist                     2.543e+04   3105.801      8.187      0.000    1.93e+04    3.15e+04\n",
      "Job Title_Sales Associate                       -2.378e+04   3394.427     -7.007      0.000   -3.04e+04   -1.71e+04\n",
      "Job Title_Sales Director                         5682.6851   3059.882      1.857      0.063    -315.693    1.17e+04\n",
      "Job Title_Sales Executive                       -2.517e+04   3937.090     -6.392      0.000   -3.29e+04   -1.74e+04\n",
      "Job Title_Sales Manager                         -3522.0409   3196.337     -1.102      0.271   -9787.916    2743.834\n",
      "Job Title_Sales Representative                  -3.622e+04   3743.854     -9.675      0.000   -4.36e+04   -2.89e+04\n",
      "Job Title_Senior Business Analyst               -1.288e+04   6897.733     -1.868      0.062   -2.64e+04     639.779\n",
      "Job Title_Senior Business Development Manager   -8348.6806   1.08e+04     -0.776      0.438   -2.94e+04    1.27e+04\n",
      "Job Title_Senior Data Analyst                   -1.546e+04   1.25e+04     -1.242      0.214   -3.99e+04    8951.524\n",
      "Job Title_Senior Data Engineer                  -1.171e+04   1.52e+04     -0.771      0.441   -4.15e+04    1.81e+04\n",
      "Job Title_Senior Data Scientist                  1.384e+04   3113.515      4.446      0.000    7739.531    1.99e+04\n",
      "Job Title_Senior Engineer                       -2.633e+04   1.52e+04     -1.733      0.083   -5.61e+04    3456.184\n",
      "Job Title_Senior Financial Advisor              -1.381e+04   1.24e+04     -1.113      0.266   -3.81e+04    1.05e+04\n",
      "Job Title_Senior Financial Analyst              -1.258e+04   8186.653     -1.536      0.124   -2.86e+04    3470.245\n",
      "Job Title_Senior Financial Manager              -1.578e+04   9649.398     -1.635      0.102   -3.47e+04    3134.491\n",
      "Job Title_Senior HR Generalist                  -2.545e+04   3599.891     -7.070      0.000   -3.25e+04   -1.84e+04\n",
      "Job Title_Senior HR Manager                      -1.56e+04   1.24e+04     -1.256      0.209      -4e+04    8754.228\n",
      "Job Title_Senior Human Resources Manager        -1.935e+04   3406.970     -5.681      0.000    -2.6e+04   -1.27e+04\n",
      "Job Title_Senior Marketing Analyst              -2.957e+04   7672.240     -3.854      0.000   -4.46e+04   -1.45e+04\n",
      "Job Title_Senior Marketing Manager              -1.816e+04   6331.310     -2.868      0.004   -3.06e+04   -5748.087\n",
      "Job Title_Senior Marketing Specialist           -1.546e+04   1.08e+04     -1.436      0.151   -3.66e+04    5646.675\n",
      "Job Title_Senior Operations Analyst             -2.395e+04   1.52e+04     -1.580      0.114   -5.37e+04    5759.933\n",
      "Job Title_Senior Operations Coordinator         -1.633e+04   1.24e+04     -1.316      0.188   -4.06e+04    7985.890\n",
      "Job Title_Senior Operations Manager             -1.335e+04   1.08e+04     -1.240      0.215   -3.44e+04    7746.800\n",
      "Job Title_Senior Product Designer               -1.161e+04   9709.463     -1.196      0.232   -3.06e+04    7425.453\n",
      "Job Title_Senior Product Manager                -4450.2795   9648.486     -0.461      0.645   -2.34e+04    1.45e+04\n",
      "Job Title_Senior Product Marketing Manager      -8934.9716   2972.144     -3.006      0.003   -1.48e+04   -3108.589\n",
      "Job Title_Senior Project Coordinator            -3.445e+04   9648.486     -3.571      0.000   -5.34e+04   -1.55e+04\n",
      "Job Title_Senior Project Engineer                1.573e+04   1964.408      8.009      0.000    1.19e+04    1.96e+04\n",
      "Job Title_Senior Project Manager                -2.005e+04   8203.268     -2.444      0.015   -3.61e+04   -3966.475\n",
      "Job Title_Senior Research Scientist             -1237.1923   3512.536     -0.352      0.725   -8122.922    5648.538\n",
      "Job Title_Senior Sales Manager                  -3.161e+04   1.52e+04     -2.083      0.037   -6.14e+04   -1855.328\n",
      "Job Title_Senior Scientist                      -1.782e+04   1.52e+04     -1.173      0.241   -4.76e+04     1.2e+04\n",
      "Job Title_Senior Software Developer             -1.507e+04   1.24e+04     -1.214      0.225   -3.94e+04    9259.656\n",
      "Job Title_Senior Software Engineer               3241.8004   2025.774      1.600      0.110    -729.385    7212.986\n",
      "Job Title_Senior Training Specialist            -3.866e+04   2.14e+04     -1.807      0.071   -8.06e+04    3283.814\n",
      "Job Title_Senior UX Designer                    -4958.5032   1.25e+04     -0.398      0.690   -2.94e+04    1.94e+04\n",
      "Job Title_Social Media Manager                  -2.906e+04   5688.394     -5.109      0.000   -4.02e+04   -1.79e+04\n",
      "Job Title_Software Developer                    -2.202e+04   2369.688     -9.294      0.000   -2.67e+04   -1.74e+04\n",
      "Job Title_Software Engineer                      1.985e+04   1679.992     11.813      0.000    1.66e+04    2.31e+04\n",
      "Job Title_Software Engineer Manager              1.164e+04   1987.348      5.855      0.000    7740.649    1.55e+04\n",
      "Job Title_Software Project Manager              -2.183e+04   2.14e+04     -1.021      0.307   -6.38e+04    2.01e+04\n",
      "Job Title_Web Developer                         -2.797e+04   2668.300    -10.481      0.000   -3.32e+04   -2.27e+04\n",
      "==============================================================================\n",
      "Omnibus:                      106.780   Durbin-Watson:                   0.225\n",
      "Prob(Omnibus):                  0.000   Jarque-Bera (JB):              187.680\n",
      "Skew:                          -0.113   Prob(JB):                     1.76e-41\n",
      "Kurtosis:                       3.796   Cond. No.                         834.\n",
      "==============================================================================\n",
      "\n",
      "Notes:\n",
      "[1] Standard Errors assume that the covariance matrix of the errors is correctly specified.\n"
     ]
    }
   ],
   "execution_count": 123
  },
  {
   "cell_type": "code",
   "metadata": {
    "ExecuteTime": {
     "end_time": "2025-05-12T19:02:03.741309Z",
     "start_time": "2025-05-12T19:02:02.942023Z"
    }
   },
   "source": [
    "#GLEJSER\n",
    "for h in [-2, -1, -0.5, 0.5, 1, 2]:\n",
    "    # Make sure there are no zeros in the data before raising to a negative power\n",
    "    X_nonzero = X.replace(0, np.nan)  # Replace 0 with NaN to avoid divisions by zero\n",
    "    X_transformed = X_nonzero.astype(float) ** h  # Raise to the power of h\n",
    "    X_transformed = X_transformed.fillna(0)  # Replace NaNs with 0s if necessary, depending on the context\n",
    "    X_transformed = X_transformed.replace([np.inf, -np.inf], np.nan)  # Replace inf with NaN\n",
    "    X_transformed = X_transformed.dropna(axis=1, how='all')  # Remove columns where all values are NaN\n",
    "\n",
    "    olsaux = sm.OLS(abs(ols1.resid), sm.add_constant(X_transformed)).fit()\n",
    "    beta3 = olsaux.params\n",
    "    pval = beta3.iloc[1]\n",
    "    print(\"h: \", h, \"-> pval:\", pval, \"R2: \", olsaux.rsquared)\n"
   ],
   "outputs": [
    {
     "name": "stdout",
     "output_type": "stream",
     "text": [
      "h:  -2 -> pval: -1121.3066387636766 R2:  0.523435149723871\n",
      "h:  -1 -> pval: -954.6005847245269 R2:  0.5238683473871594\n",
      "h:  -0.5 -> pval: -895.6405674438104 R2:  0.5261917096444171\n",
      "h:  0.5 -> pval: 22.2876609596417 R2:  0.5362475062627842\n",
      "h:  1 -> pval: -464.81184625297635 R2:  0.5447958389819474\n",
      "h:  2 -> pval: -1413.3507550998138 R2:  0.5603255756532204\n"
     ]
    }
   ],
   "execution_count": 124
  },
  {
   "cell_type": "markdown",
   "metadata": {},
   "source": [
    "<div class=\"alert alert-info\">\n",
    "    <strong>Note:</strong> The Glejser test is a method used to detect heteroscedasticity in the errors of a regression model. It specifically looks for relationships between the absolute values of the residuals of a regression model and the independent variables or transformations of these variables. If there is a significant relationship, it suggests that the variance of the errors changes with the level of the independent variable, which is a form of heteroscedasticity.\n",
    "</div>"
   ]
  },
  {
   "cell_type": "markdown",
   "metadata": {},
   "source": [
    "For h= −2, the p-value is very small, suggesting that there is a significant relationship between the residuals and the independent variables raised to the power of -2, indicating heteroscedasticity.\n",
    "This pattern repeats for other values of h, with very small p-values, indicating that heteroscedasticity is consistently detected for various transformations of the independent variables."
   ]
  },
  {
   "cell_type": "code",
   "metadata": {
    "ExecuteTime": {
     "end_time": "2025-05-12T19:02:03.866248Z",
     "start_time": "2025-05-12T19:02:03.741309Z"
    }
   },
   "source": [
    "mcp = sm.WLS(y, sm.add_constant(X), weights=1 / y).fit()\n",
    "print(mcp.summary())"
   ],
   "outputs": [
    {
     "name": "stdout",
     "output_type": "stream",
     "text": [
      "                            WLS Regression Results                            \n",
      "==============================================================================\n",
      "Dep. Variable:                 Salary   R-squared:                       0.883\n",
      "Model:                            WLS   Adj. R-squared:                  0.881\n",
      "Method:                 Least Squares   F-statistic:                     487.7\n",
      "Date:                Mon, 12 May 2025   Prob (F-statistic):               0.00\n",
      "Time:                        21:02:03   Log-Likelihood:                -74134.\n",
      "No. Observations:                6582   AIC:                         1.485e+05\n",
      "Df Residuals:                    6481   BIC:                         1.492e+05\n",
      "Df Model:                         100                                         \n",
      "Covariance Type:            nonrobust                                         \n",
      "===================================================================================================================\n",
      "                                                      coef    std err          t      P>|t|      [0.025      0.975]\n",
      "-------------------------------------------------------------------------------------------------------------------\n",
      "const                                            6.261e+04   1224.783     51.119      0.000    6.02e+04     6.5e+04\n",
      "Education Level_High School                     -1.002e+04   1274.483     -7.862      0.000   -1.25e+04   -7521.364\n",
      "Education Level_Master's Degree                  4908.4627    721.685      6.801      0.000    3493.721    6323.204\n",
      "Education Level_PhD                              3682.5283   1185.617      3.106      0.002    1358.327    6006.729\n",
      "Years of Experience                              6001.8176     66.255     90.587      0.000    5871.937    6131.699\n",
      "Job Title_Content Marketing Manager             -1.059e+04   2597.783     -4.078      0.000   -1.57e+04   -5500.590\n",
      "Job Title_Customer Service Representative       -3.197e+04   4653.347     -6.871      0.000   -4.11e+04   -2.29e+04\n",
      "Job Title_Customer Success Representative       -2.861e+04    1.2e+04     -2.389      0.017   -5.21e+04   -5132.220\n",
      "Job Title_Data Analyst                           2.762e+04   1587.560     17.401      0.000    2.45e+04    3.07e+04\n",
      "Job Title_Data Scientist                         3.031e+04   1825.528     16.606      0.000    2.67e+04    3.39e+04\n",
      "Job Title_Delivery Driver                       -2.459e+04   4755.423     -5.171      0.000   -3.39e+04   -1.53e+04\n",
      "Job Title_Digital Marketing Manager             -1.941e+04   2564.784     -7.566      0.000   -2.44e+04   -1.44e+04\n",
      "Job Title_Digital Marketing Specialist          -2.126e+04   4047.472     -5.254      0.000   -2.92e+04   -1.33e+04\n",
      "Job Title_Director of Data Science               3.634e+04   3944.375      9.213      0.000    2.86e+04    4.41e+04\n",
      "Job Title_Director of Engineering               -3940.6560   1.79e+04     -0.220      0.826   -3.91e+04    3.12e+04\n",
      "Job Title_Director of HR                        -1.556e+04   2805.039     -5.547      0.000   -2.11e+04   -1.01e+04\n",
      "Job Title_Director of Marketing                 -5607.4373   2593.413     -2.162      0.031   -1.07e+04    -523.491\n",
      "Job Title_Director of Operations                -1.845e+04   7327.092     -2.517      0.012   -3.28e+04   -4081.613\n",
      "Job Title_Financial Analyst                     -7645.5287   2946.047     -2.595      0.009   -1.34e+04   -1870.303\n",
      "Job Title_Financial Manager                       477.1918   2104.970      0.227      0.821   -3649.245    4603.628\n",
      "Job Title_Front End Developer                   -8375.4274   3187.009     -2.628      0.009   -1.46e+04   -2127.838\n",
      "Job Title_Front end Developer                   -5491.3828   1588.296     -3.457      0.001   -8604.967   -2377.799\n",
      "Job Title_Full Stack Engineer                    7083.4947   1676.699      4.225      0.000    3796.611    1.04e+04\n",
      "Job Title_Graphic Designer                      -2.458e+04   3073.711     -7.998      0.000   -3.06e+04   -1.86e+04\n",
      "Job Title_Human Resources Coordinator           -3.476e+04   2255.788    -15.411      0.000   -3.92e+04   -3.03e+04\n",
      "Job Title_Human Resources Manager               -1.696e+04   2216.910     -7.649      0.000   -2.13e+04   -1.26e+04\n",
      "Job Title_Junior Accountant                     -3.357e+04   6204.246     -5.411      0.000   -4.57e+04   -2.14e+04\n",
      "Job Title_Junior Business Analyst               -3.141e+04   4766.882     -6.590      0.000   -4.08e+04   -2.21e+04\n",
      "Job Title_Junior Business Development Associate -3.614e+04   4651.482     -7.770      0.000   -4.53e+04    -2.7e+04\n",
      "Job Title_Junior Data Analyst                   -2.719e+04   2951.215     -9.214      0.000    -3.3e+04   -2.14e+04\n",
      "Job Title_Junior Financial Analyst              -3.075e+04   4987.236     -6.166      0.000   -4.05e+04    -2.1e+04\n",
      "Job Title_Junior HR Coordinator                 -3.254e+04   2546.508    -12.780      0.000   -3.75e+04   -2.76e+04\n",
      "Job Title_Junior HR Generalist                  -3.197e+04   1963.318    -16.282      0.000   -3.58e+04   -2.81e+04\n",
      "Job Title_Junior Marketing Analyst              -3.293e+04   7330.935     -4.492      0.000   -4.73e+04   -1.86e+04\n",
      "Job Title_Junior Marketing Coordinator          -3.151e+04   5334.129     -5.908      0.000    -4.2e+04   -2.11e+04\n",
      "Job Title_Junior Marketing Manager              -2.646e+04   2398.669    -11.031      0.000   -3.12e+04   -2.18e+04\n",
      "Job Title_Junior Marketing Specialist            -2.83e+04   8443.831     -3.352      0.001   -4.49e+04   -1.18e+04\n",
      "Job Title_Junior Operations Analyst             -3.285e+04   6562.675     -5.006      0.000   -4.57e+04      -2e+04\n",
      "Job Title_Junior Product Manager                -2.829e+04   7040.676     -4.017      0.000   -4.21e+04   -1.45e+04\n",
      "Job Title_Junior Project Manager                -2.609e+04   1.02e+04     -2.568      0.010    -4.6e+04   -6172.254\n",
      "Job Title_Junior Sales Associate                -3.205e+04   1844.935    -17.371      0.000   -3.57e+04   -2.84e+04\n",
      "Job Title_Junior Sales Representative           -3.011e+04   2203.311    -13.664      0.000   -3.44e+04   -2.58e+04\n",
      "Job Title_Junior Software Developer             -3.647e+04   1906.618    -19.128      0.000   -4.02e+04   -3.27e+04\n",
      "Job Title_Junior Software Engineer               -2.04e+04   2221.105     -9.186      0.000   -2.48e+04    -1.6e+04\n",
      "Job Title_Junior Web Developer                  -2.946e+04   2271.274    -12.970      0.000   -3.39e+04    -2.5e+04\n",
      "Job Title_Juniour HR Coordinator                -2.659e+04   6369.872     -4.175      0.000   -3.91e+04   -1.41e+04\n",
      "Job Title_Juniour HR Generalist                 -2.159e+04   8889.054     -2.429      0.015    -3.9e+04   -4168.100\n",
      "Job Title_Marketing Analyst                       -1.9e+04   1753.271    -10.838      0.000   -2.24e+04   -1.56e+04\n",
      "Job Title_Marketing Coordinator                 -2.029e+04   1742.205    -11.646      0.000   -2.37e+04   -1.69e+04\n",
      "Job Title_Marketing Director                     3.424e+04   3424.005     10.001      0.000    2.75e+04     4.1e+04\n",
      "Job Title_Marketing Manager                     -1.076e+04   1720.582     -6.253      0.000   -1.41e+04   -7386.417\n",
      "Job Title_Marketing Specialist                  -5.763e+04   1.52e+04     -3.781      0.000   -8.75e+04   -2.78e+04\n",
      "Job Title_Operations Manager                    -1.586e+04   2085.057     -7.608      0.000      -2e+04   -1.18e+04\n",
      "Job Title_Product Designer                      -2.048e+04   2017.934    -10.148      0.000   -2.44e+04   -1.65e+04\n",
      "Job Title_Product Manager                        1.967e+04   1654.473     11.891      0.000    1.64e+04    2.29e+04\n",
      "Job Title_Project Manager                        5779.5095   4532.982      1.275      0.202   -3106.631    1.47e+04\n",
      "Job Title_Receptionist                          -2.759e+04   2071.844    -13.317      0.000   -3.17e+04   -2.35e+04\n",
      "Job Title_Research Director                      2.952e+04   3204.863      9.211      0.000    2.32e+04    3.58e+04\n",
      "Job Title_Research Scientist                     2.677e+04   3311.672      8.084      0.000    2.03e+04    3.33e+04\n",
      "Job Title_Sales Associate                       -2.649e+04   2062.765    -12.842      0.000   -3.05e+04   -2.24e+04\n",
      "Job Title_Sales Director                          397.0101   2814.043      0.141      0.888   -5119.443    5913.463\n",
      "Job Title_Sales Executive                       -2.615e+04   2366.225    -11.052      0.000   -3.08e+04   -2.15e+04\n",
      "Job Title_Sales Manager                          -1.58e+04   2506.534     -6.304      0.000   -2.07e+04   -1.09e+04\n",
      "Job Title_Sales Representative                  -3.229e+04   2300.676    -14.034      0.000   -3.68e+04   -2.78e+04\n",
      "Job Title_Senior Business Analyst               -1.309e+04   6413.781     -2.041      0.041   -2.57e+04    -517.559\n",
      "Job Title_Senior Business Development Manager   -8214.6638   9884.985     -0.831      0.406   -2.76e+04    1.12e+04\n",
      "Job Title_Senior Data Analyst                   -1.756e+04   1.36e+04     -1.287      0.198   -4.43e+04    9185.787\n",
      "Job Title_Senior Data Engineer                  -1.232e+04   1.64e+04     -0.751      0.453   -4.45e+04    1.98e+04\n",
      "Job Title_Senior Data Scientist                  1.361e+04   3190.847      4.266      0.000    7355.931    1.99e+04\n",
      "Job Title_Senior Engineer                       -2.557e+04   1.51e+04     -1.698      0.090   -5.51e+04    3948.848\n",
      "Job Title_Senior Financial Advisor              -1.122e+04   1.05e+04     -1.066      0.286   -3.19e+04    9414.177\n",
      "Job Title_Senior Financial Analyst              -1.272e+04   7531.484     -1.688      0.091   -2.75e+04    2047.972\n",
      "Job Title_Senior Financial Manager              -1.608e+04   8467.985     -1.898      0.058   -3.27e+04     523.920\n",
      "Job Title_Senior HR Generalist                  -2.326e+04   2997.701     -7.761      0.000   -2.91e+04   -1.74e+04\n",
      "Job Title_Senior HR Manager                     -1.906e+04   1.34e+04     -1.424      0.154   -4.53e+04    7169.827\n",
      "Job Title_Senior Human Resources Manager        -1.843e+04   3012.229     -6.119      0.000   -2.43e+04   -1.25e+04\n",
      "Job Title_Senior Marketing Analyst              -2.857e+04   6355.314     -4.496      0.000    -4.1e+04   -1.61e+04\n",
      "Job Title_Senior Marketing Manager              -2.027e+04   6085.496     -3.332      0.001   -3.22e+04   -8345.330\n",
      "Job Title_Senior Marketing Specialist           -1.585e+04   9367.097     -1.692      0.091   -3.42e+04    2511.275\n",
      "Job Title_Senior Operations Analyst             -2.262e+04   1.23e+04     -1.833      0.067   -4.68e+04    1570.351\n",
      "Job Title_Senior Operations Coordinator         -1.462e+04   1.04e+04     -1.407      0.159    -3.5e+04    5743.544\n",
      "Job Title_Senior Operations Manager             -1.324e+04   9699.950     -1.364      0.172   -3.23e+04    5779.548\n",
      "Job Title_Senior Product Designer               -1.224e+04   1.04e+04     -1.179      0.239   -3.26e+04    8112.201\n",
      "Job Title_Senior Product Manager                -6640.8678   9196.782     -0.722      0.470   -2.47e+04    1.14e+04\n",
      "Job Title_Senior Product Marketing Manager      -1.087e+04   2728.072     -3.984      0.000   -1.62e+04   -5520.536\n",
      "Job Title_Senior Project Coordinator            -3.631e+04   8155.946     -4.452      0.000   -5.23e+04   -2.03e+04\n",
      "Job Title_Senior Project Engineer                1.114e+04   1870.882      5.956      0.000    7475.917    1.48e+04\n",
      "Job Title_Senior Project Manager                -2.326e+04   8188.248     -2.841      0.005   -3.93e+04   -7210.176\n",
      "Job Title_Senior Research Scientist              1520.1156   3541.387      0.429      0.668   -5422.173    8462.404\n",
      "Job Title_Senior Sales Manager                  -3.796e+04   1.54e+04     -2.464      0.014   -6.82e+04   -7765.257\n",
      "Job Title_Senior Scientist                       -1.44e+04   1.44e+04     -1.003      0.316   -4.26e+04    1.38e+04\n",
      "Job Title_Senior Software Developer              -1.45e+04   1.18e+04     -1.227      0.220   -3.76e+04    8656.878\n",
      "Job Title_Senior Software Engineer               1127.9854   1952.027      0.578      0.563   -2698.632    4954.603\n",
      "Job Title_Senior Training Specialist            -3.954e+04   1.89e+04     -2.094      0.036   -7.66e+04   -2515.758\n",
      "Job Title_Senior UX Designer                    -5520.6810   1.36e+04     -0.405      0.685   -3.22e+04    2.12e+04\n",
      "Job Title_Social Media Manager                  -2.523e+04   3851.972     -6.551      0.000   -3.28e+04   -1.77e+04\n",
      "Job Title_Software Developer                    -1.769e+04   1788.298     -9.890      0.000   -2.12e+04   -1.42e+04\n",
      "Job Title_Software Engineer                      8216.2766   1424.843      5.766      0.000    5423.115     1.1e+04\n",
      "Job Title_Software Engineer Manager              8934.4652   1934.761      4.618      0.000    5141.696    1.27e+04\n",
      "Job Title_Software Project Manager              -2.163e+04   1.84e+04     -1.175      0.240   -5.77e+04    1.45e+04\n",
      "Job Title_Web Developer                         -2.468e+04   1973.021    -12.509      0.000   -2.85e+04   -2.08e+04\n",
      "==============================================================================\n",
      "Omnibus:                      197.778   Durbin-Watson:                   0.246\n",
      "Prob(Omnibus):                  0.000   Jarque-Bera (JB):              455.840\n",
      "Skew:                          -0.144   Prob(JB):                     1.04e-99\n",
      "Kurtosis:                       4.257   Cond. No.                         667.\n",
      "==============================================================================\n",
      "\n",
      "Notes:\n",
      "[1] Standard Errors assume that the covariance matrix of the errors is correctly specified.\n"
     ]
    }
   ],
   "execution_count": 125
  },
  {
   "cell_type": "markdown",
   "metadata": {},
   "source": [
    "**Since with ols1 we are not achieving the desired results in heteroscedasticity, nor by applying other regression models such as weighted least squares (WLS), let's try with a variant of ordinary least squares regression which we will call ols2**"
   ]
  },
  {
   "cell_type": "markdown",
   "metadata": {},
   "source": [
    "### OLS2"
   ]
  },
  {
   "cell_type": "markdown",
   "metadata": {},
   "source": [
    "Let's refresh our memory about ols2"
   ]
  },
  {
   "cell_type": "code",
   "metadata": {
    "ExecuteTime": {
     "end_time": "2025-05-12T19:02:03.905906Z",
     "start_time": "2025-05-12T19:02:03.867472Z"
    }
   },
   "source": [
    "data = pd.read_csv('Salary_Data - Copy.csv')\n",
    "data = pd.get_dummies(data, columns=['Education Level', 'Job Title'], drop_first=True, dtype=int)\n",
    "y = data['Salary']\n",
    "\n",
    "# Define 'X' including all columns of 'Education Level_*' and 'Years of Experience'\n",
    "# Filter columns that start with 'Education Level_'\n",
    "education_columns = [col for col in data if col.startswith('Education Level_')]\n",
    "job_columns = [col for col in data if col.startswith('Job Title_')]\n",
    "\n",
    "X = sm.add_constant(data[['Years of Experience'] + job_columns + education_columns])\n",
    "\n",
    "ols2 = sm.OLS(y, X).fit()\n",
    "print(ols2.summary())"
   ],
   "outputs": [
    {
     "name": "stdout",
     "output_type": "stream",
     "text": [
      "                            OLS Regression Results                            \n",
      "==============================================================================\n",
      "Dep. Variable:                 Salary   R-squared:                       0.775\n",
      "Model:                            OLS   Adj. R-squared:                  0.775\n",
      "Method:                 Least Squares   F-statistic:                     1408.\n",
      "Date:                Mon, 12 May 2025   Prob (F-statistic):               0.00\n",
      "Time:                        21:02:03   Log-Likelihood:                -70773.\n",
      "No. Observations:                6131   AIC:                         1.416e+05\n",
      "Df Residuals:                    6115   BIC:                         1.417e+05\n",
      "Df Model:                          15                                         \n",
      "Covariance Type:            nonrobust                                         \n",
      "===================================================================================================\n",
      "                                      coef    std err          t      P>|t|      [0.025      0.975]\n",
      "---------------------------------------------------------------------------------------------------\n",
      "const                            3.978e+04   1855.546     21.438      0.000    3.61e+04    4.34e+04\n",
      "Years of Experience              5702.4450     69.497     82.053      0.000    5566.206    5838.684\n",
      "Job Title_ Engineer              3.939e+04   2061.615     19.105      0.000    3.53e+04    4.34e+04\n",
      "Job Title_Analyst                4.802e+04   2223.863     21.592      0.000    4.37e+04    5.24e+04\n",
      "Job Title_Developer              1.714e+04   2101.444      8.158      0.000     1.3e+04    2.13e+04\n",
      "Job Title_Engineer                3.13e+04   2152.967     14.540      0.000    2.71e+04    3.55e+04\n",
      "Job Title_Financial              3.834e+04   2846.217     13.469      0.000    3.28e+04    4.39e+04\n",
      "Job Title_HR                     1509.3093   2299.274      0.656      0.512   -2998.076    6016.695\n",
      "Job Title_Marketing              1.584e+04   2109.874      7.505      0.000    1.17e+04       2e+04\n",
      "Job Title_Marketing Analyst      4531.4356   2788.854      1.625      0.104    -935.699    9998.570\n",
      "Job Title_Product                4.334e+04   2264.885     19.136      0.000    3.89e+04    4.78e+04\n",
      "Job Title_Sales                  1.217e+04   2474.134      4.918      0.000    7318.305     1.7e+04\n",
      "Job Title_Scientist              5.035e+04   2270.999     22.169      0.000    4.59e+04    5.48e+04\n",
      "Education Level_High School     -2.638e+04   1827.176    -14.436      0.000      -3e+04   -2.28e+04\n",
      "Education Level_Master's Degree  9344.5829    877.210     10.653      0.000    7624.943    1.11e+04\n",
      "Education Level_PhD              8379.1765   1209.790      6.926      0.000    6007.561    1.08e+04\n",
      "==============================================================================\n",
      "Omnibus:                       29.978   Durbin-Watson:                   0.206\n",
      "Prob(Omnibus):                  0.000   Jarque-Bera (JB):               33.898\n",
      "Skew:                           0.120   Prob(JB):                     4.36e-08\n",
      "Kurtosis:                       3.274   Cond. No.                         213.\n",
      "==============================================================================\n",
      "\n",
      "Notes:\n",
      "[1] Standard Errors assume that the covariance matrix of the errors is correctly specified.\n"
     ]
    }
   ],
   "execution_count": 126
  },
  {
   "cell_type": "code",
   "metadata": {
    "ExecuteTime": {
     "end_time": "2025-05-12T19:02:03.921834Z",
     "start_time": "2025-05-12T19:02:03.907058Z"
    }
   },
   "source": [
    "#BREUSH-PAGAN\n",
    "BP = sms.het_breuschpagan(ols2.resid, ols2.model.exog)\n",
    "print(\"Breush Pagan: \", BP)"
   ],
   "outputs": [
    {
     "name": "stdout",
     "output_type": "stream",
     "text": [
      "Breush Pagan:  (1366.2155434108906, 3.063779161951745e-282, 116.89102447442268, 2.464e-320)\n"
     ]
    }
   ],
   "execution_count": 127
  },
  {
   "cell_type": "code",
   "metadata": {
    "ExecuteTime": {
     "end_time": "2025-05-12T19:02:04.063697Z",
     "start_time": "2025-05-12T19:02:03.921834Z"
    }
   },
   "source": [
    "#WHITE\n",
    "W = sms.het_white(ols2.resid, ols2.model.exog)\n",
    "print(\"White: \", W)"
   ],
   "outputs": [
    {
     "name": "stdout",
     "output_type": "stream",
     "text": [
      "White:  (2635.813463260848, 0.0, 84.85321823594849, 0.0)\n"
     ]
    }
   ],
   "execution_count": 128
  },
  {
   "cell_type": "code",
   "metadata": {
    "ExecuteTime": {
     "end_time": "2025-05-12T19:02:04.079617Z",
     "start_time": "2025-05-12T19:02:04.065206Z"
    }
   },
   "source": [
    "from statsmodels.stats.stattools import durbin_watson\n",
    "\n",
    "dw = durbin_watson(ols2.resid)\n",
    "print(dw)"
   ],
   "outputs": [
    {
     "name": "stdout",
     "output_type": "stream",
     "text": [
      "0.20593535621887013\n"
     ]
    }
   ],
   "execution_count": 129
  },
  {
   "cell_type": "markdown",
   "metadata": {},
   "source": [
    "**Although there is an improvement in ols2 compared to ols1, we see that the tests still indicate the presence of heteroscedasticity. Additionally, we observe in the Durbin-Watson factor that we have autocorrelation problems as it is far from 2**\n",
    "\n",
    "**In summary: we still have problems with heteroscedasticity and autocorrelation. These will be addressed next.**"
   ]
  },
  {
   "cell_type": "markdown",
   "metadata": {},
   "source": [
    "## Cleaning data for ols2"
   ]
  },
  {
   "cell_type": "code",
   "metadata": {
    "ExecuteTime": {
     "end_time": "2025-05-12T19:02:04.126902Z",
     "start_time": "2025-05-12T19:02:04.079617Z"
    }
   },
   "source": [
    "from scipy.stats import boxcox\n",
    "\n",
    "data = pd.read_csv('Salary_Data - Copy2.csv')\n",
    "data = pd.get_dummies(data, columns=['Education Level', 'Job Title'], drop_first=True, dtype=int)\n",
    "\n",
    "#y, lambda_opt = boxcox((data['Salary']))\n",
    "y = np.sqrt(data['Salary'])\n",
    "#y = np.log(data['Salary'])\n",
    "\n",
    "job_columns = [col for col in data if col.startswith('Job Title_')]\n",
    "\n",
    "X = sm.add_constant(data[['Years of Experience'] + job_columns])\n",
    "\n",
    "ols2 = sm.OLS(y, X).fit()\n",
    "print(ols2.summary())"
   ],
   "outputs": [
    {
     "name": "stdout",
     "output_type": "stream",
     "text": [
      "                            OLS Regression Results                            \n",
      "==============================================================================\n",
      "Dep. Variable:                 Salary   R-squared:                       0.749\n",
      "Model:                            OLS   Adj. R-squared:                  0.749\n",
      "Method:                 Least Squares   F-statistic:                     1758.\n",
      "Date:                Mon, 12 May 2025   Prob (F-statistic):               0.00\n",
      "Time:                        21:02:04   Log-Likelihood:                -27323.\n",
      "No. Observations:                5302   AIC:                         5.467e+04\n",
      "Df Residuals:                    5292   BIC:                         5.473e+04\n",
      "Df Model:                           9                                         \n",
      "Covariance Type:            nonrobust                                         \n",
      "=======================================================================================\n",
      "                          coef    std err          t      P>|t|      [0.025      0.975]\n",
      "---------------------------------------------------------------------------------------\n",
      "const                 222.3769      3.523     63.124      0.000     215.471     229.283\n",
      "Years of Experience     8.6388      0.106     81.403      0.000       8.431       8.847\n",
      "Job Title_Analyst      73.8746      4.067     18.167      0.000      65.903      81.847\n",
      "Job Title_Developer    16.6029      3.791      4.379      0.000       9.171      24.035\n",
      "Job Title_Engineer     55.2099      3.717     14.853      0.000      47.923      62.497\n",
      "Job Title_Financial    52.9590      5.021     10.548      0.000      43.116      62.802\n",
      "Job Title_HR            0.1728      4.097      0.042      0.966      -7.859       8.204\n",
      "Job Title_Product      63.8514      4.108     15.543      0.000      55.798      71.905\n",
      "Job Title_Sales       -29.4730      4.023     -7.325      0.000     -37.361     -21.585\n",
      "Job Title_Scientist    81.4878      3.949     20.635      0.000      73.746      89.229\n",
      "==============================================================================\n",
      "Omnibus:                        0.763   Durbin-Watson:                   2.024\n",
      "Prob(Omnibus):                  0.683   Jarque-Bera (JB):                0.713\n",
      "Skew:                           0.007   Prob(JB):                        0.700\n",
      "Kurtosis:                       3.055   Cond. No.                         190.\n",
      "==============================================================================\n",
      "\n",
      "Notes:\n",
      "[1] Standard Errors assume that the covariance matrix of the errors is correctly specified.\n"
     ]
    }
   ],
   "execution_count": 130
  },
  {
   "cell_type": "markdown",
   "source": [
    "Re-analyzing the model summary we can finally see that we have managed to reduce the Jarque-Bera to low values, this has been achieved by eliminating more variables that did not contribute to the model such as 'Education Level' and using transformations to the dependent variable. Based on testing, we have found that the optimal transformation in our case is the square root, we left commented to test the transformation by logarithms and boxcox. We also highlight that we created a new copy of the data called 'Salary_Data - Copy2.csv' in which we even more randomized the data, grouping each position by its department.\n",
    "\n",
    "   - Skew: A value of 0.010 indicates that the distribution of the residuals is very symmetrical.\n",
    "   - Kurtosis: A value of 3.094 is very close to 3, which is the kurtosis of a normal distribution, indicating a form of distribution of reasonably normal residuals.\n",
    "   - Jarque-Bera (JB): A low value of 2.045 and a p-value of 0.360 suggest there is not enough evidence to reject the hypothesis of normality of the residuals, thus we have solved the problem of heteroscedasticity.\n",
    "\n",
    "In summary, the residuals of the model seem to be distributed in a relatively normal manner based on the Jarque-Bera test, thus concluding our optimization of the model in terms of heteroscedasticity."
   ],
   "metadata": {
    "collapsed": false
   }
  },
  {
   "cell_type": "code",
   "metadata": {
    "ExecuteTime": {
     "end_time": "2025-05-12T19:02:04.404991Z",
     "start_time": "2025-05-12T19:02:04.126902Z"
    }
   },
   "source": [
    "corr_matrix = np.corrcoef(X.T)\n",
    "smg.plot_corr(corr_matrix, X)\n",
    "plt.show()"
   ],
   "outputs": [
    {
     "name": "stderr",
     "output_type": "stream",
     "text": [
      "C:\\Users\\matth\\AppData\\Local\\Programs\\Python\\Python310\\lib\\site-packages\\numpy\\lib\\function_base.py:2897: RuntimeWarning: invalid value encountered in divide\n",
      "  c /= stddev[:, None]\n",
      "C:\\Users\\matth\\AppData\\Local\\Programs\\Python\\Python310\\lib\\site-packages\\numpy\\lib\\function_base.py:2898: RuntimeWarning: invalid value encountered in divide\n",
      "  c /= stddev[None, :]\n"
     ]
    },
    {
     "data": {
      "text/plain": [
       "<Figure size 640x480 with 2 Axes>"
      ],
      "image/png": "[encoded data removed]"
     },
     "metadata": {},
     "output_type": "display_data"
    }
   ],
   "execution_count": 131
  },
  {
   "cell_type": "markdown",
   "metadata": {},
   "source": [
    "# Autocorrelation"
   ]
  },
  {
   "cell_type": "code",
   "metadata": {
    "ExecuteTime": {
     "end_time": "2025-05-12T19:02:04.417292Z",
     "start_time": "2025-05-12T19:02:04.406051Z"
    }
   },
   "source": [
    "from statsmodels.stats.stattools import durbin_watson\n",
    "\n",
    "dw = durbin_watson(ols2.resid)\n",
    "print(dw)"
   ],
   "outputs": [
    {
     "name": "stdout",
     "output_type": "stream",
     "text": [
      "2.02376437217848\n"
     ]
    }
   ],
   "execution_count": 132
  },
  {
   "cell_type": "markdown",
   "source": [
    "Finally, we see how the value of Durbin-Watson has become approximately 2.0237643721784795 compared to its previous version which was approximately 0.2059353521688824 and as we already know a value close to 2 suggests that there is no autocorrelation.\n",
    "\n",
    "This problem has been solved simply by randomizing the data of the database, since, when manipulating them previously we had ordered them and they were serialized around one of its variables. To maintain the previous process and view the evolution of the model, we created a new copy of the data called 'Salary_Data - Copy2.csv' in which we also further group the data, grouping each position by department."
   ],
   "metadata": {
    "collapsed": false
   }
  },
  {
   "cell_type": "markdown",
   "metadata": {},
   "source": [
    "\n",
    "---\n"
   ]
  },
  {
   "cell_type": "markdown",
   "source": [
    "# Predictions"
   ],
   "metadata": {
    "collapsed": false
   }
  },
  {
   "cell_type": "code",
   "source": [
    "# New DataFrame for the input data\n",
    "input_data = pd.DataFrame({\n",
    "    'const': 1,\n",
    "    'Years of Experience': [10],  # The number of years of experience\n",
    "    'Job Title_Analyst': [0],     # and then a series of flags for job title, all set to 0...\n",
    "    'Job Title_Developer': [0],   # ...except for the one corresponding to the job title of interest.\n",
    "    'Job Title_Engineer': [1],\n",
    "    'Job Title_Financial': [0],\n",
    "    'Job Title_HR': [0],\n",
    "    'Job Title_Product': [0],\n",
    "    'Job Title_Sales': [0],\n",
    "    'Job Title_Scientist': [0]\n",
    "})\n",
    "\n",
    "# Predict the salary using the fitted model\n",
    "sqrt_predicted_salary = ols2.predict(input_data)\n",
    "# Revert the square root transformation by squaring the predicted salary\n",
    "predicted_salary = np.power(sqrt_predicted_salary, 2)\n",
    "\n",
    "print(f\"The predicted salary is: {predicted_salary:}\")"
   ],
   "metadata": {
    "collapsed": false,
    "ExecuteTime": {
     "end_time": "2025-05-12T19:02:04.433057Z",
     "start_time": "2025-05-12T19:02:04.417292Z"
    }
   },
   "outputs": [
    {
     "name": "stdout",
     "output_type": "stream",
     "text": [
      "The predicted salary is: 0    132477.627032\n",
      "dtype: float64\n"
     ]
    }
   ],
   "execution_count": 133
  },
  {
   "metadata": {},
   "cell_type": "markdown",
   "source": [
    "\n",
    "---\n"
   ]
  },
  {
   "metadata": {},
   "cell_type": "markdown",
   "source": "## Model Comparison & Salary Range Estimation"
  },
  {
   "metadata": {},
   "cell_type": "markdown",
   "source": "Now that we’ve preprocessed, cleaned, and built a working preliminary model, let’s explore two different algorithms to see if we can improve our salary predictions. We’ll train both a Linear Regression and a Random Forest Regressor, then compare their performance using R² (as a percentage “accuracy”) and Mean Squared Error (MSE). Finally, we’ll reverse the square‐root transformation to obtain salary predictions on the original scale and compute a simple prediction range by adding and subtracting the standard error of the model residuals.\n"
  },
  {
   "metadata": {
    "ExecuteTime": {
     "end_time": "2025-05-12T19:02:04.700895Z",
     "start_time": "2025-05-12T19:02:04.433057Z"
    }
   },
   "cell_type": "code",
   "source": [
    "from sklearn.linear_model    import LinearRegression\n",
    "from sklearn.ensemble        import RandomForestRegressor\n",
    "from sklearn.metrics         import r2_score, mean_squared_error\n",
    "from sklearn.model_selection import train_test_split\n",
    "import numpy as np\n",
    "\n",
    "# —– 1) Split your data —–\n",
    "X_train, X_test, y_train, y_test = train_test_split(X, y,\n",
    "    test_size=0.2, random_state=42)\n",
    "\n",
    "# —– 2) Define models —–\n",
    "models = {\n",
    "    'LinearRegression': LinearRegression(),\n",
    "    'RandomForest'    : RandomForestRegressor(n_estimators=100, random_state=42)\n",
    "}\n",
    "\n",
    "# —– 3) Train, evaluate & print metrics —–\n",
    "for name, model in models.items():\n",
    "    model.fit(X_train, y_train)\n",
    "    preds = model.predict(X_test)\n",
    "\n",
    "    r2   = r2_score(y_test, preds)\n",
    "    mse  = mean_squared_error(y_test, preds)\n",
    "    std  = np.std(y_test - preds)**2              # StdErr \n",
    "    acc  = r2 * 100                             # “% accuracy”\n",
    "\n",
    "    print(f\"{name}: R2={r2:.3f} ({acc:.1f}%),  MSE={mse:.3f},  StdErr={std:.3f}\")\n",
    "\n",
    "    # —– 4) Salary range for first test sample —–\n",
    "    y_hat    = preds[0]                        # sqrt-salary prediction\n",
    "    salary   = y_hat**2                        # back to original scale\n",
    "    lower    = salary - std\n",
    "    upper    = salary + std\n",
    "    print(\n",
    "      f\"  → Sample 0: Predicted salary = ${salary:,.0f}  \"\n",
    "      f\"Range = [${lower:,.0f}, ${upper:,.0f}]\\n\"\n",
    "    )"
   ],
   "outputs": [
    {
     "name": "stdout",
     "output_type": "stream",
     "text": [
      "LinearRegression: R2=0.739 (73.9%),  MSE=1775.097,  StdErr=1773.272\n",
      "  → Sample 0: Predicted salary = $94,286  Range = [$92,513, $96,059]\n",
      "\n",
      "RandomForest: R2=0.895 (89.5%),  MSE=713.655,  StdErr=712.404\n",
      "  → Sample 0: Predicted salary = $106,912  Range = [$106,200, $107,625]\n",
      "\n"
     ]
    }
   ],
   "execution_count": 134
  },
  {
   "metadata": {},
   "cell_type": "markdown",
   "source": [
    "### Experiment Summary\n",
    "\n",
    "In this test, we trained and evaluated both Linear Regression and a Random Forest Regressor on our square-rooted salary data. The Random Forest model delivered a markedly higher R² (89.5% vs. 73.9%), a lower MSE, and a much tighter residual spread, resulting in more reliable salary ranges once we back-transformed to dollars. These results demonstrate that the non-linear ensemble approach better captures the underlying patterns in our features and should be preferred for our final salary predictions.\n"
   ]
  },
  {
   "cell_type": "markdown",
   "metadata": {},
   "source": [
    "# Final Conclusions:"
   ]
  },
  {
   "cell_type": "markdown",
   "source": [
    "Final Conclusions:\n",
    "\n",
    "1. Significance of Predictors:\n",
    "   - Years of experience and specific job positions have proven to be significant predictors of salaries, which indicates that both factors are important in determining an employee's compensation.\n",
    "   - The regression coefficients for the job positions reflect the salary differences between professions, adjusted for work experience.\n",
    "\n",
    "2. Model Adjustment:\n",
    "   - The model shows a good overall fit, with an adjusted R-squared indicating that a substantial proportion of the variability in salaries can be explained by the variables included in the model.\n",
    "   - The diagnostics of the residuals suggest that the assumption of normality is reasonably well maintained and although there were indications of autocorrelation and heteroscedasticity, they were corrected.\n",
    "\n",
    "3. Multicollinearity Diagnosis:\n",
    "   - An extremely high multicollinearity was discovered due to the large number of initial variables in the data (+200).\n",
    "   - Two clean-ups on the data were carried out that drastically reduced the condition number and significantly reduced multicollinearity.\n",
    "\n",
    "4. Heteroscedasticity Diagnosis:\n",
    "   - Heteroscedasticity was detected in the residuals, which led to the application of transformations and the use of robust standard errors to correct for heteroscedasticity.\n",
    "   - Transformations such as the square root, logarithmic, and Box-Cox were applied to stabilize the variance of the residuals and correct for heteroscedasticity, concluding that the square root was the most optimal.\n",
    "\n",
    "5. Autocorrelation Diagnosis:\n",
    "   - Signs of autocorrelation were found in the residuals, which resulted in an error in the data that was serialized around a variable.\n",
    "   - To solve this, it was only necessary to randomize the data of the database, since they had been previously ordered and serialized around one of its variables. To maintain the previous process and see the evolution of the model we have created a separate database from the one used above and we have called it 'Salary_Data - Copy2.csv'\n",
    "6. Model Comparison & Prediction Intervals\n",
    "   - The Random Forest Regressor clearly outperforms our baseline Linear Regression, achieving an R² of 0.895 (89.5%) versus 0.739 (73.9%), and roughly 60% lower MSE (713.7 vs. 1775.1).\n",
    "   - Its residual standard deviation (≈\\$712) is also much smaller than Linear Regression’s (≈\\$1,773), yielding tighter ± range bands when we back‐transform to dollar salaries. The takeaway is that a non-linear ensemble model like Random Forest can, and normally will, substantially improve both the goodness-of-fit and the reliability of our salary range estimates, and should be the model of choice.\n"
   ],
   "metadata": {
    "collapsed": false
   }
  },
  {
   "cell_type": "markdown",
   "metadata": {},
   "source": [
    "**END**"
   ]
  }
 ],
 "metadata": {
  "kernelspec": {
   "display_name": "Python 3 (ipykernel)",
   "language": "python",
   "name": "python3"
  },
  "language_info": {
   "codemirror_mode": {
    "name": "ipython",
    "version": 3
   },
   "file_extension": ".py",
   "mimetype": "text/x-python",
   "name": "python",
   "nbconvert_exporter": "python",
   "pygments_lexer": "ipython3",
   "version": "3.11.5"
  }
 },
 "nbformat": 4,
 "nbformat_minor": 1
}
